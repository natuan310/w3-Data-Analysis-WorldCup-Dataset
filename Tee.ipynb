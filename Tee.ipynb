{
  "nbformat": 4,
  "nbformat_minor": 0,
  "metadata": {
    "kernelspec": {
      "display_name": "Python 3",
      "language": "python",
      "name": "python3"
    },
    "language_info": {
      "codemirror_mode": {
        "name": "ipython",
        "version": 3
      },
      "file_extension": ".py",
      "mimetype": "text/x-python",
      "name": "python",
      "nbconvert_exporter": "python",
      "pygments_lexer": "ipython3",
      "version": "3.6.9-final"
    },
    "colab": {
      "name": "Tee.ipynb",
      "provenance": [],
      "include_colab_link": true
    }
  },
  "cells": [
    {
      "cell_type": "markdown",
      "metadata": {
        "id": "view-in-github",
        "colab_type": "text"
      },
      "source": [
        "<a href=\"https://colab.research.google.com/github/natuan310/w3-Data-Analysis-WorldCup-Dataset/blob/master/Tee.ipynb\" target=\"_parent\"><img src=\"https://colab.research.google.com/assets/colab-badge.svg\" alt=\"Open In Colab\"/></a>"
      ]
    },
    {
      "cell_type": "code",
      "metadata": {
        "id": "cwIAA0c32xh6",
        "colab_type": "code",
        "outputId": "7c48a136-36d5-40a1-8738-7f83997f966c",
        "colab": {
          "base_uri": "https://localhost:8080/",
          "height": 34
        }
      },
      "source": [
        "from google.colab import drive\n",
        "drive.mount('/content/gdrive')"
      ],
      "execution_count": 16,
      "outputs": [
        {
          "output_type": "stream",
          "text": [
            "Drive already mounted at /content/gdrive; to attempt to forcibly remount, call drive.mount(\"/content/gdrive\", force_remount=True).\n"
          ],
          "name": "stdout"
        }
      ]
    },
    {
      "cell_type": "code",
      "metadata": {
        "id": "aABPGUtZxSc0",
        "colab_type": "code",
        "colab": {}
      },
      "source": [
        ""
      ],
      "execution_count": 0,
      "outputs": []
    },
    {
      "cell_type": "code",
      "metadata": {
        "id": "dRzUB7mp2u7C",
        "colab_type": "code",
        "colab": {}
      },
      "source": [
        "import numpy as np\n",
        "import pandas as pd\n",
        "import seaborn as sns\n",
        "import matplotlib.pyplot as plt\n",
        "\n",
        "import warnings\n",
        "warnings.filterwarnings('ignore')\n",
        "\n",
        "sns.set_style(\"whitegrid\")"
      ],
      "execution_count": 0,
      "outputs": []
    },
    {
      "cell_type": "code",
      "metadata": {
        "id": "kYMQA1S43ySK",
        "colab_type": "code",
        "colab": {}
      },
      "source": [
        "# working on GG Drive csv data\n",
        "# wc = pd.read_csv('/content/gdrive/My Drive/Colab Notebooks/Dataset/fifa-world-cup/WorldCups.csv')\n",
        "mch = pd.read_csv('/content/gdrive/My Drive/Colab Notebooks/Dataset/fifa-world-cup/WorldCupMatches.csv')\n",
        "# pls = pd.read_csv('/content/gdrive/My Drive/Colab Notebooks/Dataset/fifa-world-cup/WorldCupPlayers.csv')"
      ],
      "execution_count": 0,
      "outputs": []
    },
    {
      "cell_type": "code",
      "metadata": {
        "id": "2mahOA9JweIy",
        "colab_type": "code",
        "colab": {}
      },
      "source": [
        "# # working on local csv data\n",
        "# wc = pd.read_csv('/media/tee/Data/Coder School/_tonga/week3/w3-Data-Analysis-WorldCup-Dataset/Data/WorldCups.csv')\n",
        "# mch = pd.read_csv('/media/tee/Data/Coder School/_tonga/week3/w3-Data-Analysis-WorldCup-Dataset/Data/WorldCupMatches.csv')\n",
        "# pls = pd.read_csv('/media/tee/Data/Coder School/_tonga/week3/w3-Data-Analysis-WorldCup-Dataset/Data/WorldCupPlayers.csv')"
      ],
      "execution_count": 0,
      "outputs": []
    },
    {
      "cell_type": "markdown",
      "metadata": {
        "id": "MueGUnJPw7nl",
        "colab_type": "text"
      },
      "source": [
        "---\n",
        "# Week 3 Project - Data Analysis - World Cup Dataset\n"
      ]
    },
    {
      "cell_type": "markdown",
      "metadata": {
        "id": "iO8NnSqDxV-K",
        "colab_type": "text"
      },
      "source": [
        "---\n",
        "I. Project Infomation\n",
        "\n",
        "    - Data about FIFA World Cup from 1930 to 2014.\n",
        "    - Dataset has infomation about the league, matches and players.\n",
        "    - This project is about using the data to show a picture about the FIFA World Cup for every football fan all around the world.\n"
      ]
    },
    {
      "cell_type": "markdown",
      "metadata": {
        "id": "eON3E8k1y-2U",
        "colab_type": "text"
      },
      "source": [
        "---\n",
        "II. Data Infomation\n",
        "    \n",
        "    - Data sets include 3 tables"
      ]
    },
    {
      "cell_type": "markdown",
      "metadata": {
        "id": "a9CFKwq0zLyq",
        "colab_type": "text"
      },
      "source": [
        "---\n",
        "<div>\n",
        "<p style=\"text-align: center;\"><strong>\n",
        "1 - Worldcups: Infomation about each FIFA World Cup.\n",
        "</strong></p> \n",
        "\n",
        "| Column Name    | Description                        | Data Type |\n",
        "| -------------- | ---------------------------------- | --------- |\n",
        "| Year           | Year of the worldcup               | int64     |\n",
        "| Country        | Country of the worldcup            | object    |\n",
        "| Winner         | Team who won the worldcup          | object    |\n",
        "| Runners-Up     | Team who was the second place      | object    |\n",
        "| Third          | Team who was the third place       | object    |\n",
        "| Fourth         | Team who was the fourth place      | object    |\n",
        "| GoalsScored    | Total goals scored in the worldcup | int64     |\n",
        "| QualifiedTeams | Total participating teams          | int64     |\n",
        "| MatchesPlayed  | Total matches played in the cup    | int64     |\n",
        "| Attendance     | Total attendance of the worldcup   | object    |\n",
        "\n",
        "</div>"
      ]
    },
    {
      "cell_type": "code",
      "metadata": {
        "id": "C-OvZyYv6q8v",
        "colab_type": "code",
        "outputId": "5f43ea95-526e-4b8f-b0a6-5cd3d796a982",
        "colab": {
          "base_uri": "https://localhost:8080/",
          "height": 77
        }
      },
      "source": [
        "wc.sample(1)"
      ],
      "execution_count": 20,
      "outputs": [
        {
          "output_type": "execute_result",
          "data": {
            "text/html": [
              "<div>\n",
              "<style scoped>\n",
              "    .dataframe tbody tr th:only-of-type {\n",
              "        vertical-align: middle;\n",
              "    }\n",
              "\n",
              "    .dataframe tbody tr th {\n",
              "        vertical-align: top;\n",
              "    }\n",
              "\n",
              "    .dataframe thead th {\n",
              "        text-align: right;\n",
              "    }\n",
              "</style>\n",
              "<table border=\"1\" class=\"dataframe\">\n",
              "  <thead>\n",
              "    <tr style=\"text-align: right;\">\n",
              "      <th></th>\n",
              "      <th>Year</th>\n",
              "      <th>Country</th>\n",
              "      <th>Winner</th>\n",
              "      <th>Runners-Up</th>\n",
              "      <th>Third</th>\n",
              "      <th>Fourth</th>\n",
              "      <th>GoalsScored</th>\n",
              "      <th>QualifiedTeams</th>\n",
              "      <th>MatchesPlayed</th>\n",
              "      <th>Attendance</th>\n",
              "    </tr>\n",
              "  </thead>\n",
              "  <tbody>\n",
              "    <tr>\n",
              "      <th>19</th>\n",
              "      <td>2014</td>\n",
              "      <td>Brazil</td>\n",
              "      <td>Germany</td>\n",
              "      <td>Argentina</td>\n",
              "      <td>Netherlands</td>\n",
              "      <td>Brazil</td>\n",
              "      <td>171</td>\n",
              "      <td>32</td>\n",
              "      <td>64</td>\n",
              "      <td>3.386.810</td>\n",
              "    </tr>\n",
              "  </tbody>\n",
              "</table>\n",
              "</div>"
            ],
            "text/plain": [
              "    Year Country   Winner  ... QualifiedTeams MatchesPlayed Attendance\n",
              "19  2014  Brazil  Germany  ...             32            64  3.386.810\n",
              "\n",
              "[1 rows x 10 columns]"
            ]
          },
          "metadata": {
            "tags": []
          },
          "execution_count": 20
        }
      ]
    },
    {
      "cell_type": "markdown",
      "metadata": {
        "id": "8pIjPlwhzWCx",
        "colab_type": "text"
      },
      "source": [
        "---\n",
        "<div>\n",
        "<p style=\"text-align: center;\"><strong>\n",
        "2 - Matches: Infomation about world cup matches.\n",
        "</strong></p> \n",
        "\n",
        "\n",
        "| Column Name          | Description                                                             | Data Type |\n",
        "| -------------------- | ----------------------------------------------------------------------- | --------- |\n",
        "| Year                 | The year in which the match was played                                  | float64   |\n",
        "| Datetime             | The Date on which the match was played along with a 24 hour format time | object    |\n",
        "| Stage                | The stage at which the match was played                                 | object    |\n",
        "| Stadium              | Stadium name where the match was held                                   | object    |\n",
        "| City                 | The city name, where the match was played                               | object    |\n",
        "| Home Team Name       | Home team country name                                                  | object    |\n",
        "| Home Team Goals      | Total goals scored by the home team by the end of the match             | float64   |\n",
        "| Away Team Goals      | Total goals scored by the away team by the end of the match             | float64   |\n",
        "| Away Team Name       | Away team country name                                                  | object    |\n",
        "| Win conditions       | Special win condition (if any)                                          | object    |\n",
        "| Attendance           | Total crowd present at the satdium                                      | float64   |\n",
        "| Half-time Home Goals | Goals scored by the home team until half time                           | float64   |\n",
        "| Half-time Away Goals | Goals scored by the away team until half time                           | float64   |\n",
        "| Referee              | Name of the first refree                                                | object    |\n",
        "| Assistant 1          | Name of the first assistant referee (linesman)                          | object    |\n",
        "| Assistant 2          | Name of the second assistant referee (linesman)                         | object    |\n",
        "| RoundID              | Unique ID of the Round                                                  | float64   |\n",
        "| MatchID              | Unique ID of the match                                                  | float64   |\n",
        "| Home Team Initials   | Home team country's three letter initials                               | object    |\n",
        "| Away Team Initials   | Away team country's three letter initials                               | object    |\n",
        "\n",
        "\n",
        "</div>"
      ]
    },
    {
      "cell_type": "code",
      "metadata": {
        "id": "Q21aMPMl65w9",
        "colab_type": "code",
        "outputId": "43cc69b6-417c-436f-ec70-c5b17a279437",
        "colab": {
          "base_uri": "https://localhost:8080/",
          "height": 246
        }
      },
      "source": [
        "mch.sample(5)"
      ],
      "execution_count": 21,
      "outputs": [
        {
          "output_type": "execute_result",
          "data": {
            "text/html": [
              "<div>\n",
              "<style scoped>\n",
              "    .dataframe tbody tr th:only-of-type {\n",
              "        vertical-align: middle;\n",
              "    }\n",
              "\n",
              "    .dataframe tbody tr th {\n",
              "        vertical-align: top;\n",
              "    }\n",
              "\n",
              "    .dataframe thead th {\n",
              "        text-align: right;\n",
              "    }\n",
              "</style>\n",
              "<table border=\"1\" class=\"dataframe\">\n",
              "  <thead>\n",
              "    <tr style=\"text-align: right;\">\n",
              "      <th></th>\n",
              "      <th>Year</th>\n",
              "      <th>Datetime</th>\n",
              "      <th>Stage</th>\n",
              "      <th>Stadium</th>\n",
              "      <th>City</th>\n",
              "      <th>Home Team Name</th>\n",
              "      <th>Home Team Goals</th>\n",
              "      <th>Away Team Goals</th>\n",
              "      <th>Away Team Name</th>\n",
              "      <th>Win conditions</th>\n",
              "      <th>Attendance</th>\n",
              "      <th>Half-time Home Goals</th>\n",
              "      <th>Half-time Away Goals</th>\n",
              "      <th>Referee</th>\n",
              "      <th>Assistant 1</th>\n",
              "      <th>Assistant 2</th>\n",
              "      <th>RoundID</th>\n",
              "      <th>MatchID</th>\n",
              "      <th>Home Team Initials</th>\n",
              "      <th>Away Team Initials</th>\n",
              "    </tr>\n",
              "  </thead>\n",
              "  <tbody>\n",
              "    <tr>\n",
              "      <th>3599</th>\n",
              "      <td>NaN</td>\n",
              "      <td>NaN</td>\n",
              "      <td>NaN</td>\n",
              "      <td>NaN</td>\n",
              "      <td>NaN</td>\n",
              "      <td>NaN</td>\n",
              "      <td>NaN</td>\n",
              "      <td>NaN</td>\n",
              "      <td>NaN</td>\n",
              "      <td>NaN</td>\n",
              "      <td>NaN</td>\n",
              "      <td>NaN</td>\n",
              "      <td>NaN</td>\n",
              "      <td>NaN</td>\n",
              "      <td>NaN</td>\n",
              "      <td>NaN</td>\n",
              "      <td>NaN</td>\n",
              "      <td>NaN</td>\n",
              "      <td>NaN</td>\n",
              "      <td>NaN</td>\n",
              "    </tr>\n",
              "    <tr>\n",
              "      <th>1389</th>\n",
              "      <td>NaN</td>\n",
              "      <td>NaN</td>\n",
              "      <td>NaN</td>\n",
              "      <td>NaN</td>\n",
              "      <td>NaN</td>\n",
              "      <td>NaN</td>\n",
              "      <td>NaN</td>\n",
              "      <td>NaN</td>\n",
              "      <td>NaN</td>\n",
              "      <td>NaN</td>\n",
              "      <td>NaN</td>\n",
              "      <td>NaN</td>\n",
              "      <td>NaN</td>\n",
              "      <td>NaN</td>\n",
              "      <td>NaN</td>\n",
              "      <td>NaN</td>\n",
              "      <td>NaN</td>\n",
              "      <td>NaN</td>\n",
              "      <td>NaN</td>\n",
              "      <td>NaN</td>\n",
              "    </tr>\n",
              "    <tr>\n",
              "      <th>3139</th>\n",
              "      <td>NaN</td>\n",
              "      <td>NaN</td>\n",
              "      <td>NaN</td>\n",
              "      <td>NaN</td>\n",
              "      <td>NaN</td>\n",
              "      <td>NaN</td>\n",
              "      <td>NaN</td>\n",
              "      <td>NaN</td>\n",
              "      <td>NaN</td>\n",
              "      <td>NaN</td>\n",
              "      <td>NaN</td>\n",
              "      <td>NaN</td>\n",
              "      <td>NaN</td>\n",
              "      <td>NaN</td>\n",
              "      <td>NaN</td>\n",
              "      <td>NaN</td>\n",
              "      <td>NaN</td>\n",
              "      <td>NaN</td>\n",
              "      <td>NaN</td>\n",
              "      <td>NaN</td>\n",
              "    </tr>\n",
              "    <tr>\n",
              "      <th>1129</th>\n",
              "      <td>NaN</td>\n",
              "      <td>NaN</td>\n",
              "      <td>NaN</td>\n",
              "      <td>NaN</td>\n",
              "      <td>NaN</td>\n",
              "      <td>NaN</td>\n",
              "      <td>NaN</td>\n",
              "      <td>NaN</td>\n",
              "      <td>NaN</td>\n",
              "      <td>NaN</td>\n",
              "      <td>NaN</td>\n",
              "      <td>NaN</td>\n",
              "      <td>NaN</td>\n",
              "      <td>NaN</td>\n",
              "      <td>NaN</td>\n",
              "      <td>NaN</td>\n",
              "      <td>NaN</td>\n",
              "      <td>NaN</td>\n",
              "      <td>NaN</td>\n",
              "      <td>NaN</td>\n",
              "    </tr>\n",
              "    <tr>\n",
              "      <th>1613</th>\n",
              "      <td>NaN</td>\n",
              "      <td>NaN</td>\n",
              "      <td>NaN</td>\n",
              "      <td>NaN</td>\n",
              "      <td>NaN</td>\n",
              "      <td>NaN</td>\n",
              "      <td>NaN</td>\n",
              "      <td>NaN</td>\n",
              "      <td>NaN</td>\n",
              "      <td>NaN</td>\n",
              "      <td>NaN</td>\n",
              "      <td>NaN</td>\n",
              "      <td>NaN</td>\n",
              "      <td>NaN</td>\n",
              "      <td>NaN</td>\n",
              "      <td>NaN</td>\n",
              "      <td>NaN</td>\n",
              "      <td>NaN</td>\n",
              "      <td>NaN</td>\n",
              "      <td>NaN</td>\n",
              "    </tr>\n",
              "  </tbody>\n",
              "</table>\n",
              "</div>"
            ],
            "text/plain": [
              "      Year Datetime Stage  ... MatchID Home Team Initials Away Team Initials\n",
              "3599   NaN      NaN   NaN  ...     NaN                NaN                NaN\n",
              "1389   NaN      NaN   NaN  ...     NaN                NaN                NaN\n",
              "3139   NaN      NaN   NaN  ...     NaN                NaN                NaN\n",
              "1129   NaN      NaN   NaN  ...     NaN                NaN                NaN\n",
              "1613   NaN      NaN   NaN  ...     NaN                NaN                NaN\n",
              "\n",
              "[5 rows x 20 columns]"
            ]
          },
          "metadata": {
            "tags": []
          },
          "execution_count": 21
        }
      ]
    },
    {
      "cell_type": "markdown",
      "metadata": {
        "id": "o3qVJzNdzZ7S",
        "colab_type": "text"
      },
      "source": [
        "---\n",
        "<div>\n",
        "<p style=\"text-align: center;\"><strong>\n",
        "3 - Players: Infomation about football players participated.\n",
        "</strong></p> \n",
        "\n",
        "\n",
        "| Column Name   | Description                                                                                                                                         | Data Type |\n",
        "| ------------- | --------------------------------------------------------------------------------------------------------------------------------------------------- | --------- |\n",
        "| RoundID       | Unique ID of the round                                                                                                                              | int64     |\n",
        "| MatchID       | Unique ID of the match                                                                                                                              | int64     |\n",
        "| Team Initials | Player's team initials                                                                                                                              | object    |\n",
        "| Coach Name    | Name and country of the team coach                                                                                                                  | object    |\n",
        "| Line-up       | S=Line-up, N=Substitute                                                                                                                             | object    |\n",
        "| Shirt Number  | Shirt number if available                                                                                                                           | int64     |\n",
        "| Player Name   | Name of the player                                                                                                                                  | object    |\n",
        "| Position      | C=Captain, GK=Goalkeeper                                                                                                                            | object    |\n",
        "| Event         | G=Goal, OG=Own Goal, Y=Yellow Card, R=Red Card, SY = Red Card by second yellow, P=Penalty, MP=Missed Penalty, I = Substitution In, O=Substitute Out | object    |\n",
        "\n",
        "</div>"
      ]
    },
    {
      "cell_type": "code",
      "metadata": {
        "id": "L-QB1CkdweI8",
        "colab_type": "code",
        "outputId": "e6da496a-98ec-4108-f980-9a6d6043d5e5",
        "colab": {
          "base_uri": "https://localhost:8080/",
          "height": 195
        }
      },
      "source": [
        "pls.sample(5)"
      ],
      "execution_count": 22,
      "outputs": [
        {
          "output_type": "execute_result",
          "data": {
            "text/html": [
              "<div>\n",
              "<style scoped>\n",
              "    .dataframe tbody tr th:only-of-type {\n",
              "        vertical-align: middle;\n",
              "    }\n",
              "\n",
              "    .dataframe tbody tr th {\n",
              "        vertical-align: top;\n",
              "    }\n",
              "\n",
              "    .dataframe thead th {\n",
              "        text-align: right;\n",
              "    }\n",
              "</style>\n",
              "<table border=\"1\" class=\"dataframe\">\n",
              "  <thead>\n",
              "    <tr style=\"text-align: right;\">\n",
              "      <th></th>\n",
              "      <th>RoundID</th>\n",
              "      <th>MatchID</th>\n",
              "      <th>Team Initials</th>\n",
              "      <th>Coach Name</th>\n",
              "      <th>Line-up</th>\n",
              "      <th>Shirt Number</th>\n",
              "      <th>Player Name</th>\n",
              "      <th>Position</th>\n",
              "      <th>Event</th>\n",
              "    </tr>\n",
              "  </thead>\n",
              "  <tbody>\n",
              "    <tr>\n",
              "      <th>30806</th>\n",
              "      <td>97410300</td>\n",
              "      <td>97410057</td>\n",
              "      <td>ARG</td>\n",
              "      <td>Jos� P�KERMAN (ARG)</td>\n",
              "      <td>S</td>\n",
              "      <td>9</td>\n",
              "      <td>CRESPO</td>\n",
              "      <td>NaN</td>\n",
              "      <td>O79'</td>\n",
              "    </tr>\n",
              "    <tr>\n",
              "      <th>30840</th>\n",
              "      <td>97410300</td>\n",
              "      <td>97410058</td>\n",
              "      <td>UKR</td>\n",
              "      <td>BLOKHIN Oleg (UKR)</td>\n",
              "      <td>S</td>\n",
              "      <td>1</td>\n",
              "      <td>SHOVKOVSKYI</td>\n",
              "      <td>GK</td>\n",
              "      <td>NaN</td>\n",
              "    </tr>\n",
              "    <tr>\n",
              "      <th>34756</th>\n",
              "      <td>255931</td>\n",
              "      <td>300186479</td>\n",
              "      <td>BEL</td>\n",
              "      <td>WILMOTS Marc (BEL)</td>\n",
              "      <td>S</td>\n",
              "      <td>6</td>\n",
              "      <td>WITSEL</td>\n",
              "      <td>NaN</td>\n",
              "      <td>NaN</td>\n",
              "    </tr>\n",
              "    <tr>\n",
              "      <th>1556</th>\n",
              "      <td>206</td>\n",
              "      <td>1179</td>\n",
              "      <td>ITA</td>\n",
              "      <td>POZZO Vittorio (ITA)</td>\n",
              "      <td>S</td>\n",
              "      <td>0</td>\n",
              "      <td>Pietro FERRARIS</td>\n",
              "      <td>NaN</td>\n",
              "      <td>G2'</td>\n",
              "    </tr>\n",
              "    <tr>\n",
              "      <th>31169</th>\n",
              "      <td>249722</td>\n",
              "      <td>300061454</td>\n",
              "      <td>RSA</td>\n",
              "      <td>PARREIRA Carlos Alberto (BRA)</td>\n",
              "      <td>S</td>\n",
              "      <td>10</td>\n",
              "      <td>PIENAAR</td>\n",
              "      <td>NaN</td>\n",
              "      <td>O83'</td>\n",
              "    </tr>\n",
              "  </tbody>\n",
              "</table>\n",
              "</div>"
            ],
            "text/plain": [
              "        RoundID    MatchID Team Initials  ...      Player Name Position  Event\n",
              "30806  97410300   97410057           ARG  ...           CRESPO      NaN   O79'\n",
              "30840  97410300   97410058           UKR  ...      SHOVKOVSKYI       GK    NaN\n",
              "34756    255931  300186479           BEL  ...           WITSEL      NaN    NaN\n",
              "1556        206       1179           ITA  ...  Pietro FERRARIS      NaN    G2'\n",
              "31169    249722  300061454           RSA  ...          PIENAAR      NaN   O83'\n",
              "\n",
              "[5 rows x 9 columns]"
            ]
          },
          "metadata": {
            "tags": []
          },
          "execution_count": 22
        }
      ]
    },
    {
      "cell_type": "markdown",
      "metadata": {
        "id": "yj_f_KGwz3DA",
        "colab_type": "text"
      },
      "source": [
        "<div>\n",
        "<p style=\"text-align: center;\"><strong>\n",
        "Players: Infomation about football players competed in 1930-2014\n",
        "</strong></p> \n",
        "\n",
        "\n",
        "| Column Name   | Description                                                                                                                                         | Data Type |\n",
        "| ------------- | --------------------------------------------------------------------------------------------------------------------------------------------------- | --------- |\n",
        "| RoundID       | Unique ID of the round                                                                                                                              | int64     |\n",
        "| MatchID       | Unique ID of the match                                                                                                                              | int64     |\n",
        "| Team Initials | Player's team initials                                                                                                                              | object    |\n",
        "| Coach Name    | Name and country of the team coach                                                                                                                  | object    |\n",
        "| Line-up       | S=Line-up, N=Substitute                                                                                                                             | object    |\n",
        "| Shirt Number  | Shirt number if available                                                                                                                           | int64     |\n",
        "| Player Name   | Name of the player                                                                                                                                  | object    |\n",
        "| Position      | C=Captain, GK=Goalkeeper                                                                                                                            | object    |\n",
        "| Event         | G=Goal, OG=Own Goal, Y=Yellow Card, R=Red Card, SY = Red Card by second yellow, P=Penalty, MP=Missed Penalty, I = Substitution In, O=Substitute Out | object    |\n",
        "\n",
        "</div>"
      ]
    },
    {
      "cell_type": "markdown",
      "metadata": {
        "id": "SMzn2KVVz6ro",
        "colab_type": "text"
      },
      "source": [
        "---\n",
        "III. Data Cleaning\n"
      ]
    },
    {
      "cell_type": "markdown",
      "metadata": {
        "id": "9NqpWQtE6kOv",
        "colab_type": "text"
      },
      "source": [
        "---\n",
        "1 - Clean null, duplicate data, error data."
      ]
    },
    {
      "cell_type": "code",
      "metadata": {
        "id": "cB_54EK77cVb",
        "colab_type": "code",
        "outputId": "66505003-ffaa-42ca-b472-10650971d20e",
        "colab": {
          "base_uri": "https://localhost:8080/",
          "height": 202
        }
      },
      "source": [
        "\"\"\" Table WorldCup is cleaned\n",
        "    No duplicate data\n",
        "\"\"\"\n",
        "wc.nunique()"
      ],
      "execution_count": 23,
      "outputs": [
        {
          "output_type": "execute_result",
          "data": {
            "text/plain": [
              "Year              20\n",
              "Country           15\n",
              "Winner             9\n",
              "Runners-Up        10\n",
              "Third             14\n",
              "Fourth            16\n",
              "GoalsScored       17\n",
              "QualifiedTeams     5\n",
              "MatchesPlayed      9\n",
              "Attendance        20\n",
              "dtype: int64"
            ]
          },
          "metadata": {
            "tags": []
          },
          "execution_count": 23
        }
      ]
    },
    {
      "cell_type": "code",
      "metadata": {
        "id": "B17FRux49WNt",
        "colab_type": "code",
        "colab": {
          "base_uri": "https://localhost:8080/",
          "height": 842
        },
        "outputId": "04373ad1-6827-44a1-a346-64dd25c4d03a"
      },
      "source": [
        "\"\"\" Table World Cup Matches:\n",
        "    852/4572 rows not null\n",
        "    836 unique Match ID\n",
        "\"\"\"\n",
        "mch.drop(labels = mch[mch['Year'].isnull()].index, axis= 0, inplace= True)\n",
        "mch"
      ],
      "execution_count": 24,
      "outputs": [
        {
          "output_type": "execute_result",
          "data": {
            "text/html": [
              "<div>\n",
              "<style scoped>\n",
              "    .dataframe tbody tr th:only-of-type {\n",
              "        vertical-align: middle;\n",
              "    }\n",
              "\n",
              "    .dataframe tbody tr th {\n",
              "        vertical-align: top;\n",
              "    }\n",
              "\n",
              "    .dataframe thead th {\n",
              "        text-align: right;\n",
              "    }\n",
              "</style>\n",
              "<table border=\"1\" class=\"dataframe\">\n",
              "  <thead>\n",
              "    <tr style=\"text-align: right;\">\n",
              "      <th></th>\n",
              "      <th>Year</th>\n",
              "      <th>Datetime</th>\n",
              "      <th>Stage</th>\n",
              "      <th>Stadium</th>\n",
              "      <th>City</th>\n",
              "      <th>Home Team Name</th>\n",
              "      <th>Home Team Goals</th>\n",
              "      <th>Away Team Goals</th>\n",
              "      <th>Away Team Name</th>\n",
              "      <th>Win conditions</th>\n",
              "      <th>Attendance</th>\n",
              "      <th>Half-time Home Goals</th>\n",
              "      <th>Half-time Away Goals</th>\n",
              "      <th>Referee</th>\n",
              "      <th>Assistant 1</th>\n",
              "      <th>Assistant 2</th>\n",
              "      <th>RoundID</th>\n",
              "      <th>MatchID</th>\n",
              "      <th>Home Team Initials</th>\n",
              "      <th>Away Team Initials</th>\n",
              "    </tr>\n",
              "  </thead>\n",
              "  <tbody>\n",
              "    <tr>\n",
              "      <th>0</th>\n",
              "      <td>1930.0</td>\n",
              "      <td>13 Jul 1930 - 15:00</td>\n",
              "      <td>Group 1</td>\n",
              "      <td>Pocitos</td>\n",
              "      <td>Montevideo</td>\n",
              "      <td>France</td>\n",
              "      <td>4.0</td>\n",
              "      <td>1.0</td>\n",
              "      <td>Mexico</td>\n",
              "      <td></td>\n",
              "      <td>4444.0</td>\n",
              "      <td>3.0</td>\n",
              "      <td>0.0</td>\n",
              "      <td>LOMBARDI Domingo (URU)</td>\n",
              "      <td>CRISTOPHE Henry (BEL)</td>\n",
              "      <td>REGO Gilberto (BRA)</td>\n",
              "      <td>201.0</td>\n",
              "      <td>1096.0</td>\n",
              "      <td>FRA</td>\n",
              "      <td>MEX</td>\n",
              "    </tr>\n",
              "    <tr>\n",
              "      <th>1</th>\n",
              "      <td>1930.0</td>\n",
              "      <td>13 Jul 1930 - 15:00</td>\n",
              "      <td>Group 4</td>\n",
              "      <td>Parque Central</td>\n",
              "      <td>Montevideo</td>\n",
              "      <td>USA</td>\n",
              "      <td>3.0</td>\n",
              "      <td>0.0</td>\n",
              "      <td>Belgium</td>\n",
              "      <td></td>\n",
              "      <td>18346.0</td>\n",
              "      <td>2.0</td>\n",
              "      <td>0.0</td>\n",
              "      <td>MACIAS Jose (ARG)</td>\n",
              "      <td>MATEUCCI Francisco (URU)</td>\n",
              "      <td>WARNKEN Alberto (CHI)</td>\n",
              "      <td>201.0</td>\n",
              "      <td>1090.0</td>\n",
              "      <td>USA</td>\n",
              "      <td>BEL</td>\n",
              "    </tr>\n",
              "    <tr>\n",
              "      <th>2</th>\n",
              "      <td>1930.0</td>\n",
              "      <td>14 Jul 1930 - 12:45</td>\n",
              "      <td>Group 2</td>\n",
              "      <td>Parque Central</td>\n",
              "      <td>Montevideo</td>\n",
              "      <td>Yugoslavia</td>\n",
              "      <td>2.0</td>\n",
              "      <td>1.0</td>\n",
              "      <td>Brazil</td>\n",
              "      <td></td>\n",
              "      <td>24059.0</td>\n",
              "      <td>2.0</td>\n",
              "      <td>0.0</td>\n",
              "      <td>TEJADA Anibal (URU)</td>\n",
              "      <td>VALLARINO Ricardo (URU)</td>\n",
              "      <td>BALWAY Thomas (FRA)</td>\n",
              "      <td>201.0</td>\n",
              "      <td>1093.0</td>\n",
              "      <td>YUG</td>\n",
              "      <td>BRA</td>\n",
              "    </tr>\n",
              "    <tr>\n",
              "      <th>3</th>\n",
              "      <td>1930.0</td>\n",
              "      <td>14 Jul 1930 - 14:50</td>\n",
              "      <td>Group 3</td>\n",
              "      <td>Pocitos</td>\n",
              "      <td>Montevideo</td>\n",
              "      <td>Romania</td>\n",
              "      <td>3.0</td>\n",
              "      <td>1.0</td>\n",
              "      <td>Peru</td>\n",
              "      <td></td>\n",
              "      <td>2549.0</td>\n",
              "      <td>1.0</td>\n",
              "      <td>0.0</td>\n",
              "      <td>WARNKEN Alberto (CHI)</td>\n",
              "      <td>LANGENUS Jean (BEL)</td>\n",
              "      <td>MATEUCCI Francisco (URU)</td>\n",
              "      <td>201.0</td>\n",
              "      <td>1098.0</td>\n",
              "      <td>ROU</td>\n",
              "      <td>PER</td>\n",
              "    </tr>\n",
              "    <tr>\n",
              "      <th>4</th>\n",
              "      <td>1930.0</td>\n",
              "      <td>15 Jul 1930 - 16:00</td>\n",
              "      <td>Group 1</td>\n",
              "      <td>Parque Central</td>\n",
              "      <td>Montevideo</td>\n",
              "      <td>Argentina</td>\n",
              "      <td>1.0</td>\n",
              "      <td>0.0</td>\n",
              "      <td>France</td>\n",
              "      <td></td>\n",
              "      <td>23409.0</td>\n",
              "      <td>0.0</td>\n",
              "      <td>0.0</td>\n",
              "      <td>REGO Gilberto (BRA)</td>\n",
              "      <td>SAUCEDO Ulises (BOL)</td>\n",
              "      <td>RADULESCU Constantin (ROU)</td>\n",
              "      <td>201.0</td>\n",
              "      <td>1085.0</td>\n",
              "      <td>ARG</td>\n",
              "      <td>FRA</td>\n",
              "    </tr>\n",
              "    <tr>\n",
              "      <th>...</th>\n",
              "      <td>...</td>\n",
              "      <td>...</td>\n",
              "      <td>...</td>\n",
              "      <td>...</td>\n",
              "      <td>...</td>\n",
              "      <td>...</td>\n",
              "      <td>...</td>\n",
              "      <td>...</td>\n",
              "      <td>...</td>\n",
              "      <td>...</td>\n",
              "      <td>...</td>\n",
              "      <td>...</td>\n",
              "      <td>...</td>\n",
              "      <td>...</td>\n",
              "      <td>...</td>\n",
              "      <td>...</td>\n",
              "      <td>...</td>\n",
              "      <td>...</td>\n",
              "      <td>...</td>\n",
              "      <td>...</td>\n",
              "    </tr>\n",
              "    <tr>\n",
              "      <th>847</th>\n",
              "      <td>2014.0</td>\n",
              "      <td>05 Jul 2014 - 17:00</td>\n",
              "      <td>Quarter-finals</td>\n",
              "      <td>Arena Fonte Nova</td>\n",
              "      <td>Salvador</td>\n",
              "      <td>Netherlands</td>\n",
              "      <td>0.0</td>\n",
              "      <td>0.0</td>\n",
              "      <td>Costa Rica</td>\n",
              "      <td>Netherlands win on penalties (4 - 3)</td>\n",
              "      <td>51179.0</td>\n",
              "      <td>0.0</td>\n",
              "      <td>0.0</td>\n",
              "      <td>Ravshan IRMATOV (UZB)</td>\n",
              "      <td>RASULOV Abduxamidullo (UZB)</td>\n",
              "      <td>KOCHKAROV Bakhadyr (KGZ)</td>\n",
              "      <td>255953.0</td>\n",
              "      <td>300186488.0</td>\n",
              "      <td>NED</td>\n",
              "      <td>CRC</td>\n",
              "    </tr>\n",
              "    <tr>\n",
              "      <th>848</th>\n",
              "      <td>2014.0</td>\n",
              "      <td>08 Jul 2014 - 17:00</td>\n",
              "      <td>Semi-finals</td>\n",
              "      <td>Estadio Mineirao</td>\n",
              "      <td>Belo Horizonte</td>\n",
              "      <td>Brazil</td>\n",
              "      <td>1.0</td>\n",
              "      <td>7.0</td>\n",
              "      <td>Germany</td>\n",
              "      <td></td>\n",
              "      <td>58141.0</td>\n",
              "      <td>0.0</td>\n",
              "      <td>5.0</td>\n",
              "      <td>RODRIGUEZ Marco (MEX)</td>\n",
              "      <td>TORRENTERA Marvin (MEX)</td>\n",
              "      <td>QUINTERO Marcos (MEX)</td>\n",
              "      <td>255955.0</td>\n",
              "      <td>300186474.0</td>\n",
              "      <td>BRA</td>\n",
              "      <td>GER</td>\n",
              "    </tr>\n",
              "    <tr>\n",
              "      <th>849</th>\n",
              "      <td>2014.0</td>\n",
              "      <td>09 Jul 2014 - 17:00</td>\n",
              "      <td>Semi-finals</td>\n",
              "      <td>Arena de Sao Paulo</td>\n",
              "      <td>Sao Paulo</td>\n",
              "      <td>Netherlands</td>\n",
              "      <td>0.0</td>\n",
              "      <td>0.0</td>\n",
              "      <td>Argentina</td>\n",
              "      <td>Argentina win on penalties (2 - 4)</td>\n",
              "      <td>63267.0</td>\n",
              "      <td>0.0</td>\n",
              "      <td>0.0</td>\n",
              "      <td>C�neyt �AKIR (TUR)</td>\n",
              "      <td>DURAN Bahattin (TUR)</td>\n",
              "      <td>ONGUN Tarik (TUR)</td>\n",
              "      <td>255955.0</td>\n",
              "      <td>300186490.0</td>\n",
              "      <td>NED</td>\n",
              "      <td>ARG</td>\n",
              "    </tr>\n",
              "    <tr>\n",
              "      <th>850</th>\n",
              "      <td>2014.0</td>\n",
              "      <td>12 Jul 2014 - 17:00</td>\n",
              "      <td>Play-off for third place</td>\n",
              "      <td>Estadio Nacional</td>\n",
              "      <td>Brasilia</td>\n",
              "      <td>Brazil</td>\n",
              "      <td>0.0</td>\n",
              "      <td>3.0</td>\n",
              "      <td>Netherlands</td>\n",
              "      <td></td>\n",
              "      <td>68034.0</td>\n",
              "      <td>0.0</td>\n",
              "      <td>2.0</td>\n",
              "      <td>HAIMOUDI Djamel (ALG)</td>\n",
              "      <td>ACHIK Redouane (MAR)</td>\n",
              "      <td>ETCHIALI Abdelhak (ALG)</td>\n",
              "      <td>255957.0</td>\n",
              "      <td>300186502.0</td>\n",
              "      <td>BRA</td>\n",
              "      <td>NED</td>\n",
              "    </tr>\n",
              "    <tr>\n",
              "      <th>851</th>\n",
              "      <td>2014.0</td>\n",
              "      <td>13 Jul 2014 - 16:00</td>\n",
              "      <td>Final</td>\n",
              "      <td>Estadio do Maracana</td>\n",
              "      <td>Rio De Janeiro</td>\n",
              "      <td>Germany</td>\n",
              "      <td>1.0</td>\n",
              "      <td>0.0</td>\n",
              "      <td>Argentina</td>\n",
              "      <td>Germany win after extra time</td>\n",
              "      <td>74738.0</td>\n",
              "      <td>0.0</td>\n",
              "      <td>0.0</td>\n",
              "      <td>Nicola RIZZOLI (ITA)</td>\n",
              "      <td>Renato FAVERANI (ITA)</td>\n",
              "      <td>Andrea STEFANI (ITA)</td>\n",
              "      <td>255959.0</td>\n",
              "      <td>300186501.0</td>\n",
              "      <td>GER</td>\n",
              "      <td>ARG</td>\n",
              "    </tr>\n",
              "  </tbody>\n",
              "</table>\n",
              "<p>852 rows × 20 columns</p>\n",
              "</div>"
            ],
            "text/plain": [
              "       Year              Datetime  ... Home Team Initials Away Team Initials\n",
              "0    1930.0  13 Jul 1930 - 15:00   ...                FRA                MEX\n",
              "1    1930.0  13 Jul 1930 - 15:00   ...                USA                BEL\n",
              "2    1930.0  14 Jul 1930 - 12:45   ...                YUG                BRA\n",
              "3    1930.0  14 Jul 1930 - 14:50   ...                ROU                PER\n",
              "4    1930.0  15 Jul 1930 - 16:00   ...                ARG                FRA\n",
              "..      ...                   ...  ...                ...                ...\n",
              "847  2014.0  05 Jul 2014 - 17:00   ...                NED                CRC\n",
              "848  2014.0  08 Jul 2014 - 17:00   ...                BRA                GER\n",
              "849  2014.0  09 Jul 2014 - 17:00   ...                NED                ARG\n",
              "850  2014.0  12 Jul 2014 - 17:00   ...                BRA                NED\n",
              "851  2014.0  13 Jul 2014 - 16:00   ...                GER                ARG\n",
              "\n",
              "[852 rows x 20 columns]"
            ]
          },
          "metadata": {
            "tags": []
          },
          "execution_count": 24
        }
      ]
    },
    {
      "cell_type": "code",
      "metadata": {
        "id": "E9YuaBJfv2RM",
        "colab_type": "code",
        "colab": {}
      },
      "source": [
        "dup_mch = mch['MatchID'].value_counts()\n",
        "dup_id = dup_mch[dup_mch == 2]\n",
        "mch[mch['MatchID'].isin(dup_id.index)]['Year']  #  The duplicate datas are matches in 2014"
      ],
      "execution_count": 0,
      "outputs": []
    },
    {
      "cell_type": "code",
      "metadata": {
        "id": "O7On8vr4weJO",
        "colab_type": "code",
        "outputId": "0e981bde-6297-451d-bd72-d7f00a1e95e3",
        "colab": {
          "base_uri": "https://localhost:8080/",
          "height": 437
        }
      },
      "source": [
        "mch.drop_duplicates(keep=\"first\", inplace=True)\n",
        "mch.info()  # table Matches have 836 cleaned data rows"
      ],
      "execution_count": 112,
      "outputs": [
        {
          "output_type": "stream",
          "text": [
            "<class 'pandas.core.frame.DataFrame'>\n",
            "Int64Index: 837 entries, 0 to 852\n",
            "Data columns (total 20 columns):\n",
            "Year                    836 non-null float64\n",
            "Datetime                836 non-null object\n",
            "Stage                   836 non-null object\n",
            "Stadium                 836 non-null object\n",
            "City                    836 non-null object\n",
            "Home Team Name          836 non-null object\n",
            "Home Team Goals         836 non-null float64\n",
            "Away Team Goals         836 non-null float64\n",
            "Away Team Name          836 non-null object\n",
            "Win conditions          836 non-null object\n",
            "Attendance              835 non-null float64\n",
            "Half-time Home Goals    836 non-null float64\n",
            "Half-time Away Goals    836 non-null float64\n",
            "Referee                 836 non-null object\n",
            "Assistant 1             836 non-null object\n",
            "Assistant 2             836 non-null object\n",
            "RoundID                 836 non-null float64\n",
            "MatchID                 836 non-null float64\n",
            "Home Team Initials      836 non-null object\n",
            "Away Team Initials      836 non-null object\n",
            "dtypes: float64(8), object(12)\n",
            "memory usage: 137.3+ KB\n"
          ],
          "name": "stdout"
        }
      ]
    },
    {
      "cell_type": "code",
      "metadata": {
        "id": "VgiBsz0E_y70",
        "colab_type": "code",
        "colab": {
          "base_uri": "https://localhost:8080/",
          "height": 252
        },
        "outputId": "c83ca382-1e65-405f-bd18-beaaae56c5d1"
      },
      "source": [
        "pls.info() # pls table has 37848 clean rows"
      ],
      "execution_count": 27,
      "outputs": [
        {
          "output_type": "stream",
          "text": [
            "<class 'pandas.core.frame.DataFrame'>\n",
            "RangeIndex: 37784 entries, 0 to 37783\n",
            "Data columns (total 9 columns):\n",
            "RoundID          37784 non-null int64\n",
            "MatchID          37784 non-null int64\n",
            "Team Initials    37784 non-null object\n",
            "Coach Name       37784 non-null object\n",
            "Line-up          37784 non-null object\n",
            "Shirt Number     37784 non-null int64\n",
            "Player Name      37784 non-null object\n",
            "Position         4143 non-null object\n",
            "Event            9069 non-null object\n",
            "dtypes: int64(3), object(6)\n",
            "memory usage: 2.6+ MB\n"
          ],
          "name": "stdout"
        }
      ]
    },
    {
      "cell_type": "code",
      "metadata": {
        "id": "tJGpIJJGweJU",
        "colab_type": "code",
        "outputId": "719c66aa-ed5e-4802-9141-ee56ea871bd7",
        "colab": {
          "base_uri": "https://localhost:8080/",
          "height": 252
        }
      },
      "source": [
        "pls.drop_duplicates(keep=\"first\", inplace=True)\n",
        "pls.info() # pls table has 37048 clean rows"
      ],
      "execution_count": 28,
      "outputs": [
        {
          "output_type": "stream",
          "text": [
            "<class 'pandas.core.frame.DataFrame'>\n",
            "Int64Index: 37048 entries, 0 to 37047\n",
            "Data columns (total 9 columns):\n",
            "RoundID          37048 non-null int64\n",
            "MatchID          37048 non-null int64\n",
            "Team Initials    37048 non-null object\n",
            "Coach Name       37048 non-null object\n",
            "Line-up          37048 non-null object\n",
            "Shirt Number     37048 non-null int64\n",
            "Player Name      37048 non-null object\n",
            "Position         4018 non-null object\n",
            "Event            8823 non-null object\n",
            "dtypes: int64(3), object(6)\n",
            "memory usage: 2.8+ MB\n"
          ],
          "name": "stdout"
        }
      ]
    },
    {
      "cell_type": "code",
      "metadata": {
        "id": "kebCX7Oy0dxN",
        "colab_type": "code",
        "colab": {}
      },
      "source": [
        "pls['Position'].isnull().sum() # Position column has 33030 null rows\n",
        "pls['Position'].fillna('Other', inplace=True)"
      ],
      "execution_count": 0,
      "outputs": []
    },
    {
      "cell_type": "code",
      "metadata": {
        "id": "sfyVTLx8084x",
        "colab_type": "code",
        "colab": {}
      },
      "source": [
        "pls['Event'].isnull().sum() # Position column has 28225 null rows\n",
        "pls['Event'].fillna('No Event', inplace=True)"
      ],
      "execution_count": 0,
      "outputs": []
    },
    {
      "cell_type": "markdown",
      "metadata": {
        "id": "JwpaOxbf1tui",
        "colab_type": "text"
      },
      "source": [
        ""
      ]
    },
    {
      "cell_type": "code",
      "metadata": {
        "id": "ncVlOumF1qwL",
        "colab_type": "code",
        "outputId": "b4f353b8-9106-4bd6-b146-7718d852b101",
        "colab": {
          "base_uri": "https://localhost:8080/",
          "height": 1000
        }
      },
      "source": [
        "mch['Stadium'].unique()\n",
        "\"\"\" Some Brazil Stadium name got error.\n",
        "    'Maracan� - Est�dio Jornalista M�rio Filho', 'Estadio Jos� Mar�a Minella', 'Stade V�lodrome',\n",
        "    'Nou Camp - Estadio Le�n', 'Estadio Ol�mpico Chateau Carreras', 'Estadio Ol�mpico Universitario', 'Estadio Municipal de Bala�dos'\n",
        "\"\"\"\n",
        "wrong_name = ['Maracan� - Est�dio Jornalista M�rio Filho', 'Estadio Jos� Mar�a Minella', 'Stade V�lodrome',\n",
        "              'Nou Camp - Estadio Le�n', 'Estadio Ol�mpico Chateau Carreras', 'Estadio Ol�mpico Universitario', 'Estadio Municipal de Bala�dos']\n",
        "right_name = ['Maracana - Estadio Jornalista Mario Filho', 'Estadio Jose Maria Minella', 'Stade Velodrome',\n",
        "              'Nou Camp - Estadio Leon', 'Estadio Olimpico Chateau Carreras', 'Estadio Olimpico Universitario', 'Estadio Municipal de Balaidos']\n",
        "for w, r in zip(wrong_name, right_name):\n",
        "    mch['Stadium'].replace(w, r, inplace= True)\n",
        "mch['Stadium'].unique()"
      ],
      "execution_count": 113,
      "outputs": [
        {
          "output_type": "execute_result",
          "data": {
            "text/plain": [
              "array(['Pocitos', 'Parque Central', 'Estadio Centenario',\n",
              "       'Stadio Benito Mussolini', 'Giorgio Ascarelli', 'San Siro',\n",
              "       'Littorale', 'Giovanni Berta', 'Luigi Ferraris', 'Nazionale PNF',\n",
              "       'Littorio', 'Parc des Princes', 'Velodrome Municipale',\n",
              "       'Stade Olympique', 'Stade Municipal', 'Stade Velodrome',\n",
              "       'Stade de la Meinau', 'Cavee Verte', 'Stade du Parc Lescure',\n",
              "       'Victor Boucquey', 'Fort Carree',\n",
              "       'Maracana - Estadio Jornalista Mario Filho', 'Durival de Brito',\n",
              "       'Pacaembu', 'Independencia', 'Eucaliptos', 'Ilha do Retiro',\n",
              "       'Wankdorf Stadium', 'Hardturm', 'Charmilles', 'La Pontaise',\n",
              "       'St. Jakob', 'Comunale di Cornaredo', 'Rasunda Stadium',\n",
              "       'Nya Ullevi', 'Malmo Stadion', 'Jarnvallen', 'Idrottsparken',\n",
              "       'Arosvallen', 'Rimnersvallen', 'Orjans Vall', 'Ryavallen',\n",
              "       'Olympia Stadium', 'Tunavallen', 'Eyravallen', 'Carlos Dittborn',\n",
              "       'Estadio Sausalito', 'Estadio El Teniente-Codelco', 'Nacional',\n",
              "       'Wembley Stadium', 'Hillsborough', 'Goodison Park',\n",
              "       'Ayresome Park', 'Old Trafford Stadium', 'Villa Park',\n",
              "       'Roker Park Ground', 'White City', 'Estadio Azteca', 'Cuauhtemoc',\n",
              "       'Nou Camp - Estadio Leon', 'Jalisco', 'Luis Dosal', 'Waldstadion',\n",
              "       'Olympiastadion', 'Volksparkstadion', 'Westfalenstadion',\n",
              "       'Niedersachsenstadion', 'Rheinstadion', 'Neckarstadion',\n",
              "       'Parkstadion',\n",
              "       'El Monumental - Estadio Monumental Antonio Vespuci',\n",
              "       'Estadio Jose Maria Minella',\n",
              "       'Arroyito - Estadio Dr. Lisandro de la Torre', 'Jose Amalfitani',\n",
              "       'Estadio Olimpico Chateau Carreras', 'San Martin', 'Camp Nou',\n",
              "       'Estadio Municipal de Balaidos', 'Ramon Sanchez Pizjuan', 'Riazor',\n",
              "       'Nuevo Estadio', 'La Rosaleda', 'El Molinon', 'San Mames',\n",
              "       'Luis Casanova', 'Carlos Tartiere', 'Jose Zorrilla', 'La Romareda',\n",
              "       'Jose Rico Perez', 'Benito Villamarin', 'Vicente Calderon',\n",
              "       'Sarria', 'Santiago Bernabeu', 'Estadio Irapuato',\n",
              "       'Estadio Olimpico Universitario', 'Estadio Universitario',\n",
              "       'Tres de Marzo', 'Tecnologico', 'Bombonera - Estadio Nemesio Diez',\n",
              "       'Neza', 'Estadio Corregidora', 'Giuseppe Meazza',\n",
              "       'Stadio San Nicola', 'Renato Dall Ara', 'Stadio Olimpico',\n",
              "       'Comunale', 'Stadio delle Alpi', 'Sant Elia',\n",
              "       'Marc Antonio Bentegodi', 'Della Favorita', 'Dacia Arena',\n",
              "       'San Paolo', 'Friuli', 'Cotton Bowl', 'Soldier Field',\n",
              "       'Pontiac Silverdome', 'Giants Stadium', 'Rose Bowl', 'Citrus Bowl',\n",
              "       'RFK Stadium', 'Stanford Stadium', 'Foxboro Stadium',\n",
              "       'Stade de France', 'La Mosson', 'Stade Felix Bollaert',\n",
              "       'La Beaujoire', 'Stade de Gerland', 'Stade Geoffroy Guichard',\n",
              "       'Seoul World Cup Stadium', 'Munsu Football Stadium',\n",
              "       'Niigata Stadium Big Swan', 'Sapporo Dome', 'Kashima Stadium',\n",
              "       'Busan Asiad Main Stadium', 'Saitama Stadium 2002',\n",
              "       'Gwangju World Cup Stadium', 'Kobe Wing Stadium',\n",
              "       'Suwon World Cup Stadium', 'Daegu World Cup Stadium',\n",
              "       'Jeonju World Cup Stadium', 'Jeju World Cup Stadium',\n",
              "       'Incheon Football Stadium', 'International Stadium Yokohama',\n",
              "       'Miyagi Stadium', 'Oita Stadium Big Eye', 'Shizuoka Stadium Ecopa',\n",
              "       'Osaka Nagai Stadium', 'Daejeon World Cup Stadium',\n",
              "       'FIFA World Cup Stadium, Munich',\n",
              "       'FIFA World Cup Stadium, Gelsenkirchen',\n",
              "       'FIFA World Cup Stadium, Frankfurt',\n",
              "       'FIFA World Cup Stadium, Dortmund',\n",
              "       'FIFA World Cup Stadium, Hamburg', 'Zentralstadion',\n",
              "       'Franken-Stadion', 'FIFA World Cup Stadium, Cologne',\n",
              "       'Fritz-Walter-Stadion', 'FIFA World Cup Stadium, Hanover',\n",
              "       'Gottlieb-Daimler-Stadion', 'Soccer City Stadium',\n",
              "       'Cape Town Stadium', 'Port Elizabeth Stadium',\n",
              "       'Ellis Park Stadium', 'Royal Bafokeng Sports Palace',\n",
              "       'Peter Mokaba Stadium', 'Loftus Versfeld Stadium',\n",
              "       'Durban Stadium', 'Free State Stadium', 'Mbombela Stadium',\n",
              "       'Arena de Sao Paulo', 'Estadio das Dunas', 'Arena Fonte Nova',\n",
              "       'Arena Pantanal', 'Estadio Mineirao', 'Estadio Castelao',\n",
              "       'Arena Amazonia', 'Arena Pernambuco', 'Estadio Nacional',\n",
              "       'Estadio Beira-Rio', 'Estadio do Maracana', 'Arena da Baixada',\n",
              "       nan], dtype=object)"
            ]
          },
          "metadata": {
            "tags": []
          },
          "execution_count": 113
        }
      ]
    },
    {
      "cell_type": "markdown",
      "metadata": {
        "id": "cSj4-USk6iLE",
        "colab_type": "text"
      },
      "source": [
        "---\n",
        "2 - Combine data, drop unnessary col.\n",
        "\n"
      ]
    },
    {
      "cell_type": "code",
      "metadata": {
        "id": "kW7id2cy6fh1",
        "colab_type": "code",
        "colab": {
          "base_uri": "https://localhost:8080/",
          "height": 214
        },
        "outputId": "8c17b2d9-4508-47da-f983-5e93e8b4c75d"
      },
      "source": [
        "mch.sample(1)"
      ],
      "execution_count": 85,
      "outputs": [
        {
          "output_type": "execute_result",
          "data": {
            "text/html": [
              "<div>\n",
              "<style scoped>\n",
              "    .dataframe tbody tr th:only-of-type {\n",
              "        vertical-align: middle;\n",
              "    }\n",
              "\n",
              "    .dataframe tbody tr th {\n",
              "        vertical-align: top;\n",
              "    }\n",
              "\n",
              "    .dataframe thead th {\n",
              "        text-align: right;\n",
              "    }\n",
              "</style>\n",
              "<table border=\"1\" class=\"dataframe\">\n",
              "  <thead>\n",
              "    <tr style=\"text-align: right;\">\n",
              "      <th></th>\n",
              "      <th>Year</th>\n",
              "      <th>Datetime</th>\n",
              "      <th>Stage</th>\n",
              "      <th>Stadium</th>\n",
              "      <th>City</th>\n",
              "      <th>Home Team Name</th>\n",
              "      <th>Home Team Goals</th>\n",
              "      <th>Away Team Goals</th>\n",
              "      <th>Away Team Name</th>\n",
              "      <th>Win conditions</th>\n",
              "      <th>Attendance</th>\n",
              "      <th>Half-time Home Goals</th>\n",
              "      <th>Half-time Away Goals</th>\n",
              "      <th>Referee</th>\n",
              "      <th>Assistant 1</th>\n",
              "      <th>Assistant 2</th>\n",
              "      <th>RoundID</th>\n",
              "      <th>MatchID</th>\n",
              "      <th>Home Team Initials</th>\n",
              "      <th>Away Team Initials</th>\n",
              "    </tr>\n",
              "  </thead>\n",
              "  <tbody>\n",
              "    <tr>\n",
              "      <th>703</th>\n",
              "      <td>2006.0</td>\n",
              "      <td>01 Jul 2006 - 21:00</td>\n",
              "      <td>Quarter-finals</td>\n",
              "      <td>FIFA World Cup Stadium, Frankfurt</td>\n",
              "      <td>Frankfurt/Main</td>\n",
              "      <td>Brazil</td>\n",
              "      <td>0.0</td>\n",
              "      <td>1.0</td>\n",
              "      <td>France</td>\n",
              "      <td></td>\n",
              "      <td>48000.0</td>\n",
              "      <td>0.0</td>\n",
              "      <td>0.0</td>\n",
              "      <td>MEDINA CANTALEJO Luis (ESP)</td>\n",
              "      <td>GIRALDEZ CARRASCO Victoriano (ESP)</td>\n",
              "      <td>MEDINA HERNANDEZ Pedro (ESP)</td>\n",
              "      <td>97410300.0</td>\n",
              "      <td>97410060.0</td>\n",
              "      <td>BRA</td>\n",
              "      <td>FRA</td>\n",
              "    </tr>\n",
              "  </tbody>\n",
              "</table>\n",
              "</div>"
            ],
            "text/plain": [
              "       Year              Datetime  ... Home Team Initials Away Team Initials\n",
              "703  2006.0  01 Jul 2006 - 21:00   ...                BRA                FRA\n",
              "\n",
              "[1 rows x 20 columns]"
            ]
          },
          "metadata": {
            "tags": []
          },
          "execution_count": 85
        }
      ]
    },
    {
      "cell_type": "code",
      "metadata": {
        "id": "TMCi_GpBl3y-",
        "colab_type": "code",
        "colab": {
          "base_uri": "https://localhost:8080/",
          "height": 434
        },
        "outputId": "0488cc59-1285-4730-d4db-8cc710311fda"
      },
      "source": [
        "# Combine Initials into Team Name to drop Initials column\n",
        "\n",
        "mch['Home Team Name'] = mch['Home Team Name'] + ' (' + mch['Home Team Initials'] +')'\n",
        "mch['Away Team Name'] = mch['Away Team Name'] + ' (' + mch['Away Team Initials'] +')'\n",
        "mch.sample(5)"
      ],
      "execution_count": 114,
      "outputs": [
        {
          "output_type": "execute_result",
          "data": {
            "text/html": [
              "<div>\n",
              "<style scoped>\n",
              "    .dataframe tbody tr th:only-of-type {\n",
              "        vertical-align: middle;\n",
              "    }\n",
              "\n",
              "    .dataframe tbody tr th {\n",
              "        vertical-align: top;\n",
              "    }\n",
              "\n",
              "    .dataframe thead th {\n",
              "        text-align: right;\n",
              "    }\n",
              "</style>\n",
              "<table border=\"1\" class=\"dataframe\">\n",
              "  <thead>\n",
              "    <tr style=\"text-align: right;\">\n",
              "      <th></th>\n",
              "      <th>Year</th>\n",
              "      <th>Datetime</th>\n",
              "      <th>Stage</th>\n",
              "      <th>Stadium</th>\n",
              "      <th>City</th>\n",
              "      <th>Home Team Name</th>\n",
              "      <th>Home Team Goals</th>\n",
              "      <th>Away Team Goals</th>\n",
              "      <th>Away Team Name</th>\n",
              "      <th>Win conditions</th>\n",
              "      <th>Attendance</th>\n",
              "      <th>Half-time Home Goals</th>\n",
              "      <th>Half-time Away Goals</th>\n",
              "      <th>Referee</th>\n",
              "      <th>Assistant 1</th>\n",
              "      <th>Assistant 2</th>\n",
              "      <th>RoundID</th>\n",
              "      <th>MatchID</th>\n",
              "      <th>Home Team Initials</th>\n",
              "      <th>Away Team Initials</th>\n",
              "    </tr>\n",
              "  </thead>\n",
              "  <tbody>\n",
              "    <tr>\n",
              "      <th>90</th>\n",
              "      <td>1954.0</td>\n",
              "      <td>20 Jun 1954 - 17:00</td>\n",
              "      <td>Group 4</td>\n",
              "      <td>Comunale di Cornaredo</td>\n",
              "      <td>Lugano</td>\n",
              "      <td>Italy (ITA)</td>\n",
              "      <td>4.0</td>\n",
              "      <td>1.0</td>\n",
              "      <td>Belgium (BEL)</td>\n",
              "      <td></td>\n",
              "      <td>24000.0</td>\n",
              "      <td>1.0</td>\n",
              "      <td>0.0</td>\n",
              "      <td>STEINER Carl (AUT)</td>\n",
              "      <td>VINCENTI Raymond (FRA)</td>\n",
              "      <td>SCHMETZER Emil (FRG)</td>\n",
              "      <td>211.0</td>\n",
              "      <td>1243.0</td>\n",
              "      <td>ITA</td>\n",
              "      <td>BEL</td>\n",
              "    </tr>\n",
              "    <tr>\n",
              "      <th>101</th>\n",
              "      <td>1958.0</td>\n",
              "      <td>08 Jun 1958 - 14:00</td>\n",
              "      <td>Group 3</td>\n",
              "      <td>Rasunda Stadium</td>\n",
              "      <td>Solna</td>\n",
              "      <td>Sweden (SWE)</td>\n",
              "      <td>3.0</td>\n",
              "      <td>0.0</td>\n",
              "      <td>Mexico (MEX)</td>\n",
              "      <td></td>\n",
              "      <td>34107.0</td>\n",
              "      <td>1.0</td>\n",
              "      <td>0.0</td>\n",
              "      <td>LATYCHEV Nikolaj (URS)</td>\n",
              "      <td>MOWAT Jack (SCO)</td>\n",
              "      <td>ERIKSSON Arne (FIN)</td>\n",
              "      <td>220.0</td>\n",
              "      <td>1415.0</td>\n",
              "      <td>SWE</td>\n",
              "      <td>MEX</td>\n",
              "    </tr>\n",
              "    <tr>\n",
              "      <th>164</th>\n",
              "      <td>1962.0</td>\n",
              "      <td>13 Jun 1962 - 14:30</td>\n",
              "      <td>Semi-finals</td>\n",
              "      <td>Estadio Sausalito</td>\n",
              "      <td>Vina Del Mar</td>\n",
              "      <td>Czechoslovakia (TCH)</td>\n",
              "      <td>3.0</td>\n",
              "      <td>1.0</td>\n",
              "      <td>Yugoslavia (YUG)</td>\n",
              "      <td></td>\n",
              "      <td>5890.0</td>\n",
              "      <td>0.0</td>\n",
              "      <td>0.0</td>\n",
              "      <td>DIENST Gottfried (SUI)</td>\n",
              "      <td>STEINER Carl (AUT)</td>\n",
              "      <td>JONNI Cesare (ITA)</td>\n",
              "      <td>514.0</td>\n",
              "      <td>1559.0</td>\n",
              "      <td>TCH</td>\n",
              "      <td>YUG</td>\n",
              "    </tr>\n",
              "    <tr>\n",
              "      <th>547</th>\n",
              "      <td>1998.0</td>\n",
              "      <td>22 Jun 1998 - 21:00</td>\n",
              "      <td>Group G</td>\n",
              "      <td>Stade Municipal</td>\n",
              "      <td>Toulouse</td>\n",
              "      <td>Romania (ROU)</td>\n",
              "      <td>2.0</td>\n",
              "      <td>1.0</td>\n",
              "      <td>England (ENG)</td>\n",
              "      <td></td>\n",
              "      <td>33500.0</td>\n",
              "      <td>0.0</td>\n",
              "      <td>0.0</td>\n",
              "      <td>BATTA Marc (FRA)</td>\n",
              "      <td>POUDEVIGNE Jacques (FRA)</td>\n",
              "      <td>SOLDATOS Aristidis Chris (RSA)</td>\n",
              "      <td>1014.0</td>\n",
              "      <td>8756.0</td>\n",
              "      <td>ROU</td>\n",
              "      <td>ENG</td>\n",
              "    </tr>\n",
              "    <tr>\n",
              "      <th>561</th>\n",
              "      <td>1998.0</td>\n",
              "      <td>26 Jun 1998 - 16:00</td>\n",
              "      <td>Group H</td>\n",
              "      <td>Stade du Parc Lescure</td>\n",
              "      <td>Bordeaux</td>\n",
              "      <td>Argentina (ARG)</td>\n",
              "      <td>1.0</td>\n",
              "      <td>0.0</td>\n",
              "      <td>Croatia (CRO)</td>\n",
              "      <td></td>\n",
              "      <td>31800.0</td>\n",
              "      <td>1.0</td>\n",
              "      <td>0.0</td>\n",
              "      <td>BELQOLA Said (MAR)</td>\n",
              "      <td>SOLDATOS Aristidis Chris (RSA)</td>\n",
              "      <td>MANSRI Mohamed (TUN)</td>\n",
              "      <td>1014.0</td>\n",
              "      <td>8772.0</td>\n",
              "      <td>ARG</td>\n",
              "      <td>CRO</td>\n",
              "    </tr>\n",
              "  </tbody>\n",
              "</table>\n",
              "</div>"
            ],
            "text/plain": [
              "       Year              Datetime  ... Home Team Initials Away Team Initials\n",
              "90   1954.0  20 Jun 1954 - 17:00   ...                ITA                BEL\n",
              "101  1958.0  08 Jun 1958 - 14:00   ...                SWE                MEX\n",
              "164  1962.0  13 Jun 1962 - 14:30   ...                TCH                YUG\n",
              "547  1998.0  22 Jun 1998 - 21:00   ...                ROU                ENG\n",
              "561  1998.0  26 Jun 1998 - 16:00   ...                ARG                CRO\n",
              "\n",
              "[5 rows x 20 columns]"
            ]
          },
          "metadata": {
            "tags": []
          },
          "execution_count": 114
        }
      ]
    },
    {
      "cell_type": "code",
      "metadata": {
        "id": "aN6kcq-8vRYu",
        "colab_type": "code",
        "colab": {
          "base_uri": "https://localhost:8080/",
          "height": 454
        },
        "outputId": "9ab540bb-9672-4cc7-dfbd-eb97eee0776f"
      },
      "source": [
        "# name_error = ['rn\">Trinidad and Tobago (TRI)', \"C�te d'Ivoire (CIV)\",'rn\">Republic of Ireland (IRL)','rn\">Bosnia and Herzegovina (BIH)','rn\">United Arab Emirates (UAE)']\n",
        "\n",
        "# mch[mch['Home Team Name'].str.contains('rn\">') == True]['Home Team Name'].replace(to_replace='rn\">', value='', inplace=False)\n",
        "mch['Home Team Name'].replace('rn\">', '')\n",
        "mch['Home Team Name'].unique()"
      ],
      "execution_count": 165,
      "outputs": [
        {
          "output_type": "execute_result",
          "data": {
            "text/plain": [
              "array(['France (FRA)', 'USA (USA)', 'Yugoslavia (YUG)', 'Romania (ROU)',\n",
              "       'Argentina (ARG)', 'Chile (CHI)', 'Uruguay (URU)', 'Brazil (BRA)',\n",
              "       'Paraguay (PAR)', 'Austria (AUT)', 'Hungary (HUN)',\n",
              "       'Switzerland (SUI)', 'Sweden (SWE)', 'Germany (GER)',\n",
              "       'Spain (ESP)', 'Italy (ITA)', 'Czechoslovakia (TCH)', 'Cuba (CUB)',\n",
              "       'England (ENG)', 'Germany FR (FRG)', 'Turkey (TUR)',\n",
              "       'Soviet Union (URS)', 'Northern Ireland (NIR)', 'Mexico (MEX)',\n",
              "       'Wales (WAL)', 'Portugal (POR)', 'Korea DPR (PRK)', 'Peru (PER)',\n",
              "       'Belgium (BEL)', 'Bulgaria (BUL)', 'German DR (GDR)',\n",
              "       'Zaire (ZAI)', 'Poland (POL)', 'Australia (AUS)', 'Scotland (SCO)',\n",
              "       'Netherlands (NED)', 'Haiti (HAI)', 'Tunisia (TUN)',\n",
              "       'Algeria (ALG)', 'Honduras (HON)', 'Canada (CAN)', 'Morocco (MAR)',\n",
              "       'Korea Republic (KOR)', 'Iraq (IRQ)', 'Denmark (DEN)',\n",
              "       'rn\">United Arab Emirates (UAE)', 'Costa Rica (CRC)',\n",
              "       'Cameroon (CMR)', 'rn\">Republic of Ireland (IRL)',\n",
              "       'Colombia (COL)', 'Norway (NOR)', 'Nigeria (NGA)',\n",
              "       'Saudi Arabia (KSA)', 'Bolivia (BOL)', 'Russia (RUS)',\n",
              "       'Greece (GRE)', 'Jamaica (JAM)', 'South Africa (RSA)',\n",
              "       'Japan (JPN)', 'Croatia (CRO)', 'China PR (CHN)', 'Senegal (SEN)',\n",
              "       'Slovenia (SVN)', 'Ecuador (ECU)', 'rn\">Trinidad and Tobago (TRI)',\n",
              "       'rn\">Serbia and Montenegro (SCG)', 'Angola (ANG)',\n",
              "       'Czech Republic (CZE)', 'Togo (TOG)', 'Iran (IRN)',\n",
              "       \"C�te d'Ivoire (CIV)\", 'Ghana (GHA)', 'Ukraine (UKR)',\n",
              "       'Serbia (SRB)', 'New Zealand (NZL)', 'Slovakia (SVK)',\n",
              "       'IR Iran (IRN)', 'rn\">Bosnia and Herzegovina (BIH)', nan],\n",
              "      dtype=object)"
            ]
          },
          "metadata": {
            "tags": []
          },
          "execution_count": 165
        }
      ]
    }
  ]
}