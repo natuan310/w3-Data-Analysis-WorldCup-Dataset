{
  "nbformat": 4,
  "nbformat_minor": 0,
  "metadata": {
    "kernelspec": {
      "display_name": "Python 3",
      "language": "python",
      "name": "python3"
    },
    "language_info": {
      "codemirror_mode": {
        "name": "ipython",
        "version": 3
      },
      "file_extension": ".py",
      "mimetype": "text/x-python",
      "name": "python",
      "nbconvert_exporter": "python",
      "pygments_lexer": "ipython3",
      "version": "3.6.9-final"
    },
    "colab": {
      "name": "Tee.ipynb",
      "provenance": [],
      "include_colab_link": true
    }
  },
  "cells": [
    {
      "cell_type": "markdown",
      "metadata": {
        "id": "view-in-github",
        "colab_type": "text"
      },
      "source": [
        "<a href=\"https://colab.research.google.com/github/natuan310/w3-Data-Analysis-WorldCup-Dataset/blob/master/Tee.ipynb\" target=\"_parent\"><img src=\"https://colab.research.google.com/assets/colab-badge.svg\" alt=\"Open In Colab\"/></a>"
      ]
    },
    {
      "cell_type": "code",
      "metadata": {
        "id": "cwIAA0c32xh6",
        "colab_type": "code",
        "outputId": "72018b43-2c6e-46c1-c189-91ed7c3221c9",
        "colab": {
          "base_uri": "https://localhost:8080/",
          "height": 121
        }
      },
      "source": [
        "from google.colab import drive\n",
        "drive.mount('/content/gdrive', force_remount=True)"
      ],
      "execution_count": 1,
      "outputs": [
        {
          "output_type": "stream",
          "text": [
            "Go to this URL in a browser: https://accounts.google.com/o/oauth2/auth?client_id=947318989803-6bn6qk8qdgf4n4g3pfee6491hc0brc4i.apps.googleusercontent.com&redirect_uri=urn%3aietf%3awg%3aoauth%3a2.0%3aoob&response_type=code&scope=email%20https%3a%2f%2fwww.googleapis.com%2fauth%2fdocs.test%20https%3a%2f%2fwww.googleapis.com%2fauth%2fdrive%20https%3a%2f%2fwww.googleapis.com%2fauth%2fdrive.photos.readonly%20https%3a%2f%2fwww.googleapis.com%2fauth%2fpeopleapi.readonly\n",
            "\n",
            "Enter your authorization code:\n",
            "··········\n",
            "Mounted at /content/gdrive\n"
          ],
          "name": "stdout"
        }
      ]
    },
    {
      "cell_type": "code",
      "metadata": {
        "id": "dRzUB7mp2u7C",
        "colab_type": "code",
        "colab": {}
      },
      "source": [
        "import numpy as np\n",
        "import pandas as pd\n",
        "import seaborn as sns\n",
        "import matplotlib.pyplot as plt\n",
        "\n",
        "import warnings\n",
        "warnings.filterwarnings('ignore')\n",
        "\n",
        "sns.set_style(\"whitegrid\")"
      ],
      "execution_count": 0,
      "outputs": []
    },
    {
      "cell_type": "code",
      "metadata": {
        "id": "kYMQA1S43ySK",
        "colab_type": "code",
        "colab": {}
      },
      "source": [
        "# working on GG Drive csv data\n",
        "wc = pd.read_csv('/content/gdrive/My Drive/Colab Notebooks/Dataset/fifa-world-cup/WorldCups.csv')\n",
        "mch = pd.read_csv('/content/gdrive/My Drive/Colab Notebooks/Dataset/fifa-world-cup/WorldCupMatches.csv')\n",
        "pls = pd.read_csv('/content/gdrive/My Drive/Colab Notebooks/Dataset/fifa-world-cup/WorldCupPlayers.csv')\n",
        "\n",
        "\n",
        "# # working on local csv data\n",
        "# wc = pd.read_csv('/media/tee/Data/Coder School/_tonga/week3/w3-Data-Analysis-WorldCup-Dataset/Data/WorldCups.csv')\n",
        "# mch = pd.read_csv('/media/tee/Data/Coder School/_tonga/week3/w3-Data-Analysis-WorldCup-Dataset/Data/WorldCupMatches.csv')\n",
        "# pls = pd.read_csv('/media/tee/Data/Coder School/_tonga/week3/w3-Data-Analysis-WorldCup-Dataset/Data/WorldCupPlayers.csv')"
      ],
      "execution_count": 0,
      "outputs": []
    },
    {
      "cell_type": "markdown",
      "metadata": {
        "id": "MueGUnJPw7nl",
        "colab_type": "text"
      },
      "source": [
        "---\n",
        "# Week 3 Project - Data Analysis - World Cup Dataset\n"
      ]
    },
    {
      "cell_type": "markdown",
      "metadata": {
        "id": "iO8NnSqDxV-K",
        "colab_type": "text"
      },
      "source": [
        "---\n",
        "## I. Project Infomation\n",
        "\n",
        "    - Data about FIFA World Cup from 1930 to 2014.\n",
        "    - Dataset has infomation about the league, matches and players.\n",
        "    - This project is about using the data to show a picture about the FIFA World Cup for every football fan all around the world.\n"
      ]
    },
    {
      "cell_type": "markdown",
      "metadata": {
        "id": "eON3E8k1y-2U",
        "colab_type": "text"
      },
      "source": [
        "---\n",
        "## II. Data Infomation\n",
        "    \n",
        "    - Data sets include 3 tables"
      ]
    },
    {
      "cell_type": "markdown",
      "metadata": {
        "id": "a9CFKwq0zLyq",
        "colab_type": "text"
      },
      "source": [
        "---\n",
        "<div>\n",
        "<p style=\"text-align: center;\"><strong>\n",
        "1 - Worldcups: Infomation about each FIFA World Cup.\n",
        "</strong></p> \n",
        "\n",
        "| Column Name    | Description                        | Data Type |\n",
        "| -------------- | ---------------------------------- | --------- |\n",
        "| Year           | Year of the worldcup               | int64     |\n",
        "| Country        | Country of the worldcup            | object    |\n",
        "| Winner         | Team who won the worldcup          | object    |\n",
        "| Runners-Up     | Team who was the second place      | object    |\n",
        "| Third          | Team who was the third place       | object    |\n",
        "| Fourth         | Team who was the fourth place      | object    |\n",
        "| GoalsScored    | Total goals scored in the worldcup | int64     |\n",
        "| QualifiedTeams | Total participating teams          | int64     |\n",
        "| MatchesPlayed  | Total matches played in the cup    | int64     |\n",
        "| Attendance     | Total attendance of the worldcup   | object    |\n",
        "\n",
        "</div>"
      ]
    },
    {
      "cell_type": "code",
      "metadata": {
        "id": "C-OvZyYv6q8v",
        "colab_type": "code",
        "outputId": "57725e18-f24f-495d-d2ec-e70c63a33e31",
        "colab": {
          "base_uri": "https://localhost:8080/",
          "height": 195
        }
      },
      "source": [
        "display(wc.head(5))"
      ],
      "execution_count": 45,
      "outputs": [
        {
          "output_type": "display_data",
          "data": {
            "text/html": [
              "<div>\n",
              "<style scoped>\n",
              "    .dataframe tbody tr th:only-of-type {\n",
              "        vertical-align: middle;\n",
              "    }\n",
              "\n",
              "    .dataframe tbody tr th {\n",
              "        vertical-align: top;\n",
              "    }\n",
              "\n",
              "    .dataframe thead th {\n",
              "        text-align: right;\n",
              "    }\n",
              "</style>\n",
              "<table border=\"1\" class=\"dataframe\">\n",
              "  <thead>\n",
              "    <tr style=\"text-align: right;\">\n",
              "      <th></th>\n",
              "      <th>Year</th>\n",
              "      <th>Country</th>\n",
              "      <th>Winner</th>\n",
              "      <th>Runners-Up</th>\n",
              "      <th>Third</th>\n",
              "      <th>Fourth</th>\n",
              "      <th>GoalsScored</th>\n",
              "      <th>QualifiedTeams</th>\n",
              "      <th>MatchesPlayed</th>\n",
              "      <th>Attendance</th>\n",
              "    </tr>\n",
              "  </thead>\n",
              "  <tbody>\n",
              "    <tr>\n",
              "      <th>0</th>\n",
              "      <td>1930</td>\n",
              "      <td>Uruguay</td>\n",
              "      <td>Uruguay</td>\n",
              "      <td>Argentina</td>\n",
              "      <td>USA</td>\n",
              "      <td>Yugoslavia</td>\n",
              "      <td>70</td>\n",
              "      <td>13</td>\n",
              "      <td>18</td>\n",
              "      <td>590.549</td>\n",
              "    </tr>\n",
              "    <tr>\n",
              "      <th>1</th>\n",
              "      <td>1934</td>\n",
              "      <td>Italy</td>\n",
              "      <td>Italy</td>\n",
              "      <td>Czechoslovakia</td>\n",
              "      <td>Germany</td>\n",
              "      <td>Austria</td>\n",
              "      <td>70</td>\n",
              "      <td>16</td>\n",
              "      <td>17</td>\n",
              "      <td>363.000</td>\n",
              "    </tr>\n",
              "    <tr>\n",
              "      <th>2</th>\n",
              "      <td>1938</td>\n",
              "      <td>France</td>\n",
              "      <td>Italy</td>\n",
              "      <td>Hungary</td>\n",
              "      <td>Brazil</td>\n",
              "      <td>Sweden</td>\n",
              "      <td>84</td>\n",
              "      <td>15</td>\n",
              "      <td>18</td>\n",
              "      <td>375.700</td>\n",
              "    </tr>\n",
              "    <tr>\n",
              "      <th>3</th>\n",
              "      <td>1950</td>\n",
              "      <td>Brazil</td>\n",
              "      <td>Uruguay</td>\n",
              "      <td>Brazil</td>\n",
              "      <td>Sweden</td>\n",
              "      <td>Spain</td>\n",
              "      <td>88</td>\n",
              "      <td>13</td>\n",
              "      <td>22</td>\n",
              "      <td>1.045.246</td>\n",
              "    </tr>\n",
              "    <tr>\n",
              "      <th>4</th>\n",
              "      <td>1954</td>\n",
              "      <td>Switzerland</td>\n",
              "      <td>Germany FR</td>\n",
              "      <td>Hungary</td>\n",
              "      <td>Austria</td>\n",
              "      <td>Uruguay</td>\n",
              "      <td>140</td>\n",
              "      <td>16</td>\n",
              "      <td>26</td>\n",
              "      <td>768.607</td>\n",
              "    </tr>\n",
              "  </tbody>\n",
              "</table>\n",
              "</div>"
            ],
            "text/plain": [
              "   Year      Country      Winner  ... QualifiedTeams MatchesPlayed Attendance\n",
              "0  1930      Uruguay     Uruguay  ...             13            18    590.549\n",
              "1  1934        Italy       Italy  ...             16            17    363.000\n",
              "2  1938       France       Italy  ...             15            18    375.700\n",
              "3  1950       Brazil     Uruguay  ...             13            22  1.045.246\n",
              "4  1954  Switzerland  Germany FR  ...             16            26    768.607\n",
              "\n",
              "[5 rows x 10 columns]"
            ]
          },
          "metadata": {
            "tags": []
          }
        }
      ]
    },
    {
      "cell_type": "markdown",
      "metadata": {
        "id": "8pIjPlwhzWCx",
        "colab_type": "text"
      },
      "source": [
        "---\n",
        "<div>\n",
        "<p style=\"text-align: center;\"><strong>\n",
        "2 - Matches: Infomation about world cup matches.\n",
        "</strong></p> \n",
        "\n",
        "\n",
        "| Column Name          | Description                                                             | Data Type |\n",
        "| -------------------- | ----------------------------------------------------------------------- | --------- |\n",
        "| Year                 | The year in which the match was played                                  | float64   |\n",
        "| Datetime             | The Date on which the match was played along with a 24 hour format time | object    |\n",
        "| Stage                | The stage at which the match was played                                 | object    |\n",
        "| Stadium              | Stadium name where the match was held                                   | object    |\n",
        "| City                 | The city name, where the match was played                               | object    |\n",
        "| Home Team Name       | Home team country name                                                  | object    |\n",
        "| Home Team Goals      | Total goals scored by the home team by the end of the match             | float64   |\n",
        "| Away Team Goals      | Total goals scored by the away team by the end of the match             | float64   |\n",
        "| Away Team Name       | Away team country name                                                  | object    |\n",
        "| Win conditions       | Special win condition (if any)                                          | object    |\n",
        "| Attendance           | Total crowd present at the satdium                                      | float64   |\n",
        "| Half-time Home Goals | Goals scored by the home team until half time                           | float64   |\n",
        "| Half-time Away Goals | Goals scored by the away team until half time                           | float64   |\n",
        "| Referee              | Name of the first refree                                                | object    |\n",
        "| Assistant 1          | Name of the first assistant referee (linesman)                          | object    |\n",
        "| Assistant 2          | Name of the second assistant referee (linesman)                         | object    |\n",
        "| RoundID              | Unique ID of the Round                                                  | float64   |\n",
        "| MatchID              | Unique ID of the match                                                  | float64   |\n",
        "| Home Team Initials   | Home team country's three letter initials                               | object    |\n",
        "| Away Team Initials   | Away team country's three letter initials                               | object    |\n",
        "\n",
        "\n",
        "</div>"
      ]
    },
    {
      "cell_type": "code",
      "metadata": {
        "id": "Q21aMPMl65w9",
        "colab_type": "code",
        "outputId": "3d0adf52-2fe6-4480-a7aa-d997ba91a7b8",
        "colab": {
          "base_uri": "https://localhost:8080/",
          "height": 313
        }
      },
      "source": [
        "display(mch.head(5))"
      ],
      "execution_count": 46,
      "outputs": [
        {
          "output_type": "display_data",
          "data": {
            "text/html": [
              "<div>\n",
              "<style scoped>\n",
              "    .dataframe tbody tr th:only-of-type {\n",
              "        vertical-align: middle;\n",
              "    }\n",
              "\n",
              "    .dataframe tbody tr th {\n",
              "        vertical-align: top;\n",
              "    }\n",
              "\n",
              "    .dataframe thead th {\n",
              "        text-align: right;\n",
              "    }\n",
              "</style>\n",
              "<table border=\"1\" class=\"dataframe\">\n",
              "  <thead>\n",
              "    <tr style=\"text-align: right;\">\n",
              "      <th></th>\n",
              "      <th>Year</th>\n",
              "      <th>Datetime</th>\n",
              "      <th>Stage</th>\n",
              "      <th>Stadium</th>\n",
              "      <th>City</th>\n",
              "      <th>Home Team Name</th>\n",
              "      <th>Home Team Goals</th>\n",
              "      <th>Away Team Goals</th>\n",
              "      <th>Away Team Name</th>\n",
              "      <th>Win conditions</th>\n",
              "      <th>Attendance</th>\n",
              "      <th>Referee</th>\n",
              "      <th>Assistant 1</th>\n",
              "      <th>Assistant 2</th>\n",
              "      <th>RoundID</th>\n",
              "      <th>MatchID</th>\n",
              "    </tr>\n",
              "  </thead>\n",
              "  <tbody>\n",
              "    <tr>\n",
              "      <th>0</th>\n",
              "      <td>1930</td>\n",
              "      <td>13 Jul 1930 - 15:00</td>\n",
              "      <td>Group 1</td>\n",
              "      <td>Pocitos</td>\n",
              "      <td>Montevideo</td>\n",
              "      <td>France (FRA)</td>\n",
              "      <td>4</td>\n",
              "      <td>1</td>\n",
              "      <td>Mexico (MEX)</td>\n",
              "      <td></td>\n",
              "      <td>4444</td>\n",
              "      <td>LOMBARDI Domingo (URU)</td>\n",
              "      <td>CRISTOPHE Henry (BEL)</td>\n",
              "      <td>REGO Gilberto (BRA)</td>\n",
              "      <td>201</td>\n",
              "      <td>1096</td>\n",
              "    </tr>\n",
              "    <tr>\n",
              "      <th>1</th>\n",
              "      <td>1930</td>\n",
              "      <td>13 Jul 1930 - 15:00</td>\n",
              "      <td>Group 4</td>\n",
              "      <td>Parque Central</td>\n",
              "      <td>Montevideo</td>\n",
              "      <td>USA (USA)</td>\n",
              "      <td>3</td>\n",
              "      <td>0</td>\n",
              "      <td>Belgium (BEL)</td>\n",
              "      <td></td>\n",
              "      <td>18346</td>\n",
              "      <td>MACIAS Jose (ARG)</td>\n",
              "      <td>MATEUCCI Francisco (URU)</td>\n",
              "      <td>WARNKEN Alberto (CHI)</td>\n",
              "      <td>201</td>\n",
              "      <td>1090</td>\n",
              "    </tr>\n",
              "    <tr>\n",
              "      <th>2</th>\n",
              "      <td>1930</td>\n",
              "      <td>14 Jul 1930 - 12:45</td>\n",
              "      <td>Group 2</td>\n",
              "      <td>Parque Central</td>\n",
              "      <td>Montevideo</td>\n",
              "      <td>Yugoslavia (YUG)</td>\n",
              "      <td>2</td>\n",
              "      <td>1</td>\n",
              "      <td>Brazil (BRA)</td>\n",
              "      <td></td>\n",
              "      <td>24059</td>\n",
              "      <td>TEJADA Anibal (URU)</td>\n",
              "      <td>VALLARINO Ricardo (URU)</td>\n",
              "      <td>BALWAY Thomas (FRA)</td>\n",
              "      <td>201</td>\n",
              "      <td>1093</td>\n",
              "    </tr>\n",
              "    <tr>\n",
              "      <th>3</th>\n",
              "      <td>1930</td>\n",
              "      <td>14 Jul 1930 - 14:50</td>\n",
              "      <td>Group 3</td>\n",
              "      <td>Pocitos</td>\n",
              "      <td>Montevideo</td>\n",
              "      <td>Romania (ROU)</td>\n",
              "      <td>3</td>\n",
              "      <td>1</td>\n",
              "      <td>Peru (PER)</td>\n",
              "      <td></td>\n",
              "      <td>2549</td>\n",
              "      <td>WARNKEN Alberto (CHI)</td>\n",
              "      <td>LANGENUS Jean (BEL)</td>\n",
              "      <td>MATEUCCI Francisco (URU)</td>\n",
              "      <td>201</td>\n",
              "      <td>1098</td>\n",
              "    </tr>\n",
              "    <tr>\n",
              "      <th>4</th>\n",
              "      <td>1930</td>\n",
              "      <td>15 Jul 1930 - 16:00</td>\n",
              "      <td>Group 1</td>\n",
              "      <td>Parque Central</td>\n",
              "      <td>Montevideo</td>\n",
              "      <td>Argentina (ARG)</td>\n",
              "      <td>1</td>\n",
              "      <td>0</td>\n",
              "      <td>France (FRA)</td>\n",
              "      <td></td>\n",
              "      <td>23409</td>\n",
              "      <td>REGO Gilberto (BRA)</td>\n",
              "      <td>SAUCEDO Ulises (BOL)</td>\n",
              "      <td>RADULESCU Constantin (ROU)</td>\n",
              "      <td>201</td>\n",
              "      <td>1085</td>\n",
              "    </tr>\n",
              "  </tbody>\n",
              "</table>\n",
              "</div>"
            ],
            "text/plain": [
              "   Year              Datetime  ... RoundID MatchID\n",
              "0  1930  13 Jul 1930 - 15:00   ...     201    1096\n",
              "1  1930  13 Jul 1930 - 15:00   ...     201    1090\n",
              "2  1930  14 Jul 1930 - 12:45   ...     201    1093\n",
              "3  1930  14 Jul 1930 - 14:50   ...     201    1098\n",
              "4  1930  15 Jul 1930 - 16:00   ...     201    1085\n",
              "\n",
              "[5 rows x 16 columns]"
            ]
          },
          "metadata": {
            "tags": []
          }
        }
      ]
    },
    {
      "cell_type": "markdown",
      "metadata": {
        "id": "o3qVJzNdzZ7S",
        "colab_type": "text"
      },
      "source": [
        "---\n",
        "<div>\n",
        "<p style=\"text-align: center;\"><strong>\n",
        "3 - Players: Infomation about football players participated.\n",
        "</strong></p> \n",
        "\n",
        "\n",
        "| Column Name   | Description                                                                                                                                         | Data Type |\n",
        "| ------------- | --------------------------------------------------------------------------------------------------------------------------------------------------- | --------- |\n",
        "| RoundID       | Unique ID of the round                                                                                                                              | int64     |\n",
        "| MatchID       | Unique ID of the match                                                                                                                              | int64     |\n",
        "| Team Initials | Player's team initials                                                                                                                              | object    |\n",
        "| Coach Name    | Name and country of the team coach                                                                                                                  | object    |\n",
        "| Line-up       | S=Line-up, N=Substitute                                                                                                                             | object    |\n",
        "| Shirt Number  | Shirt number if available                                                                                                                           | int64     |\n",
        "| Player Name   | Name of the player                                                                                                                                  | object    |\n",
        "| Position      | C=Captain, GK=Goalkeeper                                                                                                                            | object    |\n",
        "| Event         | G=Goal, OG=Own Goal, Y=Yellow Card, R=Red Card, SY = Red Card by second yellow, P=Penalty, MP=Missed Penalty, I = Substitution In, O=Substitute Out | object    |\n",
        "\n",
        "</div>"
      ]
    },
    {
      "cell_type": "code",
      "metadata": {
        "id": "L-QB1CkdweI8",
        "colab_type": "code",
        "outputId": "35a48e69-10d3-41a5-b0e8-1cfa6a492ee9",
        "colab": {
          "base_uri": "https://localhost:8080/",
          "height": 195
        }
      },
      "source": [
        "display(pls.head(5))"
      ],
      "execution_count": 47,
      "outputs": [
        {
          "output_type": "display_data",
          "data": {
            "text/html": [
              "<div>\n",
              "<style scoped>\n",
              "    .dataframe tbody tr th:only-of-type {\n",
              "        vertical-align: middle;\n",
              "    }\n",
              "\n",
              "    .dataframe tbody tr th {\n",
              "        vertical-align: top;\n",
              "    }\n",
              "\n",
              "    .dataframe thead th {\n",
              "        text-align: right;\n",
              "    }\n",
              "</style>\n",
              "<table border=\"1\" class=\"dataframe\">\n",
              "  <thead>\n",
              "    <tr style=\"text-align: right;\">\n",
              "      <th></th>\n",
              "      <th>MatchID</th>\n",
              "      <th>Team Initials</th>\n",
              "      <th>Player Name</th>\n",
              "      <th>Event</th>\n",
              "    </tr>\n",
              "  </thead>\n",
              "  <tbody>\n",
              "    <tr>\n",
              "      <th>0</th>\n",
              "      <td>1096</td>\n",
              "      <td>FRA</td>\n",
              "      <td>Alex THEPOT</td>\n",
              "      <td>No Event</td>\n",
              "    </tr>\n",
              "    <tr>\n",
              "      <th>1</th>\n",
              "      <td>1096</td>\n",
              "      <td>MEX</td>\n",
              "      <td>Oscar BONFIGLIO</td>\n",
              "      <td>No Event</td>\n",
              "    </tr>\n",
              "    <tr>\n",
              "      <th>2</th>\n",
              "      <td>1096</td>\n",
              "      <td>FRA</td>\n",
              "      <td>Marcel LANGILLER</td>\n",
              "      <td>G40'</td>\n",
              "    </tr>\n",
              "    <tr>\n",
              "      <th>3</th>\n",
              "      <td>1096</td>\n",
              "      <td>MEX</td>\n",
              "      <td>Juan CARRENO</td>\n",
              "      <td>G70'</td>\n",
              "    </tr>\n",
              "    <tr>\n",
              "      <th>4</th>\n",
              "      <td>1096</td>\n",
              "      <td>FRA</td>\n",
              "      <td>Ernest LIBERATI</td>\n",
              "      <td>No Event</td>\n",
              "    </tr>\n",
              "  </tbody>\n",
              "</table>\n",
              "</div>"
            ],
            "text/plain": [
              "   MatchID Team Initials       Player Name     Event\n",
              "0     1096           FRA       Alex THEPOT  No Event\n",
              "1     1096           MEX   Oscar BONFIGLIO  No Event\n",
              "2     1096           FRA  Marcel LANGILLER      G40'\n",
              "3     1096           MEX      Juan CARRENO      G70'\n",
              "4     1096           FRA   Ernest LIBERATI  No Event"
            ]
          },
          "metadata": {
            "tags": []
          }
        }
      ]
    },
    {
      "cell_type": "markdown",
      "metadata": {
        "id": "yj_f_KGwz3DA",
        "colab_type": "text"
      },
      "source": [
        "<div>\n",
        "<p style=\"text-align: center;\"><strong>\n",
        "Players: Infomation about football players competed in 1930-2014\n",
        "</strong></p> \n",
        "\n",
        "\n",
        "| Column Name   | Description                                                                                                                                         | Data Type |\n",
        "| ------------- | --------------------------------------------------------------------------------------------------------------------------------------------------- | --------- |\n",
        "| RoundID       | Unique ID of the round                                                                                                                              | int64     |\n",
        "| MatchID       | Unique ID of the match                                                                                                                              | int64     |\n",
        "| Team Initials | Player's team initials                                                                                                                              | object    |\n",
        "| Coach Name    | Name and country of the team coach                                                                                                                  | object    |\n",
        "| Line-up       | S=Line-up, N=Substitute                                                                                                                             | object    |\n",
        "| Shirt Number  | Shirt number if available                                                                                                                           | int64     |\n",
        "| Player Name   | Name of the player                                                                                                                                  | object    |\n",
        "| Position      | C=Captain, GK=Goalkeeper                                                                                                                            | object    |\n",
        "| Event         | G=Goal, OG=Own Goal, Y=Yellow Card, R=Red Card, SY = Red Card by second yellow, P=Penalty, MP=Missed Penalty, I = Substitution In, O=Substitute Out | object    |\n",
        "\n",
        "</div>"
      ]
    },
    {
      "cell_type": "markdown",
      "metadata": {
        "id": "SMzn2KVVz6ro",
        "colab_type": "text"
      },
      "source": [
        "---\n",
        "III. Data Cleaning\n"
      ]
    },
    {
      "cell_type": "markdown",
      "metadata": {
        "id": "9NqpWQtE6kOv",
        "colab_type": "text"
      },
      "source": [
        "---\n",
        "1 - Clean null, duplicate data, error data."
      ]
    },
    {
      "cell_type": "markdown",
      "metadata": {
        "id": "ivBen5WG_kJR",
        "colab_type": "text"
      },
      "source": [
        "---\n",
        "- Table WorldCup is cleaned. No duplicate data."
      ]
    },
    {
      "cell_type": "code",
      "metadata": {
        "id": "cB_54EK77cVb",
        "colab_type": "code",
        "outputId": "42a1dadd-20fc-4d20-a5c0-7dc84a8222ab",
        "colab": {
          "base_uri": "https://localhost:8080/",
          "height": 202
        }
      },
      "source": [
        "wc.nunique()"
      ],
      "execution_count": 8,
      "outputs": [
        {
          "output_type": "execute_result",
          "data": {
            "text/plain": [
              "Year              20\n",
              "Country           15\n",
              "Winner             9\n",
              "Runners-Up        10\n",
              "Third             14\n",
              "Fourth            16\n",
              "GoalsScored       17\n",
              "QualifiedTeams     5\n",
              "MatchesPlayed      9\n",
              "Attendance        20\n",
              "dtype: int64"
            ]
          },
          "metadata": {
            "tags": []
          },
          "execution_count": 8
        }
      ]
    },
    {
      "cell_type": "markdown",
      "metadata": {
        "id": "cOoxdXMl_w8t",
        "colab_type": "text"
      },
      "source": [
        "---\n",
        "- Table World Cup Matches: 852/4572 rows not null.\n"
      ]
    },
    {
      "cell_type": "code",
      "metadata": {
        "id": "B17FRux49WNt",
        "colab_type": "code",
        "colab": {}
      },
      "source": [
        "# Drop null rows\n",
        "mch.drop(labels = mch[mch['Year'].isnull()].index, axis= 0, inplace= True)"
      ],
      "execution_count": 0,
      "outputs": []
    },
    {
      "cell_type": "code",
      "metadata": {
        "id": "E9YuaBJfv2RM",
        "colab_type": "code",
        "colab": {}
      },
      "source": [
        "dup_mch = mch['MatchID'].value_counts() # MatchID has duplicate rows\n",
        "dup_id = dup_mch[dup_mch == 2]\n",
        "mch[mch['MatchID'].isin(dup_id.index)]['Year']  #  The duplicate datas are matches in 2014"
      ],
      "execution_count": 0,
      "outputs": []
    },
    {
      "cell_type": "code",
      "metadata": {
        "id": "O7On8vr4weJO",
        "colab_type": "code",
        "outputId": "c4c5074d-0e99-4098-8deb-5675ba3d6074",
        "colab": {
          "base_uri": "https://localhost:8080/",
          "height": 437
        }
      },
      "source": [
        "# Drop duplicate rows\n",
        "mch.drop_duplicates(keep=\"first\", inplace=True)\n",
        "mch.info()  # table Matches have 836 cleaned data rows"
      ],
      "execution_count": 12,
      "outputs": [
        {
          "output_type": "stream",
          "text": [
            "<class 'pandas.core.frame.DataFrame'>\n",
            "Int64Index: 836 entries, 0 to 835\n",
            "Data columns (total 20 columns):\n",
            "Year                    836 non-null float64\n",
            "Datetime                836 non-null object\n",
            "Stage                   836 non-null object\n",
            "Stadium                 836 non-null object\n",
            "City                    836 non-null object\n",
            "Home Team Name          836 non-null object\n",
            "Home Team Goals         836 non-null float64\n",
            "Away Team Goals         836 non-null float64\n",
            "Away Team Name          836 non-null object\n",
            "Win conditions          836 non-null object\n",
            "Attendance              835 non-null float64\n",
            "Half-time Home Goals    836 non-null float64\n",
            "Half-time Away Goals    836 non-null float64\n",
            "Referee                 836 non-null object\n",
            "Assistant 1             836 non-null object\n",
            "Assistant 2             836 non-null object\n",
            "RoundID                 836 non-null float64\n",
            "MatchID                 836 non-null float64\n",
            "Home Team Initials      836 non-null object\n",
            "Away Team Initials      836 non-null object\n",
            "dtypes: float64(8), object(12)\n",
            "memory usage: 137.2+ KB\n"
          ],
          "name": "stdout"
        }
      ]
    },
    {
      "cell_type": "code",
      "metadata": {
        "id": "ncVlOumF1qwL",
        "colab_type": "code",
        "colab": {}
      },
      "source": [
        "# Fix text error in Stadium name\n",
        "mch['Stadium'].unique()\n",
        "\"\"\" Some Brazil Stadium name got error.\n",
        "    'Maracan� - Est�dio Jornalista M�rio Filho', 'Estadio Jos� Mar�a Minella', 'Stade V�lodrome',\n",
        "    'Nou Camp - Estadio Le�n', 'Estadio Ol�mpico Chateau Carreras', 'Estadio Ol�mpico Universitario', 'Estadio Municipal de Bala�dos'\n",
        "\"\"\"\n",
        "wrong_name = ['Maracan� - Est�dio Jornalista M�rio Filho', 'Estadio Jos� Mar�a Minella', 'Stade V�lodrome',\n",
        "              'Nou Camp - Estadio Le�n', 'Estadio Ol�mpico Chateau Carreras', 'Estadio Ol�mpico Universitario', 'Estadio Municipal de Bala�dos']\n",
        "right_name = ['Maracana - Estadio Jornalista Mario Filho', 'Estadio Jose Maria Minella', 'Stade Velodrome',\n",
        "              'Nou Camp - Estadio Leon', 'Estadio Olimpico Chateau Carreras', 'Estadio Olimpico Universitario', 'Estadio Municipal de Balaidos']\n",
        "for w, r in zip(wrong_name, right_name):\n",
        "    mch['Stadium'].replace(w, r, inplace= True)\n",
        "# mch['Stadium'].unique()"
      ],
      "execution_count": 0,
      "outputs": []
    },
    {
      "cell_type": "code",
      "metadata": {
        "id": "TMCi_GpBl3y-",
        "colab_type": "code",
        "colab": {}
      },
      "source": [
        "# Combine Initials into Team Name to drop Initials column\n",
        "\n",
        "mch['Home Team Name'] = mch['Home Team Name'] + ' (' + mch['Home Team Initials'] +')'\n",
        "mch['Away Team Name'] = mch['Away Team Name'] + ' (' + mch['Away Team Initials'] +')'"
      ],
      "execution_count": 0,
      "outputs": []
    },
    {
      "cell_type": "code",
      "metadata": {
        "id": "aN6kcq-8vRYu",
        "colab_type": "code",
        "colab": {}
      },
      "source": [
        "# name_error = ['rn\">Trinidad and Tobago (TRI)', \"C�te d'Ivoire (CIV)\",'rn\">Republic of Ireland (IRL)','rn\">Bosnia and Herzegovina (BIH)','rn\">United Arab Emirates (UAE)']\n",
        "\n",
        "mch['Home Team Name'] = mch['Home Team Name'].str.replace('rn\">','')\n",
        "mch['Home Team Name'].replace(\"C�te d'Ivoire (CIV)\",  \"Cote d'Ivoire (CIV)\", inplace=True)\n",
        "# mch['Home Team Name'].unique()\n",
        "\n",
        "mch['Away Team Name'] = mch['Away Team Name'].str.replace('rn\">','')\n",
        "mch['Away Team Name'].replace(\"C�te d'Ivoire (CIV)\",  \"Cote d'Ivoire (CIV)\", inplace=True)\n",
        "# mch['Away Team Name'].unique()"
      ],
      "execution_count": 0,
      "outputs": []
    },
    {
      "cell_type": "code",
      "metadata": {
        "id": "s09NwOcRFyZH",
        "colab_type": "code",
        "outputId": "a64474ba-499c-461a-a246-bcd699a368f6",
        "colab": {
          "base_uri": "https://localhost:8080/",
          "height": 98
        }
      },
      "source": [
        "# Matches 'Attendance' has 1 NaN value\n",
        "mch['Attendance'].fillna(0,inplace=True)\n",
        "mch[mch['Attendance'].isnull()]"
      ],
      "execution_count": 21,
      "outputs": [
        {
          "output_type": "execute_result",
          "data": {
            "text/html": [
              "<div>\n",
              "<style scoped>\n",
              "    .dataframe tbody tr th:only-of-type {\n",
              "        vertical-align: middle;\n",
              "    }\n",
              "\n",
              "    .dataframe tbody tr th {\n",
              "        vertical-align: top;\n",
              "    }\n",
              "\n",
              "    .dataframe thead th {\n",
              "        text-align: right;\n",
              "    }\n",
              "</style>\n",
              "<table border=\"1\" class=\"dataframe\">\n",
              "  <thead>\n",
              "    <tr style=\"text-align: right;\">\n",
              "      <th></th>\n",
              "      <th>Year</th>\n",
              "      <th>Datetime</th>\n",
              "      <th>Stage</th>\n",
              "      <th>Stadium</th>\n",
              "      <th>City</th>\n",
              "      <th>Home Team Name</th>\n",
              "      <th>Home Team Goals</th>\n",
              "      <th>Away Team Goals</th>\n",
              "      <th>Away Team Name</th>\n",
              "      <th>Win conditions</th>\n",
              "      <th>Attendance</th>\n",
              "      <th>Half-time Home Goals</th>\n",
              "      <th>Half-time Away Goals</th>\n",
              "      <th>Referee</th>\n",
              "      <th>Assistant 1</th>\n",
              "      <th>Assistant 2</th>\n",
              "      <th>RoundID</th>\n",
              "      <th>MatchID</th>\n",
              "      <th>Home Team Initials</th>\n",
              "      <th>Away Team Initials</th>\n",
              "    </tr>\n",
              "  </thead>\n",
              "  <tbody>\n",
              "  </tbody>\n",
              "</table>\n",
              "</div>"
            ],
            "text/plain": [
              "Empty DataFrame\n",
              "Columns: [Year, Datetime, Stage, Stadium, City, Home Team Name, Home Team Goals, Away Team Goals, Away Team Name, Win conditions, Attendance, Half-time Home Goals, Half-time Away Goals, Referee, Assistant 1, Assistant 2, RoundID, MatchID, Home Team Initials, Away Team Initials]\n",
              "Index: []"
            ]
          },
          "metadata": {
            "tags": []
          },
          "execution_count": 21
        }
      ]
    },
    {
      "cell_type": "code",
      "metadata": {
        "id": "JimhzsZgATru",
        "colab_type": "code",
        "outputId": "26d99d71-fe6d-42f2-b54f-5bcb378fda82",
        "colab": {
          "base_uri": "https://localhost:8080/",
          "height": 198
        }
      },
      "source": [
        "# Convert data type from float to int\n",
        "\n",
        "mch['Year'] = mch['Year'].astype('int')\n",
        "mch['Home Team Goals'] = mch['Home Team Goals'].astype('int')\n",
        "mch['Away Team Goals'] = mch['Away Team Goals'].astype('int')\n",
        "mch['Attendance'] = mch['Attendance'].astype('int')\n",
        "mch['RoundID'] = mch['RoundID'].astype('int')\n",
        "mch['MatchID'] = mch['MatchID'].astype('int')\n",
        "mch.sample(1)"
      ],
      "execution_count": 22,
      "outputs": [
        {
          "output_type": "execute_result",
          "data": {
            "text/html": [
              "<div>\n",
              "<style scoped>\n",
              "    .dataframe tbody tr th:only-of-type {\n",
              "        vertical-align: middle;\n",
              "    }\n",
              "\n",
              "    .dataframe tbody tr th {\n",
              "        vertical-align: top;\n",
              "    }\n",
              "\n",
              "    .dataframe thead th {\n",
              "        text-align: right;\n",
              "    }\n",
              "</style>\n",
              "<table border=\"1\" class=\"dataframe\">\n",
              "  <thead>\n",
              "    <tr style=\"text-align: right;\">\n",
              "      <th></th>\n",
              "      <th>Year</th>\n",
              "      <th>Datetime</th>\n",
              "      <th>Stage</th>\n",
              "      <th>Stadium</th>\n",
              "      <th>City</th>\n",
              "      <th>Home Team Name</th>\n",
              "      <th>Home Team Goals</th>\n",
              "      <th>Away Team Goals</th>\n",
              "      <th>Away Team Name</th>\n",
              "      <th>Win conditions</th>\n",
              "      <th>Attendance</th>\n",
              "      <th>Half-time Home Goals</th>\n",
              "      <th>Half-time Away Goals</th>\n",
              "      <th>Referee</th>\n",
              "      <th>Assistant 1</th>\n",
              "      <th>Assistant 2</th>\n",
              "      <th>RoundID</th>\n",
              "      <th>MatchID</th>\n",
              "      <th>Home Team Initials</th>\n",
              "      <th>Away Team Initials</th>\n",
              "    </tr>\n",
              "  </thead>\n",
              "  <tbody>\n",
              "    <tr>\n",
              "      <th>108</th>\n",
              "      <td>1958</td>\n",
              "      <td>08 Jun 1958 - 19:00</td>\n",
              "      <td>Group 1</td>\n",
              "      <td>Orjans Vall</td>\n",
              "      <td>Halmstad</td>\n",
              "      <td>Northern Ireland (NIR)</td>\n",
              "      <td>1</td>\n",
              "      <td>0</td>\n",
              "      <td>Czechoslovakia (TCH)</td>\n",
              "      <td></td>\n",
              "      <td>10647</td>\n",
              "      <td>1.0</td>\n",
              "      <td>0.0</td>\n",
              "      <td>SEIPELT Fritz (AUT)</td>\n",
              "      <td>ELLIS Arthur (ENG)</td>\n",
              "      <td>FERNANDES CAMPOS Joaquim (POR)</td>\n",
              "      <td>220</td>\n",
              "      <td>1421</td>\n",
              "      <td>NIR</td>\n",
              "      <td>TCH</td>\n",
              "    </tr>\n",
              "  </tbody>\n",
              "</table>\n",
              "</div>"
            ],
            "text/plain": [
              "     Year              Datetime  ... Home Team Initials Away Team Initials\n",
              "108  1958  08 Jun 1958 - 19:00   ...                NIR                TCH\n",
              "\n",
              "[1 rows x 20 columns]"
            ]
          },
          "metadata": {
            "tags": []
          },
          "execution_count": 22
        }
      ]
    },
    {
      "cell_type": "code",
      "metadata": {
        "id": "bboqSPsRAagl",
        "colab_type": "code",
        "colab": {}
      },
      "source": [
        "#  Drop column half time goals, initials\n",
        "\n",
        "mch.drop(columns=['Half-time Home Goals', 'Half-time Away Goals','Home Team Initials','Away Team Initials'], inplace=True)"
      ],
      "execution_count": 0,
      "outputs": []
    },
    {
      "cell_type": "code",
      "metadata": {
        "id": "A68f2nIxDvs9",
        "colab_type": "code",
        "colab": {
          "base_uri": "https://localhost:8080/",
          "height": 218
        },
        "outputId": "0526277d-e391-4ba6-91bc-b5b6ee8e2f28"
      },
      "source": [
        "# Convert column 'Datetime' to datetime data type and remove the hour data\n",
        "mch['Datetime'] = pd.to_datetime(mch['Datetime'])\n",
        "mch['Datetime'] = mch['Datetime'].dt.date\n",
        "mch['Datetime']"
      ],
      "execution_count": 72,
      "outputs": [
        {
          "output_type": "execute_result",
          "data": {
            "text/plain": [
              "0      1930-07-13\n",
              "1      1930-07-13\n",
              "2      1930-07-14\n",
              "3      1930-07-14\n",
              "4      1930-07-15\n",
              "          ...    \n",
              "831    2014-07-05\n",
              "832    2014-06-29\n",
              "833    2014-06-29\n",
              "834    2014-07-01\n",
              "835    2014-07-01\n",
              "Name: Datetime, Length: 836, dtype: object"
            ]
          },
          "metadata": {
            "tags": []
          },
          "execution_count": 72
        }
      ]
    },
    {
      "cell_type": "markdown",
      "metadata": {
        "id": "ZbcKWpin_c_Y",
        "colab_type": "text"
      },
      "source": [
        "---\n",
        "- Table Players"
      ]
    },
    {
      "cell_type": "code",
      "metadata": {
        "id": "VgiBsz0E_y70",
        "colab_type": "code",
        "outputId": "c83ca382-1e65-405f-bd18-beaaae56c5d1",
        "colab": {
          "base_uri": "https://localhost:8080/",
          "height": 252
        }
      },
      "source": [
        "pls.info() # pls table has 37848 clean rows"
      ],
      "execution_count": 0,
      "outputs": [
        {
          "output_type": "stream",
          "text": [
            "<class 'pandas.core.frame.DataFrame'>\n",
            "RangeIndex: 37784 entries, 0 to 37783\n",
            "Data columns (total 9 columns):\n",
            "RoundID          37784 non-null int64\n",
            "MatchID          37784 non-null int64\n",
            "Team Initials    37784 non-null object\n",
            "Coach Name       37784 non-null object\n",
            "Line-up          37784 non-null object\n",
            "Shirt Number     37784 non-null int64\n",
            "Player Name      37784 non-null object\n",
            "Position         4143 non-null object\n",
            "Event            9069 non-null object\n",
            "dtypes: int64(3), object(6)\n",
            "memory usage: 2.6+ MB\n"
          ],
          "name": "stdout"
        }
      ]
    },
    {
      "cell_type": "code",
      "metadata": {
        "id": "tJGpIJJGweJU",
        "colab_type": "code",
        "outputId": "b1a88b02-a42c-4300-8794-7f66785eab6b",
        "colab": {
          "base_uri": "https://localhost:8080/",
          "height": 252
        }
      },
      "source": [
        "pls.drop_duplicates(keep=\"first\", inplace=True)\n",
        "pls.info() # pls table has 37048 clean rows"
      ],
      "execution_count": 13,
      "outputs": [
        {
          "output_type": "stream",
          "text": [
            "<class 'pandas.core.frame.DataFrame'>\n",
            "Int64Index: 37048 entries, 0 to 37047\n",
            "Data columns (total 9 columns):\n",
            "RoundID          37048 non-null int64\n",
            "MatchID          37048 non-null int64\n",
            "Team Initials    37048 non-null object\n",
            "Coach Name       37048 non-null object\n",
            "Line-up          37048 non-null object\n",
            "Shirt Number     37048 non-null int64\n",
            "Player Name      37048 non-null object\n",
            "Position         4018 non-null object\n",
            "Event            8823 non-null object\n",
            "dtypes: int64(3), object(6)\n",
            "memory usage: 2.8+ MB\n"
          ],
          "name": "stdout"
        }
      ]
    },
    {
      "cell_type": "code",
      "metadata": {
        "id": "dwSFuF6YPiC3",
        "colab_type": "code",
        "outputId": "52f4f5d9-5a72-4087-81eb-246b5cb669c4",
        "colab": {
          "base_uri": "https://localhost:8080/",
          "height": 79
        }
      },
      "source": [
        "pls.sample(1)"
      ],
      "execution_count": 0,
      "outputs": [
        {
          "output_type": "execute_result",
          "data": {
            "text/html": [
              "<div>\n",
              "<style scoped>\n",
              "    .dataframe tbody tr th:only-of-type {\n",
              "        vertical-align: middle;\n",
              "    }\n",
              "\n",
              "    .dataframe tbody tr th {\n",
              "        vertical-align: top;\n",
              "    }\n",
              "\n",
              "    .dataframe thead th {\n",
              "        text-align: right;\n",
              "    }\n",
              "</style>\n",
              "<table border=\"1\" class=\"dataframe\">\n",
              "  <thead>\n",
              "    <tr style=\"text-align: right;\">\n",
              "      <th></th>\n",
              "      <th>RoundID</th>\n",
              "      <th>MatchID</th>\n",
              "      <th>Team Initials</th>\n",
              "      <th>Coach Name</th>\n",
              "      <th>Line-up</th>\n",
              "      <th>Shirt Number</th>\n",
              "      <th>Player Name</th>\n",
              "      <th>Position</th>\n",
              "      <th>Event</th>\n",
              "    </tr>\n",
              "  </thead>\n",
              "  <tbody>\n",
              "    <tr>\n",
              "      <th>14222</th>\n",
              "      <td>293</td>\n",
              "      <td>903</td>\n",
              "      <td>YUG</td>\n",
              "      <td>MILJANIC Miljan (SRB)</td>\n",
              "      <td>N</td>\n",
              "      <td>19</td>\n",
              "      <td>Vahid HALILHODZIC</td>\n",
              "      <td>Other</td>\n",
              "      <td>I74'</td>\n",
              "    </tr>\n",
              "  </tbody>\n",
              "</table>\n",
              "</div>"
            ],
            "text/plain": [
              "       RoundID  MatchID Team Initials  ...        Player Name Position  Event\n",
              "14222      293      903           YUG  ...  Vahid HALILHODZIC    Other   I74'\n",
              "\n",
              "[1 rows x 9 columns]"
            ]
          },
          "metadata": {
            "tags": []
          },
          "execution_count": 293
        }
      ]
    },
    {
      "cell_type": "code",
      "metadata": {
        "id": "kebCX7Oy0dxN",
        "colab_type": "code",
        "colab": {}
      },
      "source": [
        " # Fill data to null row in column 'Event'\n",
        "pls['Event'].isnull().sum() # Position column has 28225 null rows\n",
        "pls['Event'].fillna('No Event', inplace=True)"
      ],
      "execution_count": 0,
      "outputs": []
    },
    {
      "cell_type": "code",
      "metadata": {
        "id": "PpeA2xBqPwGZ",
        "colab_type": "code",
        "colab": {}
      },
      "source": [
        "# Drop columns from table Players\n",
        "pls.drop(columns=['RoundID', 'Coach Name', 'Line-up', 'Shirt Number', 'Position'], inplace=True)"
      ],
      "execution_count": 0,
      "outputs": []
    },
    {
      "cell_type": "code",
      "metadata": {
        "id": "dTuLL77FBXOg",
        "colab_type": "code",
        "colab": {
          "base_uri": "https://localhost:8080/",
          "height": 77
        },
        "outputId": "f350ec8e-8b96-432a-fa40-001e513536df"
      },
      "source": [
        "pls.sample()"
      ],
      "execution_count": 42,
      "outputs": [
        {
          "output_type": "execute_result",
          "data": {
            "text/html": [
              "<div>\n",
              "<style scoped>\n",
              "    .dataframe tbody tr th:only-of-type {\n",
              "        vertical-align: middle;\n",
              "    }\n",
              "\n",
              "    .dataframe tbody tr th {\n",
              "        vertical-align: top;\n",
              "    }\n",
              "\n",
              "    .dataframe thead th {\n",
              "        text-align: right;\n",
              "    }\n",
              "</style>\n",
              "<table border=\"1\" class=\"dataframe\">\n",
              "  <thead>\n",
              "    <tr style=\"text-align: right;\">\n",
              "      <th></th>\n",
              "      <th>MatchID</th>\n",
              "      <th>Team Initials</th>\n",
              "      <th>Player Name</th>\n",
              "      <th>Event</th>\n",
              "    </tr>\n",
              "  </thead>\n",
              "  <tbody>\n",
              "    <tr>\n",
              "      <th>11148</th>\n",
              "      <td>1948</td>\n",
              "      <td>NED</td>\n",
              "      <td>Eddy TREIJTEL</td>\n",
              "      <td>No Event</td>\n",
              "    </tr>\n",
              "  </tbody>\n",
              "</table>\n",
              "</div>"
            ],
            "text/plain": [
              "       MatchID Team Initials    Player Name     Event\n",
              "11148     1948           NED  Eddy TREIJTEL  No Event"
            ]
          },
          "metadata": {
            "tags": []
          },
          "execution_count": 42
        }
      ]
    },
    {
      "cell_type": "markdown",
      "metadata": {
        "id": "cSj4-USk6iLE",
        "colab_type": "text"
      },
      "source": [
        "---\n",
        "### III - Analyze Data"
      ]
    },
    {
      "cell_type": "markdown",
      "metadata": {
        "id": "_yAQBL79HhhH",
        "colab_type": "text"
      },
      "source": [
        "---\n",
        "#### 1.  Summary of Worldcup infomation: team, winner, matches, goal\n",
        "    "
      ]
    },
    {
      "cell_type": "markdown",
      "metadata": {
        "id": "qoXgTJT7IVKO",
        "colab_type": "text"
      },
      "source": [
        "- 1.1 Total matches played and qualified teams by year"
      ]
    },
    {
      "cell_type": "code",
      "metadata": {
        "id": "SH6Zsq6ICyWW",
        "colab_type": "code",
        "colab": {}
      },
      "source": [
        ""
      ],
      "execution_count": 0,
      "outputs": []
    },
    {
      "cell_type": "markdown",
      "metadata": {
        "id": "5Bil3JgoIOgB",
        "colab_type": "text"
      },
      "source": [
        "- 1.2 Total attendence of world cups by year"
      ]
    },
    {
      "cell_type": "code",
      "metadata": {
        "id": "u664pLOMIO1X",
        "colab_type": "code",
        "colab": {}
      },
      "source": [
        ""
      ],
      "execution_count": 0,
      "outputs": []
    },
    {
      "cell_type": "markdown",
      "metadata": {
        "id": "N-jk-R93IPL3",
        "colab_type": "text"
      },
      "source": [
        "- 1.3 Average attendence by year"
      ]
    },
    {
      "cell_type": "code",
      "metadata": {
        "id": "d7dDUzvCIQSn",
        "colab_type": "code",
        "colab": {}
      },
      "source": [
        ""
      ],
      "execution_count": 0,
      "outputs": []
    },
    {
      "cell_type": "markdown",
      "metadata": {
        "id": "TbquVh6pIPf_",
        "colab_type": "text"
      },
      "source": [
        "- 1.4 Total goals scored by year"
      ]
    },
    {
      "cell_type": "code",
      "metadata": {
        "id": "RTkC1YexIRLP",
        "colab_type": "code",
        "colab": {}
      },
      "source": [
        ""
      ],
      "execution_count": 0,
      "outputs": []
    },
    {
      "cell_type": "markdown",
      "metadata": {
        "id": "QJXbqIAaIRff",
        "colab_type": "text"
      },
      "source": [
        "- 1.5 Cities that hosted highest world cup matches"
      ]
    },
    {
      "cell_type": "code",
      "metadata": {
        "id": "yTac2UakIRv_",
        "colab_type": "code",
        "colab": {
          "base_uri": "https://localhost:8080/",
          "height": 621
        },
        "outputId": "8be8eb3b-322e-4b7a-ec26-53add009000e"
      },
      "source": [
        "top10_city = mch['City'].value_counts().reset_index()\n",
        "plt.figure(figsize=(10,10))\n",
        "ax = sns.barplot(y=top10_city[\"index\"][:15],x = top10_city[\"City\"][:15],palette=\"bright\",\n",
        "                 linewidth=1,edgecolor=\"k\"*15)\n",
        "plt.xlabel(\"number of matches\")\n",
        "plt.ylabel(\"City\")\n",
        "plt.grid(True)\n",
        "plt.title(\"Cities with maximum world cup matches\",color='b')\n",
        "\n",
        "for i,j in enumerate(\"Matches  :\" + top10_city[\"City\"][:15].astype(str)):\n",
        "    ax.text(.7,i,j,fontsize = 13,color=\"w\")\n",
        "plt.show()"
      ],
      "execution_count": 90,
      "outputs": [
        {
          "output_type": "display_data",
          "data": {
            "image/png": "[encoded data removed]",
            "text/plain": [
              "<Figure size 720x720 with 1 Axes>"
            ]
          },
          "metadata": {
            "tags": []
          }
        }
      ]
    },
    {
      "cell_type": "markdown",
      "metadata": {
        "id": "QQGmZnpQIgLG",
        "colab_type": "text"
      },
      "source": [
        "- 1.6 Average attendance by city"
      ]
    },
    {
      "cell_type": "code",
      "metadata": {
        "id": "ZdFl9yFdIgc9",
        "colab_type": "code",
        "colab": {}
      },
      "source": [
        ""
      ],
      "execution_count": 0,
      "outputs": []
    },
    {
      "cell_type": "markdown",
      "metadata": {
        "id": "45Vjll9uHowG",
        "colab_type": "text"
      },
      "source": [
        "---\n",
        "#### 2. Detail about teamsDetail about maches\n"
      ]
    },
    {
      "cell_type": "markdown",
      "metadata": {
        "id": "S3acsQ3gIruk",
        "colab_type": "text"
      },
      "source": [
        "- 2.1 Teams with the most world cup final victories"
      ]
    },
    {
      "cell_type": "code",
      "metadata": {
        "id": "1HtCh_cTIuoa",
        "colab_type": "code",
        "colab": {}
      },
      "source": [
        ""
      ],
      "execution_count": 0,
      "outputs": []
    },
    {
      "cell_type": "markdown",
      "metadata": {
        "id": "cVQgLPP7Is41",
        "colab_type": "text"
      },
      "source": [
        "- 2.2 World cup final results by nation"
      ]
    },
    {
      "cell_type": "code",
      "metadata": {
        "id": "ua6RvgntJLgw",
        "colab_type": "code",
        "colab": {}
      },
      "source": [
        ""
      ],
      "execution_count": 0,
      "outputs": []
    },
    {
      "cell_type": "markdown",
      "metadata": {
        "id": "cXsqanURItB1",
        "colab_type": "text"
      },
      "source": [
        "- 2.3. World cup final result for third and fourth place by nation"
      ]
    },
    {
      "cell_type": "code",
      "metadata": {
        "id": "ogTJkA_UIv6C",
        "colab_type": "code",
        "colab": {}
      },
      "source": [
        ""
      ],
      "execution_count": 0,
      "outputs": []
    },
    {
      "cell_type": "markdown",
      "metadata": {
        "id": "I4TqYxhsItUj",
        "colab_type": "text"
      },
      "source": [
        "- 2.4. Teams with the most world cup matches"
      ]
    },
    {
      "cell_type": "code",
      "metadata": {
        "id": "OVFYGjpSIwL6",
        "colab_type": "code",
        "colab": {}
      },
      "source": [
        ""
      ],
      "execution_count": 0,
      "outputs": []
    },
    {
      "cell_type": "markdown",
      "metadata": {
        "id": "URhwlYb3Itj9",
        "colab_type": "text"
      },
      "source": [
        "- 2.5. Teams with the most tournament participations"
      ]
    },
    {
      "cell_type": "code",
      "metadata": {
        "id": "dKHcVkViIwe6",
        "colab_type": "code",
        "colab": {}
      },
      "source": [
        ""
      ],
      "execution_count": 0,
      "outputs": []
    },
    {
      "cell_type": "markdown",
      "metadata": {
        "id": "Os7Q5gF_Itsp",
        "colab_type": "text"
      },
      "source": [
        "- 2.6. Match outcomes by countries"
      ]
    },
    {
      "cell_type": "code",
      "metadata": {
        "id": "7U5hI24GIwzS",
        "colab_type": "code",
        "colab": {}
      },
      "source": [
        ""
      ],
      "execution_count": 0,
      "outputs": []
    },
    {
      "cell_type": "markdown",
      "metadata": {
        "id": "9hL-UATxHqNM",
        "colab_type": "text"
      },
      "source": [
        "---\n",
        "#### 3. Detail about matches\n"
      ]
    },
    {
      "cell_type": "markdown",
      "metadata": {
        "id": "OtIKqFDJJWVr",
        "colab_type": "text"
      },
      "source": [
        "- 3.1. Matches with highest number of attendance"
      ]
    },
    {
      "cell_type": "code",
      "metadata": {
        "id": "QBPuEUXkJWnT",
        "colab_type": "code",
        "colab": {}
      },
      "source": [
        ""
      ],
      "execution_count": 0,
      "outputs": []
    },
    {
      "cell_type": "markdown",
      "metadata": {
        "id": "LhuDNO3WJWyb",
        "colab_type": "text"
      },
      "source": [
        "- 3.2. Match outcomes by home and away teams"
      ]
    },
    {
      "cell_type": "code",
      "metadata": {
        "id": "3oKFD0grJW6I",
        "colab_type": "code",
        "colab": {}
      },
      "source": [
        ""
      ],
      "execution_count": 0,
      "outputs": []
    },
    {
      "cell_type": "markdown",
      "metadata": {
        "id": "jjzjQJC3JXCw",
        "colab_type": "text"
      },
      "source": [
        "- 3.3. Distribution of home and away goals"
      ]
    },
    {
      "cell_type": "code",
      "metadata": {
        "id": "40cn8LVbJXL5",
        "colab_type": "code",
        "colab": {}
      },
      "source": [
        ""
      ],
      "execution_count": 0,
      "outputs": []
    },
    {
      "cell_type": "markdown",
      "metadata": {
        "id": "m9VLEz2ZJXUT",
        "colab_type": "text"
      },
      "source": [
        "- 3.4. Teams with highest fifa world cup goals"
      ]
    },
    {
      "cell_type": "code",
      "metadata": {
        "id": "iVUX0vtaJXet",
        "colab_type": "code",
        "colab": {}
      },
      "source": [
        ""
      ],
      "execution_count": 0,
      "outputs": []
    },
    {
      "cell_type": "markdown",
      "metadata": {
        "id": "Bi27BrTrJXoy",
        "colab_type": "text"
      },
      "source": [
        "- 3.5. Highest total goals scored during a match"
      ]
    },
    {
      "cell_type": "code",
      "metadata": {
        "id": "ZxJJef6nJXvp",
        "colab_type": "code",
        "colab": {}
      },
      "source": [
        ""
      ],
      "execution_count": 0,
      "outputs": []
    },
    {
      "cell_type": "markdown",
      "metadata": {
        "id": "kQBJBDcVJX3k",
        "colab_type": "text"
      },
      "source": [
        "- 3.6. Total goals scored during games by year"
      ]
    },
    {
      "cell_type": "code",
      "metadata": {
        "id": "eSIQnukUJX-4",
        "colab_type": "code",
        "colab": {}
      },
      "source": [
        ""
      ],
      "execution_count": 0,
      "outputs": []
    },
    {
      "cell_type": "markdown",
      "metadata": {
        "id": "B3qNDTouHqvc",
        "colab_type": "text"
      },
      "source": [
        "---\n",
        "#### 4. Team comparator\n"
      ]
    },
    {
      "cell_type": "markdown",
      "metadata": {
        "id": "hf8kMfTSJneL",
        "colab_type": "text"
      },
      "source": [
        "- 4.1. Portugal & Argentina"
      ]
    },
    {
      "cell_type": "code",
      "metadata": {
        "id": "2U6ztBRbJnkO",
        "colab_type": "code",
        "colab": {}
      },
      "source": [
        ""
      ],
      "execution_count": 0,
      "outputs": []
    },
    {
      "cell_type": "markdown",
      "metadata": {
        "id": "qU_TN6ZDJnpe",
        "colab_type": "text"
      },
      "source": [
        "- 4.2. France & Croatia"
      ]
    },
    {
      "cell_type": "code",
      "metadata": {
        "id": "PD4BwCXIJnuP",
        "colab_type": "code",
        "colab": {}
      },
      "source": [
        ""
      ],
      "execution_count": 0,
      "outputs": []
    },
    {
      "cell_type": "markdown",
      "metadata": {
        "id": "rQpvG4cLJn0D",
        "colab_type": "text"
      },
      "source": [
        "- 4.3. Spain & Italy"
      ]
    },
    {
      "cell_type": "code",
      "metadata": {
        "id": "l2OnymiqJn5L",
        "colab_type": "code",
        "colab": {}
      },
      "source": [
        ""
      ],
      "execution_count": 0,
      "outputs": []
    },
    {
      "cell_type": "markdown",
      "metadata": {
        "id": "oei9ZLKQJn_M",
        "colab_type": "text"
      },
      "source": [
        "- 4.4. Brazil & Germany"
      ]
    },
    {
      "cell_type": "code",
      "metadata": {
        "id": "iqSutbtYJoFC",
        "colab_type": "code",
        "colab": {}
      },
      "source": [
        ""
      ],
      "execution_count": 0,
      "outputs": []
    },
    {
      "cell_type": "markdown",
      "metadata": {
        "id": "-uVYEi6mJoLE",
        "colab_type": "text"
      },
      "source": [
        "- 4.5. Win-Lost-Goals betweens Winner and Runner-up each year."
      ]
    },
    {
      "cell_type": "code",
      "metadata": {
        "id": "RMW3Ru6QJoS7",
        "colab_type": "code",
        "colab": {}
      },
      "source": [
        ""
      ],
      "execution_count": 0,
      "outputs": []
    },
    {
      "cell_type": "markdown",
      "metadata": {
        "id": "j-5RmmuUJobN",
        "colab_type": "text"
      },
      "source": [
        "- 4.6. Win-Lost-Goals betweens Third and Fourth each year."
      ]
    },
    {
      "cell_type": "code",
      "metadata": {
        "id": "MuhWUsCFJoi5",
        "colab_type": "code",
        "colab": {}
      },
      "source": [
        ""
      ],
      "execution_count": 0,
      "outputs": []
    },
    {
      "cell_type": "markdown",
      "metadata": {
        "id": "5cEBY6hzJ8fW",
        "colab_type": "text"
      },
      "source": [
        "--- \n",
        "#### 5. Detail about winner mathes: win-lose ratio, number of goals in that year"
      ]
    }
  ]
}