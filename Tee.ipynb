{
  "nbformat": 4,
  "nbformat_minor": 0,
  "metadata": {
    "kernelspec": {
      "display_name": "Python 3",
      "language": "python",
      "name": "python3"
    },
    "language_info": {
      "codemirror_mode": {
        "name": "ipython",
        "version": 3
      },
      "file_extension": ".py",
      "mimetype": "text/x-python",
      "name": "python",
      "nbconvert_exporter": "python",
      "pygments_lexer": "ipython3",
      "version": "3.6.9-final"
    },
    "colab": {
      "name": "Tee.ipynb",
      "provenance": [],
      "include_colab_link": true
    }
  },
  "cells": [
    {
      "cell_type": "markdown",
      "metadata": {
        "id": "view-in-github",
        "colab_type": "text"
      },
      "source": [
        "<a href=\"https://colab.research.google.com/github/natuan310/w3-Data-Analysis-WorldCup-Dataset/blob/master/Tee.ipynb\" target=\"_parent\"><img src=\"https://colab.research.google.com/assets/colab-badge.svg\" alt=\"Open In Colab\"/></a>"
      ]
    },
    {
      "cell_type": "code",
      "metadata": {
        "id": "cwIAA0c32xh6",
        "colab_type": "code",
        "outputId": "977e6c7f-6d6f-4a4f-aca0-a1ea7a1be6be",
        "colab": {
          "base_uri": "https://localhost:8080/",
          "height": 123
        }
      },
      "source": [
        "from google.colab import drive\n",
        "drive.mount('/content/gdrive')"
      ],
      "execution_count": 2,
      "outputs": [
        {
          "output_type": "stream",
          "text": [
            "Go to this URL in a browser: https://accounts.google.com/o/oauth2/auth?client_id=947318989803-6bn6qk8qdgf4n4g3pfee6491hc0brc4i.apps.googleusercontent.com&redirect_uri=urn%3aietf%3awg%3aoauth%3a2.0%3aoob&response_type=code&scope=email%20https%3a%2f%2fwww.googleapis.com%2fauth%2fdocs.test%20https%3a%2f%2fwww.googleapis.com%2fauth%2fdrive%20https%3a%2f%2fwww.googleapis.com%2fauth%2fdrive.photos.readonly%20https%3a%2f%2fwww.googleapis.com%2fauth%2fpeopleapi.readonly\n",
            "\n",
            "Enter your authorization code:\n",
            "··········\n",
            "Mounted at /content/gdrive\n"
          ],
          "name": "stdout"
        }
      ]
    },
    {
      "cell_type": "code",
      "metadata": {
        "id": "dRzUB7mp2u7C",
        "colab_type": "code",
        "colab": {}
      },
      "source": [
        "import numpy as np\n",
        "import pandas as pd\n",
        "import seaborn as sns\n",
        "import matplotlib.pyplot as plt\n",
        "\n",
        "import warnings\n",
        "warnings.filterwarnings('ignore')\n",
        "\n",
        "sns.set_style(\"whitegrid\")"
      ],
      "execution_count": 1,
      "outputs": []
    },
    {
      "cell_type": "code",
      "metadata": {
        "id": "kYMQA1S43ySK",
        "colab_type": "code",
        "colab": {}
      },
      "source": [
        "# working on GG Drive csv data\n",
        "wc = pd.read_csv('/content/gdrive/My Drive/Colab Notebooks/Dataset/fifa-world-cup/WorldCups.csv')\n",
        "mch = pd.read_csv('/content/gdrive/My Drive/Colab Notebooks/Dataset/fifa-world-cup/WorldCupMatches.csv')\n",
        "pls = pd.read_csv('/content/gdrive/My Drive/Colab Notebooks/Dataset/fifa-world-cup/WorldCupPlayers.csv')"
      ],
      "execution_count": 0,
      "outputs": []
    },
    {
      "cell_type": "code",
      "execution_count": 2,
      "metadata": {},
      "outputs": [],
      "source": [
        "# working on local csv data\n",
        "wc = pd.read_csv('/media/tee/Data/Coder School/_tonga/week3/w3-Data-Analysis-WorldCup-Dataset/Data/WorldCups.csv')\n",
        "mch = pd.read_csv('/media/tee/Data/Coder School/_tonga/week3/w3-Data-Analysis-WorldCup-Dataset/Data/WorldCupMatches.csv')\n",
        "pls = pd.read_csv('/media/tee/Data/Coder School/_tonga/week3/w3-Data-Analysis-WorldCup-Dataset/Data/WorldCupPlayers.csv')"
      ]
    },
    {
      "cell_type": "code",
      "metadata": {
        "id": "C-OvZyYv6q8v",
        "colab_type": "code",
        "outputId": "59e89247-d457-4b9e-8e75-b1b7a34920dc",
        "colab": {
          "base_uri": "https://localhost:8080/",
          "height": 952
        }
      },
      "source": [
        "wc.sample(1)"
      ],
      "execution_count": 58,
      "outputs": [
        {
          "output_type": "execute_result",
          "data": {
            "text/plain": "   Year Country Winner      Runners-Up    Third   Fourth  GoalsScored  \\\n1  1934   Italy  Italy  Czechoslovakia  Germany  Austria           70   \n\n   QualifiedTeams  MatchesPlayed Attendance  \n1              16             17    363.000  ",
            "text/html": "<div>\n<style scoped>\n    .dataframe tbody tr th:only-of-type {\n        vertical-align: middle;\n    }\n\n    .dataframe tbody tr th {\n        vertical-align: top;\n    }\n\n    .dataframe thead th {\n        text-align: right;\n    }\n</style>\n<table border=\"1\" class=\"dataframe\">\n  <thead>\n    <tr style=\"text-align: right;\">\n      <th></th>\n      <th>Year</th>\n      <th>Country</th>\n      <th>Winner</th>\n      <th>Runners-Up</th>\n      <th>Third</th>\n      <th>Fourth</th>\n      <th>GoalsScored</th>\n      <th>QualifiedTeams</th>\n      <th>MatchesPlayed</th>\n      <th>Attendance</th>\n    </tr>\n  </thead>\n  <tbody>\n    <tr>\n      <th>1</th>\n      <td>1934</td>\n      <td>Italy</td>\n      <td>Italy</td>\n      <td>Czechoslovakia</td>\n      <td>Germany</td>\n      <td>Austria</td>\n      <td>70</td>\n      <td>16</td>\n      <td>17</td>\n      <td>363.000</td>\n    </tr>\n  </tbody>\n</table>\n</div>"
          },
          "metadata": {},
          "execution_count": 58
        }
      ]
    },
    {
      "cell_type": "code",
      "metadata": {
        "id": "Q21aMPMl65w9",
        "colab_type": "code",
        "outputId": "bf4740e8-205f-403f-db90-9df45ba758f4",
        "colab": {
          "base_uri": "https://localhost:8080/",
          "height": 80
        }
      },
      "source": [
        "mch.sample(1)"
      ],
      "execution_count": 54,
      "outputs": [
        {
          "output_type": "execute_result",
          "data": {
            "text/plain": "     Year              Datetime    Stage          Stadium    City  \\\n418  1990  10 Jun 1990 - 21:00   Group D  Giuseppe Meazza  Milan    \n\n    Home Team Name  Home Team Goals  Away Team Goals Away Team Name  \\\n418     Germany FR                4                1     Yugoslavia   \n\n    Win conditions  Attendance  Half-time Home Goals  Half-time Away Goals  \\\n418                    74765.0                     2                     0   \n\n                   Referee         Assistant 1               Assistant 2  \\\n418  MIKKELSEN Peter (DEN)  MANDI Jassim (BHR)  LISTKIEWICZ Michal (POL)   \n\n     RoundID  MatchID Home Team Initials Away Team Initials  \n418      322      201                FRG                YUG  ",
            "text/html": "<div>\n<style scoped>\n    .dataframe tbody tr th:only-of-type {\n        vertical-align: middle;\n    }\n\n    .dataframe tbody tr th {\n        vertical-align: top;\n    }\n\n    .dataframe thead th {\n        text-align: right;\n    }\n</style>\n<table border=\"1\" class=\"dataframe\">\n  <thead>\n    <tr style=\"text-align: right;\">\n      <th></th>\n      <th>Year</th>\n      <th>Datetime</th>\n      <th>Stage</th>\n      <th>Stadium</th>\n      <th>City</th>\n      <th>Home Team Name</th>\n      <th>Home Team Goals</th>\n      <th>Away Team Goals</th>\n      <th>Away Team Name</th>\n      <th>Win conditions</th>\n      <th>Attendance</th>\n      <th>Half-time Home Goals</th>\n      <th>Half-time Away Goals</th>\n      <th>Referee</th>\n      <th>Assistant 1</th>\n      <th>Assistant 2</th>\n      <th>RoundID</th>\n      <th>MatchID</th>\n      <th>Home Team Initials</th>\n      <th>Away Team Initials</th>\n    </tr>\n  </thead>\n  <tbody>\n    <tr>\n      <th>418</th>\n      <td>1990</td>\n      <td>10 Jun 1990 - 21:00</td>\n      <td>Group D</td>\n      <td>Giuseppe Meazza</td>\n      <td>Milan</td>\n      <td>Germany FR</td>\n      <td>4</td>\n      <td>1</td>\n      <td>Yugoslavia</td>\n      <td></td>\n      <td>74765.0</td>\n      <td>2</td>\n      <td>0</td>\n      <td>MIKKELSEN Peter (DEN)</td>\n      <td>MANDI Jassim (BHR)</td>\n      <td>LISTKIEWICZ Michal (POL)</td>\n      <td>322</td>\n      <td>201</td>\n      <td>FRG</td>\n      <td>YUG</td>\n    </tr>\n  </tbody>\n</table>\n</div>"
          },
          "metadata": {},
          "execution_count": 54
        }
      ]
    },
    {
      "cell_type": "code",
      "execution_count": 61,
      "metadata": {},
      "outputs": [
        {
          "output_type": "stream",
          "name": "stdout",
          "text": "<class 'pandas.core.frame.DataFrame'>\nRangeIndex: 37784 entries, 0 to 37783\nData columns (total 9 columns):\n #   Column         Non-Null Count  Dtype \n---  ------         --------------  ----- \n 0   RoundID        37784 non-null  int64 \n 1   MatchID        37784 non-null  int64 \n 2   Team Initials  37784 non-null  object\n 3   Coach Name     37784 non-null  object\n 4   Line-up        37784 non-null  object\n 5   Shirt Number   37784 non-null  int64 \n 6   Player Name    37784 non-null  object\n 7   Position       4143 non-null   object\n 8   Event          9069 non-null   object\ndtypes: int64(3), object(6)\nmemory usage: 2.6+ MB\n"
        }
      ],
      "source": [
        "pls.info()"
      ]
    },
    {
      "cell_type": "code",
      "metadata": {
        "id": "cB_54EK77cVb",
        "colab_type": "code",
        "outputId": "5a39728a-6f6f-43e7-8767-ed60f08d5409",
        "colab": {
          "base_uri": "https://localhost:8080/",
          "height": 204
        }
      },
      "source": [
        "\"\"\" Table WorldCup is cleaned\n",
        "    No duplicate data\n",
        "\"\"\"\n",
        "wc.nunique()"
      ],
      "execution_count": 11,
      "outputs": [
        {
          "output_type": "execute_result",
          "data": {
            "text/plain": "Year              20\nCountry           15\nWinner             9\nRunners-Up        10\nThird             14\nFourth            16\nGoalsScored       17\nQualifiedTeams     5\nMatchesPlayed      9\nAttendance        20\ndtype: int64"
          },
          "metadata": {},
          "execution_count": 11
        }
      ]
    },
    {
      "cell_type": "code",
      "metadata": {
        "id": "d335lVw_-_Lw",
        "colab_type": "code",
        "colab": {}
      },
      "source": [
        "wc.nunique() == wc.shape[0]"
      ],
      "execution_count": 12,
      "outputs": [
        {
          "output_type": "execute_result",
          "data": {
            "text/plain": "Year               True\nCountry           False\nWinner            False\nRunners-Up        False\nThird             False\nFourth            False\nGoalsScored       False\nQualifiedTeams    False\nMatchesPlayed     False\nAttendance         True\ndtype: bool"
          },
          "metadata": {},
          "execution_count": 12
        }
      ]
    },
    {
      "cell_type": "code",
      "metadata": {
        "id": "AjLzVCVc7s23",
        "colab_type": "code",
        "outputId": "9cf4b5e5-dd11-4ed2-c485-4c7ce03f7c6e",
        "colab": {
          "base_uri": "https://localhost:8080/",
          "height": 848
        }
      },
      "source": [
        "mch.sample(1)"
      ],
      "execution_count": 60,
      "outputs": [
        {
          "output_type": "execute_result",
          "data": {
            "text/plain": "     Year              Datetime    Stage                  Stadium  \\\n724  2010  16 Jun 2010 - 20:30   Group A  Loftus Versfeld Stadium   \n\n                  City Home Team Name  Home Team Goals  Away Team Goals  \\\n724  Tshwane/Pretoria    South Africa                0                3   \n\n    Away Team Name Win conditions  Attendance  Half-time Home Goals  \\\n724        Uruguay                    42658.0                     0   \n\n     Half-time Away Goals                Referee           Assistant 1  \\\n724                     1  BUSACCA Massimo (SUI)  ARNET Matthias (SUI)   \n\n                  Assistant 2  RoundID    MatchID Home Team Initials  \\\n724  BURAGINA Francesco (SUI)   249722  300061452                RSA   \n\n    Away Team Initials  \n724                URU  ",
            "text/html": "<div>\n<style scoped>\n    .dataframe tbody tr th:only-of-type {\n        vertical-align: middle;\n    }\n\n    .dataframe tbody tr th {\n        vertical-align: top;\n    }\n\n    .dataframe thead th {\n        text-align: right;\n    }\n</style>\n<table border=\"1\" class=\"dataframe\">\n  <thead>\n    <tr style=\"text-align: right;\">\n      <th></th>\n      <th>Year</th>\n      <th>Datetime</th>\n      <th>Stage</th>\n      <th>Stadium</th>\n      <th>City</th>\n      <th>Home Team Name</th>\n      <th>Home Team Goals</th>\n      <th>Away Team Goals</th>\n      <th>Away Team Name</th>\n      <th>Win conditions</th>\n      <th>Attendance</th>\n      <th>Half-time Home Goals</th>\n      <th>Half-time Away Goals</th>\n      <th>Referee</th>\n      <th>Assistant 1</th>\n      <th>Assistant 2</th>\n      <th>RoundID</th>\n      <th>MatchID</th>\n      <th>Home Team Initials</th>\n      <th>Away Team Initials</th>\n    </tr>\n  </thead>\n  <tbody>\n    <tr>\n      <th>724</th>\n      <td>2010</td>\n      <td>16 Jun 2010 - 20:30</td>\n      <td>Group A</td>\n      <td>Loftus Versfeld Stadium</td>\n      <td>Tshwane/Pretoria</td>\n      <td>South Africa</td>\n      <td>0</td>\n      <td>3</td>\n      <td>Uruguay</td>\n      <td></td>\n      <td>42658.0</td>\n      <td>0</td>\n      <td>1</td>\n      <td>BUSACCA Massimo (SUI)</td>\n      <td>ARNET Matthias (SUI)</td>\n      <td>BURAGINA Francesco (SUI)</td>\n      <td>249722</td>\n      <td>300061452</td>\n      <td>RSA</td>\n      <td>URU</td>\n    </tr>\n  </tbody>\n</table>\n</div>"
          },
          "metadata": {},
          "execution_count": 60
        }
      ]
    },
    {
      "cell_type": "code",
      "metadata": {
        "id": "PofqpfUu7yZP",
        "colab_type": "code",
        "outputId": "1c5f2f95-46dc-404c-bef3-697e026cc817",
        "colab": {
          "base_uri": "https://localhost:8080/",
          "height": 436
        }
      },
      "source": [
        "\"\"\" Table World Cup Matches:\n",
        "    852/4572 rows not null\n",
        "    836 unique Match ID\n",
        "\"\"\"\n",
        "# mch[mch['Year'].isnull() == 0 ]['MatchID'].nunique()\n",
        "# mch[mch['Year'].isnull()]"
      ],
      "execution_count": 17,
      "outputs": [
        {
          "output_type": "execute_result",
          "data": {
            "text/plain": "' Table World Cup Matches:\\n    852/4572 rows not null\\n    836 unique Match ID\\n'"
          },
          "metadata": {},
          "execution_count": 17
        }
      ]
    },
    {
      "cell_type": "code",
      "metadata": {
        "id": "B17FRux49WNt",
        "colab_type": "code",
        "colab": {}
      },
      "source": [
        "mch.drop(labels = mch[mch['Year'].isnull()].index, axis= 0, inplace= True)\n",
        "mch"
      ],
      "execution_count": 0,
      "outputs": []
    },
    {
      "cell_type": "code",
      "metadata": {
        "id": "E9YuaBJfv2RM",
        "colab_type": "code",
        "colab": {
          "base_uri": "https://localhost:8080/",
          "height": 328
        },
        "outputId": "2635753e-4271-4119-e7dd-c79e3bdb0cdd"
      },
      "source": [
        "mch['MatchID'].value_counts()"
      ],
      "execution_count": 52,
      "outputs": [
        {
          "output_type": "execute_result",
          "data": {
            "text/plain": "300186503    2\n300186487    2\n300186460    2\n300186459    2\n300186508    2\n            ..\n1230         1\n1228         1\n1225         1\n1222         1\n533          1\nName: MatchID, Length: 836, dtype: int64"
          },
          "metadata": {},
          "execution_count": 52
        }
      ]
    },
    {
      "cell_type": "code",
      "metadata": {
        "id": "Z3VxUVcbAi__",
        "colab_type": "code",
        "outputId": "9b0cb5d6-2b96-48a3-d40d-481834892017",
        "colab": {
          "base_uri": "https://localhost:8080/",
          "height": 255
        }
      },
      "source": [
        "pls.info()"
      ],
      "execution_count": 21,
      "outputs": [
        {
          "output_type": "stream",
          "name": "stdout",
          "text": "<class 'pandas.core.frame.DataFrame'>\nRangeIndex: 37784 entries, 0 to 37783\nData columns (total 9 columns):\n #   Column         Non-Null Count  Dtype \n---  ------         --------------  ----- \n 0   RoundID        37784 non-null  int64 \n 1   MatchID        37784 non-null  int64 \n 2   Team Initials  37784 non-null  object\n 3   Coach Name     37784 non-null  object\n 4   Line-up        37784 non-null  object\n 5   Shirt Number   37784 non-null  int64 \n 6   Player Name    37784 non-null  object\n 7   Position       4143 non-null   object\n 8   Event          9069 non-null   object\ndtypes: int64(3), object(6)\nmemory usage: 2.6+ MB\n"
        }
      ]
    },
    {
      "cell_type": "code",
      "metadata": {
        "id": "8Rjr3rDG-AIw",
        "colab_type": "code",
        "outputId": "71b9ca9b-5bb0-4f92-96ee-65c69718a477",
        "colab": {
          "base_uri": "https://localhost:8080/",
          "height": 359
        }
      },
      "source": [
        "pls.sample(10)\n",
        "\"\"\" Table World Cup Players\n",
        "    0 null rows\n",
        "\"\"\""
      ],
      "execution_count": 0,
      "outputs": [
        {
          "output_type": "execute_result",
          "data": {
            "text/html": [
              "<div>\n",
              "<style scoped>\n",
              "    .dataframe tbody tr th:only-of-type {\n",
              "        vertical-align: middle;\n",
              "    }\n",
              "\n",
              "    .dataframe tbody tr th {\n",
              "        vertical-align: top;\n",
              "    }\n",
              "\n",
              "    .dataframe thead th {\n",
              "        text-align: right;\n",
              "    }\n",
              "</style>\n",
              "<table border=\"1\" class=\"dataframe\">\n",
              "  <thead>\n",
              "    <tr style=\"text-align: right;\">\n",
              "      <th></th>\n",
              "      <th>RoundID</th>\n",
              "      <th>MatchID</th>\n",
              "      <th>Team Initials</th>\n",
              "      <th>Coach Name</th>\n",
              "      <th>Line-up</th>\n",
              "      <th>Shirt Number</th>\n",
              "      <th>Player Name</th>\n",
              "      <th>Position</th>\n",
              "      <th>Event</th>\n",
              "    </tr>\n",
              "  </thead>\n",
              "  <tbody>\n",
              "    <tr>\n",
              "      <th>553</th>\n",
              "      <td>201</td>\n",
              "      <td>1084</td>\n",
              "      <td>ARG</td>\n",
              "      <td>OLAZAR Francisco (ARG)</td>\n",
              "      <td>N</td>\n",
              "      <td>0</td>\n",
              "      <td>Carlos SPADARO</td>\n",
              "      <td>NaN</td>\n",
              "      <td>NaN</td>\n",
              "    </tr>\n",
              "    <tr>\n",
              "      <th>36626</th>\n",
              "      <td>255955</td>\n",
              "      <td>300186474</td>\n",
              "      <td>BRA</td>\n",
              "      <td>SCOLARI Luiz Felipe (BRA)</td>\n",
              "      <td>N</td>\n",
              "      <td>19</td>\n",
              "      <td>WILLIAN</td>\n",
              "      <td>NaN</td>\n",
              "      <td>I69'</td>\n",
              "    </tr>\n",
              "    <tr>\n",
              "      <th>1271</th>\n",
              "      <td>3492</td>\n",
              "      <td>1130</td>\n",
              "      <td>TCH</td>\n",
              "      <td>PETRU Karel (TCH)</td>\n",
              "      <td>S</td>\n",
              "      <td>0</td>\n",
              "      <td>Oldrich NEJEDLY</td>\n",
              "      <td>NaN</td>\n",
              "      <td>G21' G69' G80'</td>\n",
              "    </tr>\n",
              "    <tr>\n",
              "      <th>12844</th>\n",
              "      <td>279</td>\n",
              "      <td>2202</td>\n",
              "      <td>ARG</td>\n",
              "      <td>MENOTTI Cesar Luis (ARG)</td>\n",
              "      <td>S</td>\n",
              "      <td>21</td>\n",
              "      <td>Jose VALENCIA</td>\n",
              "      <td>NaN</td>\n",
              "      <td>OH46'</td>\n",
              "    </tr>\n",
              "    <tr>\n",
              "      <th>27097</th>\n",
              "      <td>43950100</td>\n",
              "      <td>43950039</td>\n",
              "      <td>ESP</td>\n",
              "      <td>CAMACHO Jose Antonio (ESP)</td>\n",
              "      <td>N</td>\n",
              "      <td>8</td>\n",
              "      <td>BARAJA</td>\n",
              "      <td>NaN</td>\n",
              "      <td>NaN</td>\n",
              "    </tr>\n",
              "    <tr>\n",
              "      <th>15402</th>\n",
              "      <td>294</td>\n",
              "      <td>877</td>\n",
              "      <td>ENG</td>\n",
              "      <td>GREENWOOD Ron (ENG)</td>\n",
              "      <td>N</td>\n",
              "      <td>7</td>\n",
              "      <td>Kevin KEEGAN</td>\n",
              "      <td>NaN</td>\n",
              "      <td>I64'</td>\n",
              "    </tr>\n",
              "    <tr>\n",
              "      <th>13508</th>\n",
              "      <td>293</td>\n",
              "      <td>896</td>\n",
              "      <td>SLV</td>\n",
              "      <td>RODRIGUEZ Mauricio (SLV)</td>\n",
              "      <td>N</td>\n",
              "      <td>7</td>\n",
              "      <td>Silvio AQUINO</td>\n",
              "      <td>NaN</td>\n",
              "      <td>NaN</td>\n",
              "    </tr>\n",
              "    <tr>\n",
              "      <th>13235</th>\n",
              "      <td>280</td>\n",
              "      <td>2247</td>\n",
              "      <td>ITA</td>\n",
              "      <td>BEARZOT Enzo (ITA)</td>\n",
              "      <td>S</td>\n",
              "      <td>13</td>\n",
              "      <td>Patrizio SALA</td>\n",
              "      <td>NaN</td>\n",
              "      <td>NaN</td>\n",
              "    </tr>\n",
              "    <tr>\n",
              "      <th>8586</th>\n",
              "      <td>250</td>\n",
              "      <td>1902</td>\n",
              "      <td>URS</td>\n",
              "      <td>KACHALIN Gavril (URS)</td>\n",
              "      <td>S</td>\n",
              "      <td>19</td>\n",
              "      <td>Givili NODIYA</td>\n",
              "      <td>NaN</td>\n",
              "      <td>Y1' O66'</td>\n",
              "    </tr>\n",
              "    <tr>\n",
              "      <th>21532</th>\n",
              "      <td>337</td>\n",
              "      <td>3078</td>\n",
              "      <td>ITA</td>\n",
              "      <td>SACCHI Arrigo (ITA)</td>\n",
              "      <td>N</td>\n",
              "      <td>22</td>\n",
              "      <td>Luca BUCCI</td>\n",
              "      <td>NaN</td>\n",
              "      <td>NaN</td>\n",
              "    </tr>\n",
              "  </tbody>\n",
              "</table>\n",
              "</div>"
            ],
            "text/plain": [
              "        RoundID    MatchID  ... Position           Event\n",
              "553         201       1084  ...      NaN             NaN\n",
              "36626    255955  300186474  ...      NaN            I69'\n",
              "1271       3492       1130  ...      NaN  G21' G69' G80'\n",
              "12844       279       2202  ...      NaN           OH46'\n",
              "27097  43950100   43950039  ...      NaN             NaN\n",
              "15402       294        877  ...      NaN            I64'\n",
              "13508       293        896  ...      NaN             NaN\n",
              "13235       280       2247  ...      NaN             NaN\n",
              "8586        250       1902  ...      NaN        Y1' O66'\n",
              "21532       337       3078  ...      NaN             NaN\n",
              "\n",
              "[10 rows x 9 columns]"
            ]
          },
          "metadata": {
            "tags": []
          },
          "execution_count": 56
        }
      ]
    },
    {
      "cell_type": "code",
      "metadata": {
        "id": "28yFrYv4-OLO",
        "colab_type": "code",
        "outputId": "e0432c9e-63ba-4b2c-98f1-ccb7a02dd58e",
        "colab": {
          "base_uri": "https://localhost:8080/",
          "height": 187
        }
      },
      "source": [
        "pls.nunique()"
      ],
      "execution_count": 0,
      "outputs": [
        {
          "output_type": "execute_result",
          "data": {
            "text/plain": [
              "RoundID           101\n",
              "MatchID           836\n",
              "Team Initials      82\n",
              "Coach Name        335\n",
              "Line-up             2\n",
              "Shirt Number       24\n",
              "Player Name      7663\n",
              "Position            3\n",
              "Event            1893\n",
              "dtype: int64"
            ]
          },
          "metadata": {
            "tags": []
          },
          "execution_count": 55
        }
      ]
    },
    {
      "cell_type": "code",
      "metadata": {
        "id": "0D4bUabQ-gkU",
        "colab_type": "code",
        "outputId": "08530300-cdc5-4121-d8f4-83ed1cb31df8",
        "colab": {
          "base_uri": "https://localhost:8080/",
          "height": 187
        }
      },
      "source": [
        "pls[pls.isnull() == 0].count()"
      ],
      "execution_count": 0,
      "outputs": [
        {
          "output_type": "execute_result",
          "data": {
            "text/plain": [
              "RoundID          37784\n",
              "MatchID          37784\n",
              "Team Initials    37784\n",
              "Coach Name       37784\n",
              "Line-up          37784\n",
              "Shirt Number     37784\n",
              "Player Name      37784\n",
              "Position          4143\n",
              "Event             9069\n",
              "dtype: int64"
            ]
          },
          "metadata": {
            "tags": []
          },
          "execution_count": 59
        }
      ]
    },
    {
      "cell_type": "code",
      "metadata": {
        "id": "VgiBsz0E_y70",
        "colab_type": "code",
        "outputId": "4a9fa37a-9fe5-4574-d09c-809341119cab",
        "colab": {
          "base_uri": "https://localhost:8080/",
          "height": 419
        }
      },
      "source": [
        "pls[pls['Shirt Number'] == 0]"
      ],
      "execution_count": 0,
      "outputs": [
        {
          "output_type": "execute_result",
          "data": {
            "text/html": [
              "<div>\n",
              "<style scoped>\n",
              "    .dataframe tbody tr th:only-of-type {\n",
              "        vertical-align: middle;\n",
              "    }\n",
              "\n",
              "    .dataframe tbody tr th {\n",
              "        vertical-align: top;\n",
              "    }\n",
              "\n",
              "    .dataframe thead th {\n",
              "        text-align: right;\n",
              "    }\n",
              "</style>\n",
              "<table border=\"1\" class=\"dataframe\">\n",
              "  <thead>\n",
              "    <tr style=\"text-align: right;\">\n",
              "      <th></th>\n",
              "      <th>RoundID</th>\n",
              "      <th>MatchID</th>\n",
              "      <th>Team Initials</th>\n",
              "      <th>Coach Name</th>\n",
              "      <th>Line-up</th>\n",
              "      <th>Shirt Number</th>\n",
              "      <th>Player Name</th>\n",
              "      <th>Position</th>\n",
              "      <th>Event</th>\n",
              "    </tr>\n",
              "  </thead>\n",
              "  <tbody>\n",
              "    <tr>\n",
              "      <th>0</th>\n",
              "      <td>201</td>\n",
              "      <td>1096</td>\n",
              "      <td>FRA</td>\n",
              "      <td>CAUDRON Raoul (FRA)</td>\n",
              "      <td>S</td>\n",
              "      <td>0</td>\n",
              "      <td>Alex THEPOT</td>\n",
              "      <td>GK</td>\n",
              "      <td>NaN</td>\n",
              "    </tr>\n",
              "    <tr>\n",
              "      <th>1</th>\n",
              "      <td>201</td>\n",
              "      <td>1096</td>\n",
              "      <td>MEX</td>\n",
              "      <td>LUQUE Juan (MEX)</td>\n",
              "      <td>S</td>\n",
              "      <td>0</td>\n",
              "      <td>Oscar BONFIGLIO</td>\n",
              "      <td>GK</td>\n",
              "      <td>NaN</td>\n",
              "    </tr>\n",
              "    <tr>\n",
              "      <th>2</th>\n",
              "      <td>201</td>\n",
              "      <td>1096</td>\n",
              "      <td>FRA</td>\n",
              "      <td>CAUDRON Raoul (FRA)</td>\n",
              "      <td>S</td>\n",
              "      <td>0</td>\n",
              "      <td>Marcel LANGILLER</td>\n",
              "      <td>NaN</td>\n",
              "      <td>G40'</td>\n",
              "    </tr>\n",
              "    <tr>\n",
              "      <th>3</th>\n",
              "      <td>201</td>\n",
              "      <td>1096</td>\n",
              "      <td>MEX</td>\n",
              "      <td>LUQUE Juan (MEX)</td>\n",
              "      <td>S</td>\n",
              "      <td>0</td>\n",
              "      <td>Juan CARRENO</td>\n",
              "      <td>NaN</td>\n",
              "      <td>G70'</td>\n",
              "    </tr>\n",
              "    <tr>\n",
              "      <th>4</th>\n",
              "      <td>201</td>\n",
              "      <td>1096</td>\n",
              "      <td>FRA</td>\n",
              "      <td>CAUDRON Raoul (FRA)</td>\n",
              "      <td>S</td>\n",
              "      <td>0</td>\n",
              "      <td>Ernest LIBERATI</td>\n",
              "      <td>NaN</td>\n",
              "      <td>NaN</td>\n",
              "    </tr>\n",
              "    <tr>\n",
              "      <th>...</th>\n",
              "      <td>...</td>\n",
              "      <td>...</td>\n",
              "      <td>...</td>\n",
              "      <td>...</td>\n",
              "      <td>...</td>\n",
              "      <td>...</td>\n",
              "      <td>...</td>\n",
              "      <td>...</td>\n",
              "      <td>...</td>\n",
              "    </tr>\n",
              "    <tr>\n",
              "      <th>3064</th>\n",
              "      <td>209</td>\n",
              "      <td>1190</td>\n",
              "      <td>BRA</td>\n",
              "      <td>COSTA Flavio (BRA)</td>\n",
              "      <td>N</td>\n",
              "      <td>0</td>\n",
              "      <td>RUY</td>\n",
              "      <td>NaN</td>\n",
              "      <td>NaN</td>\n",
              "    </tr>\n",
              "    <tr>\n",
              "      <th>3065</th>\n",
              "      <td>209</td>\n",
              "      <td>1190</td>\n",
              "      <td>URU</td>\n",
              "      <td>LOPEZ Juan (URU)</td>\n",
              "      <td>N</td>\n",
              "      <td>0</td>\n",
              "      <td>Juan Carlos GONZALEZ</td>\n",
              "      <td>NaN</td>\n",
              "      <td>NaN</td>\n",
              "    </tr>\n",
              "    <tr>\n",
              "      <th>3066</th>\n",
              "      <td>209</td>\n",
              "      <td>1190</td>\n",
              "      <td>BRA</td>\n",
              "      <td>COSTA Flavio (BRA)</td>\n",
              "      <td>N</td>\n",
              "      <td>0</td>\n",
              "      <td>NILTON SANTOS</td>\n",
              "      <td>NaN</td>\n",
              "      <td>NaN</td>\n",
              "    </tr>\n",
              "    <tr>\n",
              "      <th>3067</th>\n",
              "      <td>209</td>\n",
              "      <td>1190</td>\n",
              "      <td>URU</td>\n",
              "      <td>LOPEZ Juan (URU)</td>\n",
              "      <td>N</td>\n",
              "      <td>0</td>\n",
              "      <td>Ernesto VIDAL</td>\n",
              "      <td>NaN</td>\n",
              "      <td>NaN</td>\n",
              "    </tr>\n",
              "    <tr>\n",
              "      <th>3068</th>\n",
              "      <td>209</td>\n",
              "      <td>1190</td>\n",
              "      <td>BRA</td>\n",
              "      <td>COSTA Flavio (BRA)</td>\n",
              "      <td>N</td>\n",
              "      <td>0</td>\n",
              "      <td>CASTILHO</td>\n",
              "      <td>NaN</td>\n",
              "      <td>NaN</td>\n",
              "    </tr>\n",
              "  </tbody>\n",
              "</table>\n",
              "<p>3069 rows × 9 columns</p>\n",
              "</div>"
            ],
            "text/plain": [
              "      RoundID  MatchID Team Initials  ...           Player Name Position  Event\n",
              "0         201     1096           FRA  ...           Alex THEPOT       GK    NaN\n",
              "1         201     1096           MEX  ...       Oscar BONFIGLIO       GK    NaN\n",
              "2         201     1096           FRA  ...      Marcel LANGILLER      NaN   G40'\n",
              "3         201     1096           MEX  ...          Juan CARRENO      NaN   G70'\n",
              "4         201     1096           FRA  ...       Ernest LIBERATI      NaN    NaN\n",
              "...       ...      ...           ...  ...                   ...      ...    ...\n",
              "3064      209     1190           BRA  ...                   RUY      NaN    NaN\n",
              "3065      209     1190           URU  ...  Juan Carlos GONZALEZ      NaN    NaN\n",
              "3066      209     1190           BRA  ...         NILTON SANTOS      NaN    NaN\n",
              "3067      209     1190           URU  ...         Ernesto VIDAL      NaN    NaN\n",
              "3068      209     1190           BRA  ...              CASTILHO      NaN    NaN\n",
              "\n",
              "[3069 rows x 9 columns]"
            ]
          },
          "metadata": {
            "tags": []
          },
          "execution_count": 76
        }
      ]
    }
  ]
}