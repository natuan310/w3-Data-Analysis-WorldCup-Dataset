{
  "nbformat": 4,
  "nbformat_minor": 0,
  "metadata": {
    "kernelspec": {
      "display_name": "Python 3",
      "language": "python",
      "name": "python3"
    },
    "language_info": {
      "codemirror_mode": {
        "name": "ipython",
        "version": 3
      },
      "file_extension": ".py",
      "mimetype": "text/x-python",
      "name": "python",
      "nbconvert_exporter": "python",
      "pygments_lexer": "ipython3",
      "version": "3.6.9-final"
    },
    "colab": {
      "name": "Tee.ipynb",
      "provenance": [],
      "include_colab_link": true
    }
  },
  "cells": [
    {
      "cell_type": "markdown",
      "metadata": {
        "id": "view-in-github",
        "colab_type": "text"
      },
      "source": [
        "<a href=\"https://colab.research.google.com/github/natuan310/w3-Data-Analysis-WorldCup-Dataset/blob/master/Tee.ipynb\" target=\"_parent\"><img src=\"https://colab.research.google.com/assets/colab-badge.svg\" alt=\"Open In Colab\"/></a>"
      ]
    },
    {
      "cell_type": "code",
      "metadata": {
        "id": "cwIAA0c32xh6",
        "colab_type": "code",
        "outputId": "ed02ed39-fba2-4447-f810-1d3c957d05bc",
        "colab": {
          "base_uri": "https://localhost:8080/",
          "height": 121
        }
      },
      "source": [
        "from google.colab import drive\n",
        "drive.mount('/content/gdrive')"
      ],
      "execution_count": 2,
      "outputs": [
        {
          "output_type": "stream",
          "text": [
            "Go to this URL in a browser: https://accounts.google.com/o/oauth2/auth?client_id=947318989803-6bn6qk8qdgf4n4g3pfee6491hc0brc4i.apps.googleusercontent.com&redirect_uri=urn%3aietf%3awg%3aoauth%3a2.0%3aoob&response_type=code&scope=email%20https%3a%2f%2fwww.googleapis.com%2fauth%2fdocs.test%20https%3a%2f%2fwww.googleapis.com%2fauth%2fdrive%20https%3a%2f%2fwww.googleapis.com%2fauth%2fdrive.photos.readonly%20https%3a%2f%2fwww.googleapis.com%2fauth%2fpeopleapi.readonly\n",
            "\n",
            "Enter your authorization code:\n",
            "··········\n",
            "Mounted at /content/gdrive\n"
          ],
          "name": "stdout"
        }
      ]
    },
    {
      "cell_type": "code",
      "metadata": {
        "id": "aABPGUtZxSc0",
        "colab_type": "code",
        "colab": {}
      },
      "source": [
        ""
      ],
      "execution_count": 0,
      "outputs": []
    },
    {
      "cell_type": "code",
      "metadata": {
        "id": "dRzUB7mp2u7C",
        "colab_type": "code",
        "colab": {}
      },
      "source": [
        "import numpy as np\n",
        "import pandas as pd\n",
        "import seaborn as sns\n",
        "import matplotlib.pyplot as plt\n",
        "\n",
        "import warnings\n",
        "warnings.filterwarnings('ignore')\n",
        "\n",
        "sns.set_style(\"whitegrid\")"
      ],
      "execution_count": 0,
      "outputs": []
    },
    {
      "cell_type": "code",
      "metadata": {
        "id": "kYMQA1S43ySK",
        "colab_type": "code",
        "colab": {}
      },
      "source": [
        "# working on GG Drive csv data\n",
        "wc = pd.read_csv('/content/gdrive/My Drive/Colab Notebooks/Dataset/fifa-world-cup/WorldCups.csv')\n",
        "mch = pd.read_csv('/content/gdrive/My Drive/Colab Notebooks/Dataset/fifa-world-cup/WorldCupMatches.csv')\n",
        "pls = pd.read_csv('/content/gdrive/My Drive/Colab Notebooks/Dataset/fifa-world-cup/WorldCupPlayers.csv')"
      ],
      "execution_count": 0,
      "outputs": []
    },
    {
      "cell_type": "code",
      "metadata": {
        "id": "2mahOA9JweIy",
        "colab_type": "code",
        "colab": {}
      },
      "source": [
        "# working on local csv data\n",
        "wc = pd.read_csv('/media/tee/Data/Coder School/_tonga/week3/w3-Data-Analysis-WorldCup-Dataset/Data/WorldCups.csv')\n",
        "mch = pd.read_csv('/media/tee/Data/Coder School/_tonga/week3/w3-Data-Analysis-WorldCup-Dataset/Data/WorldCupMatches.csv')\n",
        "pls = pd.read_csv('/media/tee/Data/Coder School/_tonga/week3/w3-Data-Analysis-WorldCup-Dataset/Data/WorldCupPlayers.csv')"
      ],
      "execution_count": 0,
      "outputs": []
    },
    {
      "cell_type": "markdown",
      "metadata": {
        "id": "MueGUnJPw7nl",
        "colab_type": "text"
      },
      "source": [
        "---\n",
        "# Week 3 Project - Data Analysis - World Cup Dataset\n"
      ]
    },
    {
      "cell_type": "markdown",
      "metadata": {
        "id": "iO8NnSqDxV-K",
        "colab_type": "text"
      },
      "source": [
        "---\n",
        "I. Project Infomation\n",
        "\n",
        "    - Data about FIFA World Cup from 1930 to 2014.\n",
        "    - Dataset has infomation about the league, matches and players.\n",
        "    - This project is about using the data to show a picture about the FIFA World Cup for every football fan all around the world.\n"
      ]
    },
    {
      "cell_type": "markdown",
      "metadata": {
        "id": "eON3E8k1y-2U",
        "colab_type": "text"
      },
      "source": [
        "---\n",
        "II. Data Infomation\n",
        "    \n",
        "    - Data sets include 3 tables"
      ]
    },
    {
      "cell_type": "markdown",
      "metadata": {
        "id": "a9CFKwq0zLyq",
        "colab_type": "text"
      },
      "source": [
        "---\n",
        "<div>\n",
        "<p style=\"text-align: center;\"><strong>\n",
        "1 - Worldcups: Infomation about each FIFA World Cup.\n",
        "</strong></p> \n",
        "\n",
        "| Column Name    | Description                        | Data Type |\n",
        "| -------------- | ---------------------------------- | --------- |\n",
        "| Year           | Year of the worldcup               | int64     |\n",
        "| Country        | Country of the worldcup            | object    |\n",
        "| Winner         | Team who won the worldcup          | object    |\n",
        "| Runners-Up     | Team who was the second place      | object    |\n",
        "| Third          | Team who was the third place       | object    |\n",
        "| Fourth         | Team who was the fourth place      | object    |\n",
        "| GoalsScored    | Total goals scored in the worldcup | int64     |\n",
        "| QualifiedTeams | Total participating teams          | int64     |\n",
        "| MatchesPlayed  | Total matches played in the cup    | int64     |\n",
        "| Attendance     | Total attendance of the worldcup   | object    |\n",
        "\n",
        "</div>"
      ]
    },
    {
      "cell_type": "code",
      "metadata": {
        "id": "C-OvZyYv6q8v",
        "colab_type": "code",
        "outputId": "bdc6f84d-a3a4-4091-811b-95fe33c6b935",
        "colab": {
          "base_uri": "https://localhost:8080/",
          "height": 77
        }
      },
      "source": [
        "wc.sample(1)"
      ],
      "execution_count": 12,
      "outputs": [
        {
          "output_type": "execute_result",
          "data": {
            "text/html": [
              "<div>\n",
              "<style scoped>\n",
              "    .dataframe tbody tr th:only-of-type {\n",
              "        vertical-align: middle;\n",
              "    }\n",
              "\n",
              "    .dataframe tbody tr th {\n",
              "        vertical-align: top;\n",
              "    }\n",
              "\n",
              "    .dataframe thead th {\n",
              "        text-align: right;\n",
              "    }\n",
              "</style>\n",
              "<table border=\"1\" class=\"dataframe\">\n",
              "  <thead>\n",
              "    <tr style=\"text-align: right;\">\n",
              "      <th></th>\n",
              "      <th>Year</th>\n",
              "      <th>Country</th>\n",
              "      <th>Winner</th>\n",
              "      <th>Runners-Up</th>\n",
              "      <th>Third</th>\n",
              "      <th>Fourth</th>\n",
              "      <th>GoalsScored</th>\n",
              "      <th>QualifiedTeams</th>\n",
              "      <th>MatchesPlayed</th>\n",
              "      <th>Attendance</th>\n",
              "    </tr>\n",
              "  </thead>\n",
              "  <tbody>\n",
              "    <tr>\n",
              "      <th>12</th>\n",
              "      <td>1986</td>\n",
              "      <td>Mexico</td>\n",
              "      <td>Argentina</td>\n",
              "      <td>Germany FR</td>\n",
              "      <td>France</td>\n",
              "      <td>Belgium</td>\n",
              "      <td>132</td>\n",
              "      <td>24</td>\n",
              "      <td>52</td>\n",
              "      <td>2.394.031</td>\n",
              "    </tr>\n",
              "  </tbody>\n",
              "</table>\n",
              "</div>"
            ],
            "text/plain": [
              "    Year Country     Winner  ... QualifiedTeams MatchesPlayed Attendance\n",
              "12  1986  Mexico  Argentina  ...             24            52  2.394.031\n",
              "\n",
              "[1 rows x 10 columns]"
            ]
          },
          "metadata": {
            "tags": []
          },
          "execution_count": 12
        }
      ]
    },
    {
      "cell_type": "markdown",
      "metadata": {
        "id": "8pIjPlwhzWCx",
        "colab_type": "text"
      },
      "source": [
        "---\n",
        "<div>\n",
        "<p style=\"text-align: center;\"><strong>\n",
        "2 - Matches: Infomation about world cup matches.\n",
        "</strong></p> \n",
        "\n",
        "\n",
        "| Column Name          | Description                                                             | Data Type |\n",
        "| -------------------- | ----------------------------------------------------------------------- | --------- |\n",
        "| Year                 | The year in which the match was played                                  | float64   |\n",
        "| Datetime             | The Date on which the match was played along with a 24 hour format time | object    |\n",
        "| Stage                | The stage at which the match was played                                 | object    |\n",
        "| Stadium              | Stadium name where the match was held                                   | object    |\n",
        "| City                 | The city name, where the match was played                               | object    |\n",
        "| Home Team Name       | Home team country name                                                  | object    |\n",
        "| Home Team Goals      | Total goals scored by the home team by the end of the match             | float64   |\n",
        "| Away Team Goals      | Total goals scored by the away team by the end of the match             | float64   |\n",
        "| Away Team Name       | Away team country name                                                  | object    |\n",
        "| Win conditions       | Special win condition (if any)                                          | object    |\n",
        "| Attendance           | Total crowd present at the satdium                                      | float64   |\n",
        "| Half-time Home Goals | Goals scored by the home team until half time                           | float64   |\n",
        "| Half-time Away Goals | Goals scored by the away team until half time                           | float64   |\n",
        "| Referee              | Name of the first refree                                                | object    |\n",
        "| Assistant 1          | Name of the first assistant referee (linesman)                          | object    |\n",
        "| Assistant 2          | Name of the second assistant referee (linesman)                         | object    |\n",
        "| RoundID              | Unique ID of the Round                                                  | float64   |\n",
        "| MatchID              | Unique ID of the match                                                  | float64   |\n",
        "| Home Team Initials   | Home team country's three letter initials                               | object    |\n",
        "| Away Team Initials   | Away team country's three letter initials                               | object    |\n",
        "\n",
        "\n",
        "</div>"
      ]
    },
    {
      "cell_type": "code",
      "metadata": {
        "id": "Q21aMPMl65w9",
        "colab_type": "code",
        "outputId": "ca472b8b-e2c8-4b1b-d370-5bdf7ccbdb91",
        "colab": {
          "base_uri": "https://localhost:8080/",
          "height": 450
        }
      },
      "source": [
        "mch.sample(5)"
      ],
      "execution_count": 33,
      "outputs": [
        {
          "output_type": "execute_result",
          "data": {
            "text/html": [
              "<div>\n",
              "<style scoped>\n",
              "    .dataframe tbody tr th:only-of-type {\n",
              "        vertical-align: middle;\n",
              "    }\n",
              "\n",
              "    .dataframe tbody tr th {\n",
              "        vertical-align: top;\n",
              "    }\n",
              "\n",
              "    .dataframe thead th {\n",
              "        text-align: right;\n",
              "    }\n",
              "</style>\n",
              "<table border=\"1\" class=\"dataframe\">\n",
              "  <thead>\n",
              "    <tr style=\"text-align: right;\">\n",
              "      <th></th>\n",
              "      <th>Year</th>\n",
              "      <th>Datetime</th>\n",
              "      <th>Stage</th>\n",
              "      <th>Stadium</th>\n",
              "      <th>City</th>\n",
              "      <th>Home Team Name</th>\n",
              "      <th>Home Team Goals</th>\n",
              "      <th>Away Team Goals</th>\n",
              "      <th>Away Team Name</th>\n",
              "      <th>Win conditions</th>\n",
              "      <th>Attendance</th>\n",
              "      <th>Half-time Home Goals</th>\n",
              "      <th>Half-time Away Goals</th>\n",
              "      <th>Referee</th>\n",
              "      <th>Assistant 1</th>\n",
              "      <th>Assistant 2</th>\n",
              "      <th>RoundID</th>\n",
              "      <th>MatchID</th>\n",
              "      <th>Home Team Initials</th>\n",
              "      <th>Away Team Initials</th>\n",
              "    </tr>\n",
              "  </thead>\n",
              "  <tbody>\n",
              "    <tr>\n",
              "      <th>739</th>\n",
              "      <td>2010.0</td>\n",
              "      <td>21 Jun 2010 - 20:30</td>\n",
              "      <td>Group H</td>\n",
              "      <td>Ellis Park Stadium</td>\n",
              "      <td>Johannesburg</td>\n",
              "      <td>Spain</td>\n",
              "      <td>2.0</td>\n",
              "      <td>0.0</td>\n",
              "      <td>Honduras</td>\n",
              "      <td></td>\n",
              "      <td>54386.0</td>\n",
              "      <td>1.0</td>\n",
              "      <td>0.0</td>\n",
              "      <td>NISHIMURA Yuichi (JPN)</td>\n",
              "      <td>SAGARA Toru (JPN)</td>\n",
              "      <td>JEONG Hae Sang (KOR)</td>\n",
              "      <td>249722.0</td>\n",
              "      <td>300061494.0</td>\n",
              "      <td>ESP</td>\n",
              "      <td>HON</td>\n",
              "    </tr>\n",
              "    <tr>\n",
              "      <th>653</th>\n",
              "      <td>2006.0</td>\n",
              "      <td>12 Jun 2006 - 18:00</td>\n",
              "      <td>Group E</td>\n",
              "      <td>FIFA World Cup Stadium, Gelsenkirchen</td>\n",
              "      <td>Gelsenkirchen</td>\n",
              "      <td>USA</td>\n",
              "      <td>0.0</td>\n",
              "      <td>3.0</td>\n",
              "      <td>Czech Republic</td>\n",
              "      <td></td>\n",
              "      <td>52000.0</td>\n",
              "      <td>0.0</td>\n",
              "      <td>2.0</td>\n",
              "      <td>AMARILLA Carlos (PAR)</td>\n",
              "      <td>ANDINO Amelio (PAR)</td>\n",
              "      <td>BERNAL Manuel (PAR)</td>\n",
              "      <td>97410100.0</td>\n",
              "      <td>97410010.0</td>\n",
              "      <td>USA</td>\n",
              "      <td>CZE</td>\n",
              "    </tr>\n",
              "    <tr>\n",
              "      <th>514</th>\n",
              "      <td>1994.0</td>\n",
              "      <td>16 Jul 1994 - 12:30</td>\n",
              "      <td>Match for third place</td>\n",
              "      <td>Rose Bowl</td>\n",
              "      <td>Los Angeles</td>\n",
              "      <td>Sweden</td>\n",
              "      <td>4.0</td>\n",
              "      <td>0.0</td>\n",
              "      <td>Bulgaria</td>\n",
              "      <td></td>\n",
              "      <td>91500.0</td>\n",
              "      <td>4.0</td>\n",
              "      <td>0.0</td>\n",
              "      <td>BUJSAIM Ali (UAE)</td>\n",
              "      <td>RHARIB El Jilali Mohamed (MAR)</td>\n",
              "      <td>TAIBI Ernesto (ARG)</td>\n",
              "      <td>3460.0</td>\n",
              "      <td>3103.0</td>\n",
              "      <td>SWE</td>\n",
              "      <td>BUL</td>\n",
              "    </tr>\n",
              "    <tr>\n",
              "      <th>154</th>\n",
              "      <td>1962.0</td>\n",
              "      <td>06 Jun 1962 - 15:00</td>\n",
              "      <td>Group 4</td>\n",
              "      <td>Estadio El Teniente-Codelco</td>\n",
              "      <td>Rancagua</td>\n",
              "      <td>Hungary</td>\n",
              "      <td>0.0</td>\n",
              "      <td>0.0</td>\n",
              "      <td>Argentina</td>\n",
              "      <td></td>\n",
              "      <td>7945.0</td>\n",
              "      <td>0.0</td>\n",
              "      <td>0.0</td>\n",
              "      <td>YAMASAKI MALDONADO Arturo (MEX)</td>\n",
              "      <td>BULNES R. (CHI)</td>\n",
              "      <td>GARDEAZABAL Juan (ESP)</td>\n",
              "      <td>231.0</td>\n",
              "      <td>1451.0</td>\n",
              "      <td>HUN</td>\n",
              "      <td>ARG</td>\n",
              "    </tr>\n",
              "    <tr>\n",
              "      <th>825</th>\n",
              "      <td>2014.0</td>\n",
              "      <td>04 Jul 2014 - 13:00</td>\n",
              "      <td>Quarter-finals</td>\n",
              "      <td>Estadio do Maracana</td>\n",
              "      <td>Rio De Janeiro</td>\n",
              "      <td>France</td>\n",
              "      <td>0.0</td>\n",
              "      <td>1.0</td>\n",
              "      <td>Germany</td>\n",
              "      <td></td>\n",
              "      <td>74240.0</td>\n",
              "      <td>0.0</td>\n",
              "      <td>1.0</td>\n",
              "      <td>PITANA Nestor (ARG)</td>\n",
              "      <td>MAIDANA Hernan (ARG)</td>\n",
              "      <td>BELATTI Juan Pablo (ARG)</td>\n",
              "      <td>255953.0</td>\n",
              "      <td>300186485.0</td>\n",
              "      <td>FRA</td>\n",
              "      <td>GER</td>\n",
              "    </tr>\n",
              "  </tbody>\n",
              "</table>\n",
              "</div>"
            ],
            "text/plain": [
              "       Year              Datetime  ... Home Team Initials Away Team Initials\n",
              "739  2010.0  21 Jun 2010 - 20:30   ...                ESP                HON\n",
              "653  2006.0  12 Jun 2006 - 18:00   ...                USA                CZE\n",
              "514  1994.0  16 Jul 1994 - 12:30   ...                SWE                BUL\n",
              "154  1962.0  06 Jun 1962 - 15:00   ...                HUN                ARG\n",
              "825  2014.0  04 Jul 2014 - 13:00   ...                FRA                GER\n",
              "\n",
              "[5 rows x 20 columns]"
            ]
          },
          "metadata": {
            "tags": []
          },
          "execution_count": 33
        }
      ]
    },
    {
      "cell_type": "markdown",
      "metadata": {
        "id": "o3qVJzNdzZ7S",
        "colab_type": "text"
      },
      "source": [
        "---\n",
        "<div>\n",
        "<p style=\"text-align: center;\"><strong>\n",
        "3 - Players: Infomation about football players participated.\n",
        "</strong></p> \n",
        "\n",
        "\n",
        "| Column Name   | Description                                                                                                                                         | Data Type |\n",
        "| ------------- | --------------------------------------------------------------------------------------------------------------------------------------------------- | --------- |\n",
        "| RoundID       | Unique ID of the round                                                                                                                              | int64     |\n",
        "| MatchID       | Unique ID of the match                                                                                                                              | int64     |\n",
        "| Team Initials | Player's team initials                                                                                                                              | object    |\n",
        "| Coach Name    | Name and country of the team coach                                                                                                                  | object    |\n",
        "| Line-up       | S=Line-up, N=Substitute                                                                                                                             | object    |\n",
        "| Shirt Number  | Shirt number if available                                                                                                                           | int64     |\n",
        "| Player Name   | Name of the player                                                                                                                                  | object    |\n",
        "| Position      | C=Captain, GK=Goalkeeper                                                                                                                            | object    |\n",
        "| Event         | G=Goal, OG=Own Goal, Y=Yellow Card, R=Red Card, SY = Red Card by second yellow, P=Penalty, MP=Missed Penalty, I = Substitution In, O=Substitute Out | object    |\n",
        "\n",
        "</div>"
      ]
    },
    {
      "cell_type": "code",
      "metadata": {
        "id": "L-QB1CkdweI8",
        "colab_type": "code",
        "colab": {
          "base_uri": "https://localhost:8080/",
          "height": 195
        },
        "outputId": "5e894ea6-d8dc-4bf6-9ea9-62aba5612cf4"
      },
      "source": [
        "pls.sample(5)"
      ],
      "execution_count": 22,
      "outputs": [
        {
          "output_type": "execute_result",
          "data": {
            "text/html": [
              "<div>\n",
              "<style scoped>\n",
              "    .dataframe tbody tr th:only-of-type {\n",
              "        vertical-align: middle;\n",
              "    }\n",
              "\n",
              "    .dataframe tbody tr th {\n",
              "        vertical-align: top;\n",
              "    }\n",
              "\n",
              "    .dataframe thead th {\n",
              "        text-align: right;\n",
              "    }\n",
              "</style>\n",
              "<table border=\"1\" class=\"dataframe\">\n",
              "  <thead>\n",
              "    <tr style=\"text-align: right;\">\n",
              "      <th></th>\n",
              "      <th>RoundID</th>\n",
              "      <th>MatchID</th>\n",
              "      <th>Team Initials</th>\n",
              "      <th>Coach Name</th>\n",
              "      <th>Line-up</th>\n",
              "      <th>Shirt Number</th>\n",
              "      <th>Player Name</th>\n",
              "      <th>Position</th>\n",
              "      <th>Event</th>\n",
              "    </tr>\n",
              "  </thead>\n",
              "  <tbody>\n",
              "    <tr>\n",
              "      <th>2397</th>\n",
              "      <td>208</td>\n",
              "      <td>1188</td>\n",
              "      <td>BRA</td>\n",
              "      <td>COSTA Flavio (BRA)</td>\n",
              "      <td>N</td>\n",
              "      <td>0</td>\n",
              "      <td>NILTON SANTOS</td>\n",
              "      <td>Other</td>\n",
              "      <td>No Event</td>\n",
              "    </tr>\n",
              "    <tr>\n",
              "      <th>26524</th>\n",
              "      <td>43950100</td>\n",
              "      <td>43950029</td>\n",
              "      <td>JPN</td>\n",
              "      <td>TROUSSIER Philippe (FRA)</td>\n",
              "      <td>S</td>\n",
              "      <td>11</td>\n",
              "      <td>SUZUKI</td>\n",
              "      <td>Other</td>\n",
              "      <td>O72'</td>\n",
              "    </tr>\n",
              "    <tr>\n",
              "      <th>17780</th>\n",
              "      <td>3469</td>\n",
              "      <td>388</td>\n",
              "      <td>BEL</td>\n",
              "      <td>THYS Guy (BEL)</td>\n",
              "      <td>N</td>\n",
              "      <td>14</td>\n",
              "      <td>Leo CLIJSTERS</td>\n",
              "      <td>Other</td>\n",
              "      <td>No Event</td>\n",
              "    </tr>\n",
              "    <tr>\n",
              "      <th>14340</th>\n",
              "      <td>293</td>\n",
              "      <td>959</td>\n",
              "      <td>NIR</td>\n",
              "      <td>BINGHAM Billy (NIR)</td>\n",
              "      <td>N</td>\n",
              "      <td>7</td>\n",
              "      <td>Noel BROTHERSTON</td>\n",
              "      <td>Other</td>\n",
              "      <td>I66'</td>\n",
              "    </tr>\n",
              "    <tr>\n",
              "      <th>10291</th>\n",
              "      <td>262</td>\n",
              "      <td>1952</td>\n",
              "      <td>ARG</td>\n",
              "      <td>CAP Vladislao (ARG)</td>\n",
              "      <td>S</td>\n",
              "      <td>16</td>\n",
              "      <td>Francisco SA</td>\n",
              "      <td>Other</td>\n",
              "      <td>No Event</td>\n",
              "    </tr>\n",
              "  </tbody>\n",
              "</table>\n",
              "</div>"
            ],
            "text/plain": [
              "        RoundID   MatchID Team Initials  ...       Player Name Position     Event\n",
              "2397        208      1188           BRA  ...     NILTON SANTOS    Other  No Event\n",
              "26524  43950100  43950029           JPN  ...            SUZUKI    Other      O72'\n",
              "17780      3469       388           BEL  ...     Leo CLIJSTERS    Other  No Event\n",
              "14340       293       959           NIR  ...  Noel BROTHERSTON    Other      I66'\n",
              "10291       262      1952           ARG  ...      Francisco SA    Other  No Event\n",
              "\n",
              "[5 rows x 9 columns]"
            ]
          },
          "metadata": {
            "tags": []
          },
          "execution_count": 22
        }
      ]
    },
    {
      "cell_type": "markdown",
      "metadata": {
        "id": "yj_f_KGwz3DA",
        "colab_type": "text"
      },
      "source": [
        "<div>\n",
        "<p style=\"text-align: center;\"><strong>\n",
        "Players: Infomation about football players competed in 1930-2014\n",
        "</strong></p> \n",
        "\n",
        "\n",
        "| Column Name   | Description                                                                                                                                         | Data Type |\n",
        "| ------------- | --------------------------------------------------------------------------------------------------------------------------------------------------- | --------- |\n",
        "| RoundID       | Unique ID of the round                                                                                                                              | int64     |\n",
        "| MatchID       | Unique ID of the match                                                                                                                              | int64     |\n",
        "| Team Initials | Player's team initials                                                                                                                              | object    |\n",
        "| Coach Name    | Name and country of the team coach                                                                                                                  | object    |\n",
        "| Line-up       | S=Line-up, N=Substitute                                                                                                                             | object    |\n",
        "| Shirt Number  | Shirt number if available                                                                                                                           | int64     |\n",
        "| Player Name   | Name of the player                                                                                                                                  | object    |\n",
        "| Position      | C=Captain, GK=Goalkeeper                                                                                                                            | object    |\n",
        "| Event         | G=Goal, OG=Own Goal, Y=Yellow Card, R=Red Card, SY = Red Card by second yellow, P=Penalty, MP=Missed Penalty, I = Substitution In, O=Substitute Out | object    |\n",
        "\n",
        "</div>"
      ]
    },
    {
      "cell_type": "markdown",
      "metadata": {
        "id": "SMzn2KVVz6ro",
        "colab_type": "text"
      },
      "source": [
        "---\n",
        "III. Data Cleaning\n"
      ]
    },
    {
      "cell_type": "markdown",
      "metadata": {
        "id": "9NqpWQtE6kOv",
        "colab_type": "text"
      },
      "source": [
        "---\n",
        "1 - Clean null, duplicate data, error data."
      ]
    },
    {
      "cell_type": "code",
      "metadata": {
        "id": "cB_54EK77cVb",
        "colab_type": "code",
        "outputId": "5a39728a-6f6f-43e7-8767-ed60f08d5409",
        "colab": {
          "base_uri": "https://localhost:8080/",
          "height": 204
        }
      },
      "source": [
        "\"\"\" Table WorldCup is cleaned\n",
        "    No duplicate data\n",
        "\"\"\"\n",
        "wc.nunique()"
      ],
      "execution_count": 0,
      "outputs": [
        {
          "output_type": "execute_result",
          "data": {
            "text/plain": [
              "Year              20\n",
              "Country           15\n",
              "Winner             9\n",
              "Runners-Up        10\n",
              "Third             14\n",
              "Fourth            16\n",
              "GoalsScored       17\n",
              "QualifiedTeams     5\n",
              "MatchesPlayed      9\n",
              "Attendance        20\n",
              "dtype: int64"
            ]
          },
          "metadata": {
            "tags": []
          },
          "execution_count": 155
        }
      ]
    },
    {
      "cell_type": "code",
      "metadata": {
        "id": "B17FRux49WNt",
        "colab_type": "code",
        "colab": {}
      },
      "source": [
        "\"\"\" Table World Cup Matches:\n",
        "    852/4572 rows not null\n",
        "    836 unique Match ID\n",
        "\"\"\"\n",
        "mch.drop(labels = mch[mch['Year'].isnull()].index, axis= 0, inplace= True)\n",
        "mch"
      ],
      "execution_count": 0,
      "outputs": []
    },
    {
      "cell_type": "code",
      "metadata": {
        "id": "E9YuaBJfv2RM",
        "colab_type": "code",
        "colab": {}
      },
      "source": [
        "dup_mch = mch['MatchID'].value_counts()\n",
        "dup_id = dup_mch[dup_mch == 2]\n",
        "mch[mch['MatchID'].isin(dup_id.index)]['Year']  #  The duplicate datas are matches in 2014"
      ],
      "execution_count": 0,
      "outputs": []
    },
    {
      "cell_type": "code",
      "metadata": {
        "id": "O7On8vr4weJO",
        "colab_type": "code",
        "colab": {
          "base_uri": "https://localhost:8080/",
          "height": 437
        },
        "outputId": "ec56701c-6733-4b83-93d6-843b18991df9"
      },
      "source": [
        "mch.drop_duplicates(keep=\"first\", inplace=True)\n",
        "mch.info()  # table Matches have 836 cleaned data rows"
      ],
      "execution_count": 16,
      "outputs": [
        {
          "output_type": "stream",
          "text": [
            "<class 'pandas.core.frame.DataFrame'>\n",
            "Int64Index: 837 entries, 0 to 852\n",
            "Data columns (total 20 columns):\n",
            "Year                    836 non-null float64\n",
            "Datetime                836 non-null object\n",
            "Stage                   836 non-null object\n",
            "Stadium                 836 non-null object\n",
            "City                    836 non-null object\n",
            "Home Team Name          836 non-null object\n",
            "Home Team Goals         836 non-null float64\n",
            "Away Team Goals         836 non-null float64\n",
            "Away Team Name          836 non-null object\n",
            "Win conditions          836 non-null object\n",
            "Attendance              835 non-null float64\n",
            "Half-time Home Goals    836 non-null float64\n",
            "Half-time Away Goals    836 non-null float64\n",
            "Referee                 836 non-null object\n",
            "Assistant 1             836 non-null object\n",
            "Assistant 2             836 non-null object\n",
            "RoundID                 836 non-null float64\n",
            "MatchID                 836 non-null float64\n",
            "Home Team Initials      836 non-null object\n",
            "Away Team Initials      836 non-null object\n",
            "dtypes: float64(8), object(12)\n",
            "memory usage: 137.3+ KB\n"
          ],
          "name": "stdout"
        }
      ]
    },
    {
      "cell_type": "code",
      "metadata": {
        "id": "VgiBsz0E_y70",
        "colab_type": "code",
        "colab": {}
      },
      "source": [
        "pls.info() # pls table has 37848 clean rows"
      ],
      "execution_count": 0,
      "outputs": []
    },
    {
      "cell_type": "code",
      "metadata": {
        "id": "tJGpIJJGweJU",
        "colab_type": "code",
        "colab": {
          "base_uri": "https://localhost:8080/",
          "height": 252
        },
        "outputId": "852499ac-3d35-43ba-c131-3e438617c97f"
      },
      "source": [
        "pls.drop_duplicates(keep=\"first\", inplace=True)\n",
        "pls.info() # pls table has 37048 clean rows"
      ],
      "execution_count": 5,
      "outputs": [
        {
          "output_type": "stream",
          "text": [
            "<class 'pandas.core.frame.DataFrame'>\n",
            "Int64Index: 37048 entries, 0 to 37047\n",
            "Data columns (total 9 columns):\n",
            "RoundID          37048 non-null int64\n",
            "MatchID          37048 non-null int64\n",
            "Team Initials    37048 non-null object\n",
            "Coach Name       37048 non-null object\n",
            "Line-up          37048 non-null object\n",
            "Shirt Number     37048 non-null int64\n",
            "Player Name      37048 non-null object\n",
            "Position         4018 non-null object\n",
            "Event            8823 non-null object\n",
            "dtypes: int64(3), object(6)\n",
            "memory usage: 2.8+ MB\n"
          ],
          "name": "stdout"
        }
      ]
    },
    {
      "cell_type": "code",
      "metadata": {
        "id": "kebCX7Oy0dxN",
        "colab_type": "code",
        "colab": {}
      },
      "source": [
        "pls['Position'].isnull().sum() # Position column has 33030 null rows\n",
        "pls['Position'].fillna('Other', inplace=True)"
      ],
      "execution_count": 0,
      "outputs": []
    },
    {
      "cell_type": "code",
      "metadata": {
        "id": "sfyVTLx8084x",
        "colab_type": "code",
        "colab": {}
      },
      "source": [
        "pls['Event'].isnull().sum() # Position column has 28225 null rows\n",
        "pls['Event'].fillna('No Event', inplace=True)"
      ],
      "execution_count": 0,
      "outputs": []
    },
    {
      "cell_type": "markdown",
      "metadata": {
        "id": "JwpaOxbf1tui",
        "colab_type": "text"
      },
      "source": [
        ""
      ]
    },
    {
      "cell_type": "code",
      "metadata": {
        "id": "ncVlOumF1qwL",
        "colab_type": "code",
        "colab": {
          "base_uri": "https://localhost:8080/",
          "height": 1000
        },
        "outputId": "67e0eb57-5bd0-43ae-b2a0-a52396954842"
      },
      "source": [
        "mch['Stadium'].unique()\n",
        "\"\"\" Some Brazil Stadium name got error.\n",
        "    'Maracan� - Est�dio Jornalista M�rio Filho', 'Estadio Jos� Mar�a Minella', 'Stade V�lodrome',\n",
        "    'Nou Camp - Estadio Le�n', 'Estadio Ol�mpico Chateau Carreras', 'Estadio Ol�mpico Universitario', 'Estadio Municipal de Bala�dos'\n",
        "\"\"\"\n",
        "wrong_name = ['Maracan� - Est�dio Jornalista M�rio Filho', 'Estadio Jos� Mar�a Minella', 'Stade V�lodrome',\n",
        "              'Nou Camp - Estadio Le�n', 'Estadio Ol�mpico Chateau Carreras', 'Estadio Ol�mpico Universitario', 'Estadio Municipal de Bala�dos']\n",
        "right_name = ['Maracana - Estadio Jornalista Mario Filho', 'Estadio Jose Maria Minella', 'Stade Velodrome',\n",
        "              'Nou Camp - Estadio Leon', 'Estadio Olimpico Chateau Carreras', 'Estadio Olimpico Universitario', 'Estadio Municipal de Balaidos']\n",
        "for w, r in zip(wrong_name, right_name):\n",
        "    mch['Stadium'].replace(w, r, inplace= True)\n",
        "mch['Stadium'].unique()"
      ],
      "execution_count": 34,
      "outputs": [
        {
          "output_type": "execute_result",
          "data": {
            "text/plain": [
              "array(['Pocitos', 'Parque Central', 'Estadio Centenario',\n",
              "       'Stadio Benito Mussolini', 'Giorgio Ascarelli', 'San Siro',\n",
              "       'Littorale', 'Giovanni Berta', 'Luigi Ferraris', 'Nazionale PNF',\n",
              "       'Littorio', 'Parc des Princes', 'Velodrome Municipale',\n",
              "       'Stade Olympique', 'Stade Municipal', 'Stade Velodrome',\n",
              "       'Stade de la Meinau', 'Cavee Verte', 'Stade du Parc Lescure',\n",
              "       'Victor Boucquey', 'Fort Carree',\n",
              "       'Maracana - Estadio Jornalista Mario Filho', 'Durival de Brito',\n",
              "       'Pacaembu', 'Independencia', 'Eucaliptos', 'Ilha do Retiro',\n",
              "       'Wankdorf Stadium', 'Hardturm', 'Charmilles', 'La Pontaise',\n",
              "       'St. Jakob', 'Comunale di Cornaredo', 'Rasunda Stadium',\n",
              "       'Nya Ullevi', 'Malmo Stadion', 'Jarnvallen', 'Idrottsparken',\n",
              "       'Arosvallen', 'Rimnersvallen', 'Orjans Vall', 'Ryavallen',\n",
              "       'Olympia Stadium', 'Tunavallen', 'Eyravallen', 'Carlos Dittborn',\n",
              "       'Estadio Sausalito', 'Estadio El Teniente-Codelco', 'Nacional',\n",
              "       'Wembley Stadium', 'Hillsborough', 'Goodison Park',\n",
              "       'Ayresome Park', 'Old Trafford Stadium', 'Villa Park',\n",
              "       'Roker Park Ground', 'White City', 'Estadio Azteca', 'Cuauhtemoc',\n",
              "       'Nou Camp - Estadio Leon', 'Jalisco', 'Luis Dosal', 'Waldstadion',\n",
              "       'Olympiastadion', 'Volksparkstadion', 'Westfalenstadion',\n",
              "       'Niedersachsenstadion', 'Rheinstadion', 'Neckarstadion',\n",
              "       'Parkstadion',\n",
              "       'El Monumental - Estadio Monumental Antonio Vespuci',\n",
              "       'Estadio Jose Maria Minella',\n",
              "       'Arroyito - Estadio Dr. Lisandro de la Torre', 'Jose Amalfitani',\n",
              "       'Estadio Olimpico Chateau Carreras', 'San Martin', 'Camp Nou',\n",
              "       'Estadio Municipal de Balaidos', 'Ramon Sanchez Pizjuan', 'Riazor',\n",
              "       'Nuevo Estadio', 'La Rosaleda', 'El Molinon', 'San Mames',\n",
              "       'Luis Casanova', 'Carlos Tartiere', 'Jose Zorrilla', 'La Romareda',\n",
              "       'Jose Rico Perez', 'Benito Villamarin', 'Vicente Calderon',\n",
              "       'Sarria', 'Santiago Bernabeu', 'Estadio Irapuato',\n",
              "       'Estadio Olimpico Universitario', 'Estadio Universitario',\n",
              "       'Tres de Marzo', 'Tecnologico', 'Bombonera - Estadio Nemesio Diez',\n",
              "       'Neza', 'Estadio Corregidora', 'Giuseppe Meazza',\n",
              "       'Stadio San Nicola', 'Renato Dall Ara', 'Stadio Olimpico',\n",
              "       'Comunale', 'Stadio delle Alpi', 'Sant Elia',\n",
              "       'Marc Antonio Bentegodi', 'Della Favorita', 'Dacia Arena',\n",
              "       'San Paolo', 'Friuli', 'Cotton Bowl', 'Soldier Field',\n",
              "       'Pontiac Silverdome', 'Giants Stadium', 'Rose Bowl', 'Citrus Bowl',\n",
              "       'RFK Stadium', 'Stanford Stadium', 'Foxboro Stadium',\n",
              "       'Stade de France', 'La Mosson', 'Stade Felix Bollaert',\n",
              "       'La Beaujoire', 'Stade de Gerland', 'Stade Geoffroy Guichard',\n",
              "       'Seoul World Cup Stadium', 'Munsu Football Stadium',\n",
              "       'Niigata Stadium Big Swan', 'Sapporo Dome', 'Kashima Stadium',\n",
              "       'Busan Asiad Main Stadium', 'Saitama Stadium 2002',\n",
              "       'Gwangju World Cup Stadium', 'Kobe Wing Stadium',\n",
              "       'Suwon World Cup Stadium', 'Daegu World Cup Stadium',\n",
              "       'Jeonju World Cup Stadium', 'Jeju World Cup Stadium',\n",
              "       'Incheon Football Stadium', 'International Stadium Yokohama',\n",
              "       'Miyagi Stadium', 'Oita Stadium Big Eye', 'Shizuoka Stadium Ecopa',\n",
              "       'Osaka Nagai Stadium', 'Daejeon World Cup Stadium',\n",
              "       'FIFA World Cup Stadium, Munich',\n",
              "       'FIFA World Cup Stadium, Gelsenkirchen',\n",
              "       'FIFA World Cup Stadium, Frankfurt',\n",
              "       'FIFA World Cup Stadium, Dortmund',\n",
              "       'FIFA World Cup Stadium, Hamburg', 'Zentralstadion',\n",
              "       'Franken-Stadion', 'FIFA World Cup Stadium, Cologne',\n",
              "       'Fritz-Walter-Stadion', 'FIFA World Cup Stadium, Hanover',\n",
              "       'Gottlieb-Daimler-Stadion', 'Soccer City Stadium',\n",
              "       'Cape Town Stadium', 'Port Elizabeth Stadium',\n",
              "       'Ellis Park Stadium', 'Royal Bafokeng Sports Palace',\n",
              "       'Peter Mokaba Stadium', 'Loftus Versfeld Stadium',\n",
              "       'Durban Stadium', 'Free State Stadium', 'Mbombela Stadium',\n",
              "       'Arena de Sao Paulo', 'Estadio das Dunas', 'Arena Fonte Nova',\n",
              "       'Arena Pantanal', 'Estadio Mineirao', 'Estadio Castelao',\n",
              "       'Arena Amazonia', 'Arena Pernambuco', 'Estadio Nacional',\n",
              "       'Estadio Beira-Rio', 'Estadio do Maracana', 'Arena da Baixada',\n",
              "       nan], dtype=object)"
            ]
          },
          "metadata": {
            "tags": []
          },
          "execution_count": 34
        }
      ]
    },
    {
      "cell_type": "markdown",
      "metadata": {
        "id": "cSj4-USk6iLE",
        "colab_type": "text"
      },
      "source": [
        "---\n",
        "2 - Combine data, drop unnessary col.\n",
        "\n"
      ]
    },
    {
      "cell_type": "code",
      "metadata": {
        "id": "kW7id2cy6fh1",
        "colab_type": "code",
        "colab": {}
      },
      "source": [
        ""
      ],
      "execution_count": 0,
      "outputs": []
    }
  ]
}