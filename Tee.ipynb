{
  "nbformat": 4,
  "nbformat_minor": 0,
  "metadata": {
    "kernelspec": {
      "display_name": "Python 3",
      "language": "python",
      "name": "python3"
    },
    "language_info": {
      "codemirror_mode": {
        "name": "ipython",
        "version": 3
      },
      "file_extension": ".py",
      "mimetype": "text/x-python",
      "name": "python",
      "nbconvert_exporter": "python",
      "pygments_lexer": "ipython3",
      "version": "3.6.9-final"
    },
    "colab": {
      "name": "Tee.ipynb",
      "provenance": [],
      "include_colab_link": true
    }
  },
  "cells": [
    {
      "cell_type": "markdown",
      "metadata": {
        "id": "view-in-github",
        "colab_type": "text"
      },
      "source": [
        "<a href=\"https://colab.research.google.com/github/natuan310/w3-Data-Analysis-WorldCup-Dataset/blob/master/Tee.ipynb\" target=\"_parent\"><img src=\"https://colab.research.google.com/assets/colab-badge.svg\" alt=\"Open In Colab\"/></a>"
      ]
    },
    {
      "cell_type": "code",
      "metadata": {
        "id": "cwIAA0c32xh6",
        "colab_type": "code",
        "outputId": "977e6c7f-6d6f-4a4f-aca0-a1ea7a1be6be",
        "colab": {
          "base_uri": "https://localhost:8080/",
          "height": 123
        }
      },
      "source": [
        "from google.colab import drive\n",
        "drive.mount('/content/gdrive')"
      ],
      "execution_count": 2,
      "outputs": [
        {
          "output_type": "stream",
          "text": [
            "Go to this URL in a browser: https://accounts.google.com/o/oauth2/auth?client_id=947318989803-6bn6qk8qdgf4n4g3pfee6491hc0brc4i.apps.googleusercontent.com&redirect_uri=urn%3aietf%3awg%3aoauth%3a2.0%3aoob&response_type=code&scope=email%20https%3a%2f%2fwww.googleapis.com%2fauth%2fdocs.test%20https%3a%2f%2fwww.googleapis.com%2fauth%2fdrive%20https%3a%2f%2fwww.googleapis.com%2fauth%2fdrive.photos.readonly%20https%3a%2f%2fwww.googleapis.com%2fauth%2fpeopleapi.readonly\n",
            "\n",
            "Enter your authorization code:\n",
            "··········\n",
            "Mounted at /content/gdrive\n"
          ],
          "name": "stdout"
        }
      ]
    },
    {
      "cell_type": "code",
      "metadata": {
        "id": "dRzUB7mp2u7C",
        "colab_type": "code",
        "colab": {}
      },
      "source": [
        "import numpy as np\n",
        "import pandas as pd\n",
        "import seaborn as sns\n",
        "import matplotlib.pyplot as plt\n",
        "\n",
        "import warnings\n",
        "warnings.filterwarnings('ignore')\n",
        "\n",
        "sns.set_style(\"whitegrid\")"
      ],
      "execution_count": 1,
      "outputs": []
    },
    {
      "cell_type": "code",
      "metadata": {
        "id": "kYMQA1S43ySK",
        "colab_type": "code",
        "colab": {}
      },
      "source": [
        "# working on GG Drive csv data\n",
        "wc = pd.read_csv('/content/gdrive/My Drive/Colab Notebooks/Dataset/fifa-world-cup/WorldCups.csv')\n",
        "mch = pd.read_csv('/content/gdrive/My Drive/Colab Notebooks/Dataset/fifa-world-cup/WorldCupMatches.csv')\n",
        "pls = pd.read_csv('/content/gdrive/My Drive/Colab Notebooks/Dataset/fifa-world-cup/WorldCupPlayers.csv')"
      ],
      "execution_count": 0,
      "outputs": []
    },
    {
      "cell_type": "code",
      "execution_count": 121,
      "metadata": {},
      "outputs": [],
      "source": [
        "# working on local csv data\n",
        "wc = pd.read_csv('/media/tee/Data/Coder School/_tonga/week3/w3-Data-Analysis-WorldCup-Dataset/Data/WorldCups.csv')\n",
        "mch = pd.read_csv('/media/tee/Data/Coder School/_tonga/week3/w3-Data-Analysis-WorldCup-Dataset/Data/WorldCupMatches.csv')\n",
        "pls = pd.read_csv('/media/tee/Data/Coder School/_tonga/week3/w3-Data-Analysis-WorldCup-Dataset/Data/WorldCupPlayers.csv')"
      ]
    },
    {
      "cell_type": "code",
      "metadata": {
        "id": "C-OvZyYv6q8v",
        "colab_type": "code",
        "outputId": "59e89247-d457-4b9e-8e75-b1b7a34920dc",
        "colab": {
          "base_uri": "https://localhost:8080/",
          "height": 952
        }
      },
      "source": [
        "wc.sample(1)"
      ],
      "execution_count": 58,
      "outputs": [
        {
          "output_type": "execute_result",
          "data": {
            "text/plain": "   Year Country Winner      Runners-Up    Third   Fourth  GoalsScored  \\\n1  1934   Italy  Italy  Czechoslovakia  Germany  Austria           70   \n\n   QualifiedTeams  MatchesPlayed Attendance  \n1              16             17    363.000  ",
            "text/html": "<div>\n<style scoped>\n    .dataframe tbody tr th:only-of-type {\n        vertical-align: middle;\n    }\n\n    .dataframe tbody tr th {\n        vertical-align: top;\n    }\n\n    .dataframe thead th {\n        text-align: right;\n    }\n</style>\n<table border=\"1\" class=\"dataframe\">\n  <thead>\n    <tr style=\"text-align: right;\">\n      <th></th>\n      <th>Year</th>\n      <th>Country</th>\n      <th>Winner</th>\n      <th>Runners-Up</th>\n      <th>Third</th>\n      <th>Fourth</th>\n      <th>GoalsScored</th>\n      <th>QualifiedTeams</th>\n      <th>MatchesPlayed</th>\n      <th>Attendance</th>\n    </tr>\n  </thead>\n  <tbody>\n    <tr>\n      <th>1</th>\n      <td>1934</td>\n      <td>Italy</td>\n      <td>Italy</td>\n      <td>Czechoslovakia</td>\n      <td>Germany</td>\n      <td>Austria</td>\n      <td>70</td>\n      <td>16</td>\n      <td>17</td>\n      <td>363.000</td>\n    </tr>\n  </tbody>\n</table>\n</div>"
          },
          "metadata": {},
          "execution_count": 58
        }
      ]
    },
    {
      "cell_type": "code",
      "metadata": {
        "id": "Q21aMPMl65w9",
        "colab_type": "code",
        "outputId": "bf4740e8-205f-403f-db90-9df45ba758f4",
        "colab": {
          "base_uri": "https://localhost:8080/",
          "height": 80
        }
      },
      "source": [
        "mch.sample(1)"
      ],
      "execution_count": 54,
      "outputs": [
        {
          "output_type": "execute_result",
          "data": {
            "text/plain": "     Year              Datetime    Stage          Stadium    City  \\\n418  1990  10 Jun 1990 - 21:00   Group D  Giuseppe Meazza  Milan    \n\n    Home Team Name  Home Team Goals  Away Team Goals Away Team Name  \\\n418     Germany FR                4                1     Yugoslavia   \n\n    Win conditions  Attendance  Half-time Home Goals  Half-time Away Goals  \\\n418                    74765.0                     2                     0   \n\n                   Referee         Assistant 1               Assistant 2  \\\n418  MIKKELSEN Peter (DEN)  MANDI Jassim (BHR)  LISTKIEWICZ Michal (POL)   \n\n     RoundID  MatchID Home Team Initials Away Team Initials  \n418      322      201                FRG                YUG  ",
            "text/html": "<div>\n<style scoped>\n    .dataframe tbody tr th:only-of-type {\n        vertical-align: middle;\n    }\n\n    .dataframe tbody tr th {\n        vertical-align: top;\n    }\n\n    .dataframe thead th {\n        text-align: right;\n    }\n</style>\n<table border=\"1\" class=\"dataframe\">\n  <thead>\n    <tr style=\"text-align: right;\">\n      <th></th>\n      <th>Year</th>\n      <th>Datetime</th>\n      <th>Stage</th>\n      <th>Stadium</th>\n      <th>City</th>\n      <th>Home Team Name</th>\n      <th>Home Team Goals</th>\n      <th>Away Team Goals</th>\n      <th>Away Team Name</th>\n      <th>Win conditions</th>\n      <th>Attendance</th>\n      <th>Half-time Home Goals</th>\n      <th>Half-time Away Goals</th>\n      <th>Referee</th>\n      <th>Assistant 1</th>\n      <th>Assistant 2</th>\n      <th>RoundID</th>\n      <th>MatchID</th>\n      <th>Home Team Initials</th>\n      <th>Away Team Initials</th>\n    </tr>\n  </thead>\n  <tbody>\n    <tr>\n      <th>418</th>\n      <td>1990</td>\n      <td>10 Jun 1990 - 21:00</td>\n      <td>Group D</td>\n      <td>Giuseppe Meazza</td>\n      <td>Milan</td>\n      <td>Germany FR</td>\n      <td>4</td>\n      <td>1</td>\n      <td>Yugoslavia</td>\n      <td></td>\n      <td>74765.0</td>\n      <td>2</td>\n      <td>0</td>\n      <td>MIKKELSEN Peter (DEN)</td>\n      <td>MANDI Jassim (BHR)</td>\n      <td>LISTKIEWICZ Michal (POL)</td>\n      <td>322</td>\n      <td>201</td>\n      <td>FRG</td>\n      <td>YUG</td>\n    </tr>\n  </tbody>\n</table>\n</div>"
          },
          "metadata": {},
          "execution_count": 54
        }
      ]
    },
    {
      "cell_type": "code",
      "execution_count": 153,
      "metadata": {},
      "outputs": [
        {
          "output_type": "execute_result",
          "data": {
            "text/plain": "        RoundID   MatchID Team Initials            Coach Name Line-up  \\\n29095  97410100  97410020           SWE  Lars LAGERB�CK (SWE)       S   \n\n       Shirt Number Player Name Position Event  \n29095             4       LUCIC      NaN  Y48'  ",
            "text/html": "<div>\n<style scoped>\n    .dataframe tbody tr th:only-of-type {\n        vertical-align: middle;\n    }\n\n    .dataframe tbody tr th {\n        vertical-align: top;\n    }\n\n    .dataframe thead th {\n        text-align: right;\n    }\n</style>\n<table border=\"1\" class=\"dataframe\">\n  <thead>\n    <tr style=\"text-align: right;\">\n      <th></th>\n      <th>RoundID</th>\n      <th>MatchID</th>\n      <th>Team Initials</th>\n      <th>Coach Name</th>\n      <th>Line-up</th>\n      <th>Shirt Number</th>\n      <th>Player Name</th>\n      <th>Position</th>\n      <th>Event</th>\n    </tr>\n  </thead>\n  <tbody>\n    <tr>\n      <th>29095</th>\n      <td>97410100</td>\n      <td>97410020</td>\n      <td>SWE</td>\n      <td>Lars LAGERB�CK (SWE)</td>\n      <td>S</td>\n      <td>4</td>\n      <td>LUCIC</td>\n      <td>NaN</td>\n      <td>Y48'</td>\n    </tr>\n  </tbody>\n</table>\n</div>"
          },
          "metadata": {},
          "execution_count": 153
        }
      ],
      "source": [
        "pls.sample(1)"
      ]
    },
    {
      "cell_type": "code",
      "metadata": {
        "id": "cB_54EK77cVb",
        "colab_type": "code",
        "outputId": "5a39728a-6f6f-43e7-8767-ed60f08d5409",
        "colab": {
          "base_uri": "https://localhost:8080/",
          "height": 204
        }
      },
      "source": [
        "\"\"\" Table WorldCup is cleaned\n",
        "    No duplicate data\n",
        "\"\"\"\n",
        "wc.nunique()"
      ],
      "execution_count": 155,
      "outputs": [
        {
          "output_type": "execute_result",
          "data": {
            "text/plain": "Year              20\nCountry           15\nWinner             9\nRunners-Up        10\nThird             14\nFourth            16\nGoalsScored       17\nQualifiedTeams     5\nMatchesPlayed      9\nAttendance        20\ndtype: int64"
          },
          "metadata": {},
          "execution_count": 155
        }
      ]
    },
    {
      "cell_type": "code",
      "metadata": {
        "id": "PofqpfUu7yZP",
        "colab_type": "code",
        "outputId": "1c5f2f95-46dc-404c-bef3-697e026cc817",
        "colab": {
          "base_uri": "https://localhost:8080/",
          "height": 436
        }
      },
      "source": [
        "\"\"\" Table World Cup Matches:\n",
        "    852/4572 rows not null\n",
        "    836 unique Match ID\n",
        "\"\"\"\n",
        "# mch[mch['Year'].isnull() == 0 ]['MatchID'].nunique()\n",
        "# mch[mch['Year'].isnull()]"
      ],
      "execution_count": 17,
      "outputs": [
        {
          "output_type": "execute_result",
          "data": {
            "text/plain": "' Table World Cup Matches:\\n    852/4572 rows not null\\n    836 unique Match ID\\n'"
          },
          "metadata": {},
          "execution_count": 17
        }
      ]
    },
    {
      "cell_type": "code",
      "metadata": {
        "id": "B17FRux49WNt",
        "colab_type": "code",
        "colab": {}
      },
      "source": [
        "mch.drop(labels = mch[mch['Year'].isnull()].index, axis= 0, inplace= True)\n",
        "mch"
      ],
      "execution_count": 0,
      "outputs": []
    },
    {
      "cell_type": "code",
      "metadata": {
        "id": "E9YuaBJfv2RM",
        "colab_type": "code",
        "colab": {
          "base_uri": "https://localhost:8080/",
          "height": 328
        },
        "outputId": "2635753e-4271-4119-e7dd-c79e3bdb0cdd"
      },
      "source": [
        "dup_mch = mch['MatchID'].value_counts()\n",
        "dup_id = dup_mch[dup_mch == 2]\n",
        "mch[mch['MatchID'].isin(dup_id.index)]['Year']  #  2014\n",
        "mch[mch['MatchID'].isin(dup_id.index)].sort_values('MatchID')\n",
        "# mch.drop(labels = mch[mch['MatchID'].isin(dup_id.index)].index, axis = 0, inplace = True) "
      ],
      "execution_count": 147,
      "outputs": [
        {
          "output_type": "execute_result",
          "data": {
            "text/plain": "Empty DataFrame\nColumns: [Year, Datetime, Stage, Stadium, City, Home Team Name, Home Team Goals, Away Team Goals, Away Team Name, Win conditions, Attendance, Half-time Home Goals, Half-time Away Goals, Referee, Assistant 1, Assistant 2, RoundID, MatchID, Home Team Initials, Away Team Initials]\nIndex: []",
            "text/html": "<div>\n<style scoped>\n    .dataframe tbody tr th:only-of-type {\n        vertical-align: middle;\n    }\n\n    .dataframe tbody tr th {\n        vertical-align: top;\n    }\n\n    .dataframe thead th {\n        text-align: right;\n    }\n</style>\n<table border=\"1\" class=\"dataframe\">\n  <thead>\n    <tr style=\"text-align: right;\">\n      <th></th>\n      <th>Year</th>\n      <th>Datetime</th>\n      <th>Stage</th>\n      <th>Stadium</th>\n      <th>City</th>\n      <th>Home Team Name</th>\n      <th>Home Team Goals</th>\n      <th>Away Team Goals</th>\n      <th>Away Team Name</th>\n      <th>Win conditions</th>\n      <th>Attendance</th>\n      <th>Half-time Home Goals</th>\n      <th>Half-time Away Goals</th>\n      <th>Referee</th>\n      <th>Assistant 1</th>\n      <th>Assistant 2</th>\n      <th>RoundID</th>\n      <th>MatchID</th>\n      <th>Home Team Initials</th>\n      <th>Away Team Initials</th>\n    </tr>\n  </thead>\n  <tbody>\n  </tbody>\n</table>\n</div>"
          },
          "metadata": {},
          "execution_count": 147
        }
      ]
    },
    {
      "cell_type": "code",
      "execution_count": 133,
      "metadata": {},
      "outputs": [
        {
          "output_type": "stream",
          "name": "stdout",
          "text": "<class 'pandas.core.frame.DataFrame'>\nInt64Index: 836 entries, 0 to 835\nData columns (total 20 columns):\n #   Column                Non-Null Count  Dtype  \n---  ------                --------------  -----  \n 0   Year                  836 non-null    int64  \n 1   Datetime              836 non-null    object \n 2   Stage                 836 non-null    object \n 3   Stadium               836 non-null    object \n 4   City                  836 non-null    object \n 5   Home Team Name        836 non-null    object \n 6   Home Team Goals       836 non-null    int64  \n 7   Away Team Goals       836 non-null    int64  \n 8   Away Team Name        836 non-null    object \n 9   Win conditions        836 non-null    object \n 10  Attendance            835 non-null    float64\n 11  Half-time Home Goals  836 non-null    int64  \n 12  Half-time Away Goals  836 non-null    int64  \n 13  Referee               836 non-null    object \n 14  Assistant 1           836 non-null    object \n 15  Assistant 2           836 non-null    object \n 16  RoundID               836 non-null    int64  \n 17  MatchID               836 non-null    int64  \n 18  Home Team Initials    836 non-null    object \n 19  Away Team Initials    836 non-null    object \ndtypes: float64(1), int64(7), object(12)\nmemory usage: 137.2+ KB\n"
        }
      ],
      "source": [
        "mch.drop_duplicates(keep=\"first\", inplace=True)\n",
        "mch.info()  # table Matches have 836 cleaned data rows"
      ]
    },
    {
      "cell_type": "code",
      "metadata": {
        "id": "VgiBsz0E_y70",
        "colab_type": "code",
        "outputId": "4a9fa37a-9fe5-4574-d09c-809341119cab",
        "colab": {
          "base_uri": "https://localhost:8080/",
          "height": 419
        }
      },
      "source": [
        "pls.info()"
      ],
      "execution_count": 148,
      "outputs": [
        {
          "output_type": "stream",
          "name": "stdout",
          "text": "<class 'pandas.core.frame.DataFrame'>\nRangeIndex: 37784 entries, 0 to 37783\nData columns (total 9 columns):\n #   Column         Non-Null Count  Dtype \n---  ------         --------------  ----- \n 0   RoundID        37784 non-null  int64 \n 1   MatchID        37784 non-null  int64 \n 2   Team Initials  37784 non-null  object\n 3   Coach Name     37784 non-null  object\n 4   Line-up        37784 non-null  object\n 5   Shirt Number   37784 non-null  int64 \n 6   Player Name    37784 non-null  object\n 7   Position       4143 non-null   object\n 8   Event          9069 non-null   object\ndtypes: int64(3), object(6)\nmemory usage: 2.6+ MB\n"
        }
      ]
    },
    {
      "cell_type": "code",
      "execution_count": 151,
      "metadata": {},
      "outputs": [
        {
          "output_type": "stream",
          "name": "stdout",
          "text": "<class 'pandas.core.frame.DataFrame'>\nInt64Index: 37048 entries, 0 to 37047\nData columns (total 9 columns):\n #   Column         Non-Null Count  Dtype \n---  ------         --------------  ----- \n 0   RoundID        37048 non-null  int64 \n 1   MatchID        37048 non-null  int64 \n 2   Team Initials  37048 non-null  object\n 3   Coach Name     37048 non-null  object\n 4   Line-up        37048 non-null  object\n 5   Shirt Number   37048 non-null  int64 \n 6   Player Name    37048 non-null  object\n 7   Position       4018 non-null   object\n 8   Event          8823 non-null   object\ndtypes: int64(3), object(6)\nmemory usage: 2.8+ MB\n"
        }
      ],
      "source": [
        "pls.drop_duplicates(keep=\"first\", inplace=True)\n",
        "pls.info() # pls table has 37048 clean rows"
      ]
    },
    {
      "cell_type": "code",
      "execution_count": 160,
      "metadata": {},
      "outputs": [
        {
          "output_type": "execute_result",
          "data": {
            "text/plain": "Brazil        5\nItaly         4\nGermany FR    3\nArgentina     2\nUruguay       2\nEngland       1\nFrance        1\nGermany       1\nSpain         1\nName: Winner, dtype: int64"
          },
          "metadata": {},
          "execution_count": 160
        }
      ],
      "source": [
        "wc['Winner'].value_counts()"
      ]
    }
  ]
}