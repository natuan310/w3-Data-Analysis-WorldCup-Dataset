{
 "cells": [
  {
   "cell_type": "markdown",
   "metadata": {
    "_uuid": "adac790b560d17308db923f7ae7efae1a1f29dbd"
   },
   "source": [
    "# The FIFA World Cup\n",
    "The FIFA World Cup, often simply called the World Cup, is an international association football competition contested by the senior men's national teams of the members of the Fédération Internationale de Football Association (FIFA), the sport's global governing body. The championship has been awarded every four years since the inaugural tournament in 1930, except in 1942 and 1946 when it was not held because of the Second World War. The current champion is Germany, which won its fourth title at the 2014 tournament in Brazil.\n",
    "\n",
    "## Data - content \n",
    "The World Cups dataset show all information about all the World Cups in the history, while the World Cup Matches dataset shows all the results from the matches contested as part of the cups."
   ]
  },
  {
   "cell_type": "code",
   "execution_count": 2,
   "metadata": {
    "_kg_hide-input": true,
    "_uuid": "9b1d0052043bdde70f802cffbb3bb19a3938770d"
   },
   "outputs": [],
   "source": [
    "import numpy as np\n",
    "import matplotlib.pyplot as plt\n",
    "from PIL import  Image\n",
    "%matplotlib inline\n",
    "\n",
    "# plt.figure(figsize=(15,10))\n",
    "# img = np.array(Image.open(r\"../input/fifa-img-cup/2014_20th_fifa_world_cup-wallpaper-1366x768.jpg\"))\n",
    "# plt.imshow(img,interpolation=\"bilinear\")\n",
    "# plt.axis(\"off\")\n",
    "# plt.show()"
   ]
  },
  {
   "cell_type": "code",
   "execution_count": 5,
   "metadata": {
    "_cell_guid": "b1076dfc-b9ad-4769-8c92-a6c4dae69d19",
    "_kg_hide-input": true,
    "_uuid": "8f2839f25d086af736a60e9eeb907d3b93b6e0e5"
   },
   "outputs": [],
   "source": [
    "#importing libraries\n",
    "import pandas as pd\n",
    "import seaborn as sns\n",
    "import itertools\n",
    "import warnings\n",
    "warnings.filterwarnings(\"ignore\")\n",
    "from wordcloud import WordCloud,STOPWORDS\n",
    "import io\n",
    "import base64\n",
    "from matplotlib import rc,animation\n",
    "from mpl_toolkits.mplot3d import Axes3D\n",
    "# from mpl_toolkits.basemap import Basemap\n",
    "# import folium\n",
    "# import folium.plugins\n",
    "import os\n",
    "#print(os.listdir(\"../input\"))\n"
   ]
  },
  {
   "cell_type": "markdown",
   "metadata": {
    "_uuid": "80d37e0ee08b8ffc5cc05fe8a553219ec287f395"
   },
   "source": [
    "# Data - Overview"
   ]
  },
  {
   "cell_type": "code",
   "execution_count": 8,
   "metadata": {
    "_cell_guid": "79c7e3d0-c299-4dcb-8224-4455121ee9b0",
    "_kg_hide-input": true,
    "_uuid": "d629ff2d2480ee46fbb7e2d37f6b5fab8052498a"
   },
   "outputs": [
    {
     "data": {
      "text/plain": [
       "'MATCHES - DATA'"
      ]
     },
     "metadata": {},
     "output_type": "display_data"
    },
    {
     "data": {
      "text/html": [
       "<div>\n",
       "<style scoped>\n",
       "    .dataframe tbody tr th:only-of-type {\n",
       "        vertical-align: middle;\n",
       "    }\n",
       "\n",
       "    .dataframe tbody tr th {\n",
       "        vertical-align: top;\n",
       "    }\n",
       "\n",
       "    .dataframe thead th {\n",
       "        text-align: right;\n",
       "    }\n",
       "</style>\n",
       "<table border=\"1\" class=\"dataframe\">\n",
       "  <thead>\n",
       "    <tr style=\"text-align: right;\">\n",
       "      <th></th>\n",
       "      <th>Year</th>\n",
       "      <th>Datetime</th>\n",
       "      <th>Stage</th>\n",
       "      <th>Stadium</th>\n",
       "      <th>City</th>\n",
       "      <th>Home Team Name</th>\n",
       "      <th>Home Team Goals</th>\n",
       "      <th>Away Team Goals</th>\n",
       "      <th>Away Team Name</th>\n",
       "      <th>Win conditions</th>\n",
       "      <th>Attendance</th>\n",
       "      <th>Half-time Home Goals</th>\n",
       "      <th>Half-time Away Goals</th>\n",
       "      <th>Referee</th>\n",
       "      <th>Assistant 1</th>\n",
       "      <th>Assistant 2</th>\n",
       "      <th>RoundID</th>\n",
       "      <th>MatchID</th>\n",
       "      <th>Home Team Initials</th>\n",
       "      <th>Away Team Initials</th>\n",
       "    </tr>\n",
       "  </thead>\n",
       "  <tbody>\n",
       "    <tr>\n",
       "      <th>0</th>\n",
       "      <td>1930.0</td>\n",
       "      <td>13 Jul 1930 - 15:00</td>\n",
       "      <td>Group 1</td>\n",
       "      <td>Pocitos</td>\n",
       "      <td>Montevideo</td>\n",
       "      <td>France</td>\n",
       "      <td>4.0</td>\n",
       "      <td>1.0</td>\n",
       "      <td>Mexico</td>\n",
       "      <td></td>\n",
       "      <td>4444.0</td>\n",
       "      <td>3.0</td>\n",
       "      <td>0.0</td>\n",
       "      <td>LOMBARDI Domingo (URU)</td>\n",
       "      <td>CRISTOPHE Henry (BEL)</td>\n",
       "      <td>REGO Gilberto (BRA)</td>\n",
       "      <td>201.0</td>\n",
       "      <td>1096.0</td>\n",
       "      <td>FRA</td>\n",
       "      <td>MEX</td>\n",
       "    </tr>\n",
       "    <tr>\n",
       "      <th>1</th>\n",
       "      <td>1930.0</td>\n",
       "      <td>13 Jul 1930 - 15:00</td>\n",
       "      <td>Group 4</td>\n",
       "      <td>Parque Central</td>\n",
       "      <td>Montevideo</td>\n",
       "      <td>USA</td>\n",
       "      <td>3.0</td>\n",
       "      <td>0.0</td>\n",
       "      <td>Belgium</td>\n",
       "      <td></td>\n",
       "      <td>18346.0</td>\n",
       "      <td>2.0</td>\n",
       "      <td>0.0</td>\n",
       "      <td>MACIAS Jose (ARG)</td>\n",
       "      <td>MATEUCCI Francisco (URU)</td>\n",
       "      <td>WARNKEN Alberto (CHI)</td>\n",
       "      <td>201.0</td>\n",
       "      <td>1090.0</td>\n",
       "      <td>USA</td>\n",
       "      <td>BEL</td>\n",
       "    </tr>\n",
       "    <tr>\n",
       "      <th>2</th>\n",
       "      <td>1930.0</td>\n",
       "      <td>14 Jul 1930 - 12:45</td>\n",
       "      <td>Group 2</td>\n",
       "      <td>Parque Central</td>\n",
       "      <td>Montevideo</td>\n",
       "      <td>Yugoslavia</td>\n",
       "      <td>2.0</td>\n",
       "      <td>1.0</td>\n",
       "      <td>Brazil</td>\n",
       "      <td></td>\n",
       "      <td>24059.0</td>\n",
       "      <td>2.0</td>\n",
       "      <td>0.0</td>\n",
       "      <td>TEJADA Anibal (URU)</td>\n",
       "      <td>VALLARINO Ricardo (URU)</td>\n",
       "      <td>BALWAY Thomas (FRA)</td>\n",
       "      <td>201.0</td>\n",
       "      <td>1093.0</td>\n",
       "      <td>YUG</td>\n",
       "      <td>BRA</td>\n",
       "    </tr>\n",
       "  </tbody>\n",
       "</table>\n",
       "</div>"
      ],
      "text/plain": [
       "     Year              Datetime    Stage         Stadium         City  \\\n",
       "0  1930.0  13 Jul 1930 - 15:00   Group 1         Pocitos  Montevideo    \n",
       "1  1930.0  13 Jul 1930 - 15:00   Group 4  Parque Central  Montevideo    \n",
       "2  1930.0  14 Jul 1930 - 12:45   Group 2  Parque Central  Montevideo    \n",
       "\n",
       "  Home Team Name  Home Team Goals  Away Team Goals Away Team Name  \\\n",
       "0         France              4.0              1.0         Mexico   \n",
       "1            USA              3.0              0.0        Belgium   \n",
       "2     Yugoslavia              2.0              1.0         Brazil   \n",
       "\n",
       "  Win conditions  Attendance  Half-time Home Goals  Half-time Away Goals  \\\n",
       "0                     4444.0                   3.0                   0.0   \n",
       "1                    18346.0                   2.0                   0.0   \n",
       "2                    24059.0                   2.0                   0.0   \n",
       "\n",
       "                  Referee               Assistant 1            Assistant 2  \\\n",
       "0  LOMBARDI Domingo (URU)     CRISTOPHE Henry (BEL)    REGO Gilberto (BRA)   \n",
       "1       MACIAS Jose (ARG)  MATEUCCI Francisco (URU)  WARNKEN Alberto (CHI)   \n",
       "2     TEJADA Anibal (URU)   VALLARINO Ricardo (URU)    BALWAY Thomas (FRA)   \n",
       "\n",
       "   RoundID  MatchID Home Team Initials Away Team Initials  \n",
       "0    201.0   1096.0                FRA                MEX  \n",
       "1    201.0   1090.0                USA                BEL  \n",
       "2    201.0   1093.0                YUG                BRA  "
      ]
     },
     "metadata": {},
     "output_type": "display_data"
    },
    {
     "data": {
      "text/plain": [
       "'PLAYERS - DATA'"
      ]
     },
     "metadata": {},
     "output_type": "display_data"
    },
    {
     "data": {
      "text/html": [
       "<div>\n",
       "<style scoped>\n",
       "    .dataframe tbody tr th:only-of-type {\n",
       "        vertical-align: middle;\n",
       "    }\n",
       "\n",
       "    .dataframe tbody tr th {\n",
       "        vertical-align: top;\n",
       "    }\n",
       "\n",
       "    .dataframe thead th {\n",
       "        text-align: right;\n",
       "    }\n",
       "</style>\n",
       "<table border=\"1\" class=\"dataframe\">\n",
       "  <thead>\n",
       "    <tr style=\"text-align: right;\">\n",
       "      <th></th>\n",
       "      <th>RoundID</th>\n",
       "      <th>MatchID</th>\n",
       "      <th>Team Initials</th>\n",
       "      <th>Coach Name</th>\n",
       "      <th>Line-up</th>\n",
       "      <th>Shirt Number</th>\n",
       "      <th>Player Name</th>\n",
       "      <th>Position</th>\n",
       "      <th>Event</th>\n",
       "    </tr>\n",
       "  </thead>\n",
       "  <tbody>\n",
       "    <tr>\n",
       "      <th>0</th>\n",
       "      <td>201</td>\n",
       "      <td>1096</td>\n",
       "      <td>FRA</td>\n",
       "      <td>CAUDRON Raoul (FRA)</td>\n",
       "      <td>S</td>\n",
       "      <td>0</td>\n",
       "      <td>Alex THEPOT</td>\n",
       "      <td>GK</td>\n",
       "      <td>NaN</td>\n",
       "    </tr>\n",
       "    <tr>\n",
       "      <th>1</th>\n",
       "      <td>201</td>\n",
       "      <td>1096</td>\n",
       "      <td>MEX</td>\n",
       "      <td>LUQUE Juan (MEX)</td>\n",
       "      <td>S</td>\n",
       "      <td>0</td>\n",
       "      <td>Oscar BONFIGLIO</td>\n",
       "      <td>GK</td>\n",
       "      <td>NaN</td>\n",
       "    </tr>\n",
       "    <tr>\n",
       "      <th>2</th>\n",
       "      <td>201</td>\n",
       "      <td>1096</td>\n",
       "      <td>FRA</td>\n",
       "      <td>CAUDRON Raoul (FRA)</td>\n",
       "      <td>S</td>\n",
       "      <td>0</td>\n",
       "      <td>Marcel LANGILLER</td>\n",
       "      <td>NaN</td>\n",
       "      <td>G40'</td>\n",
       "    </tr>\n",
       "  </tbody>\n",
       "</table>\n",
       "</div>"
      ],
      "text/plain": [
       "   RoundID  MatchID Team Initials           Coach Name Line-up  Shirt Number  \\\n",
       "0      201     1096           FRA  CAUDRON Raoul (FRA)       S             0   \n",
       "1      201     1096           MEX     LUQUE Juan (MEX)       S             0   \n",
       "2      201     1096           FRA  CAUDRON Raoul (FRA)       S             0   \n",
       "\n",
       "        Player Name Position Event  \n",
       "0       Alex THEPOT       GK   NaN  \n",
       "1   Oscar BONFIGLIO       GK   NaN  \n",
       "2  Marcel LANGILLER      NaN  G40'  "
      ]
     },
     "metadata": {},
     "output_type": "display_data"
    },
    {
     "data": {
      "text/plain": [
       "'WORLD CUPS - DATA'"
      ]
     },
     "metadata": {},
     "output_type": "display_data"
    },
    {
     "data": {
      "text/html": [
       "<div>\n",
       "<style scoped>\n",
       "    .dataframe tbody tr th:only-of-type {\n",
       "        vertical-align: middle;\n",
       "    }\n",
       "\n",
       "    .dataframe tbody tr th {\n",
       "        vertical-align: top;\n",
       "    }\n",
       "\n",
       "    .dataframe thead th {\n",
       "        text-align: right;\n",
       "    }\n",
       "</style>\n",
       "<table border=\"1\" class=\"dataframe\">\n",
       "  <thead>\n",
       "    <tr style=\"text-align: right;\">\n",
       "      <th></th>\n",
       "      <th>Year</th>\n",
       "      <th>Country</th>\n",
       "      <th>Winner</th>\n",
       "      <th>Runners-Up</th>\n",
       "      <th>Third</th>\n",
       "      <th>Fourth</th>\n",
       "      <th>GoalsScored</th>\n",
       "      <th>QualifiedTeams</th>\n",
       "      <th>MatchesPlayed</th>\n",
       "      <th>Attendance</th>\n",
       "    </tr>\n",
       "  </thead>\n",
       "  <tbody>\n",
       "    <tr>\n",
       "      <th>0</th>\n",
       "      <td>1930</td>\n",
       "      <td>Uruguay</td>\n",
       "      <td>Uruguay</td>\n",
       "      <td>Argentina</td>\n",
       "      <td>USA</td>\n",
       "      <td>Yugoslavia</td>\n",
       "      <td>70</td>\n",
       "      <td>13</td>\n",
       "      <td>18</td>\n",
       "      <td>590.549</td>\n",
       "    </tr>\n",
       "    <tr>\n",
       "      <th>1</th>\n",
       "      <td>1934</td>\n",
       "      <td>Italy</td>\n",
       "      <td>Italy</td>\n",
       "      <td>Czechoslovakia</td>\n",
       "      <td>Germany</td>\n",
       "      <td>Austria</td>\n",
       "      <td>70</td>\n",
       "      <td>16</td>\n",
       "      <td>17</td>\n",
       "      <td>363.000</td>\n",
       "    </tr>\n",
       "    <tr>\n",
       "      <th>2</th>\n",
       "      <td>1938</td>\n",
       "      <td>France</td>\n",
       "      <td>Italy</td>\n",
       "      <td>Hungary</td>\n",
       "      <td>Brazil</td>\n",
       "      <td>Sweden</td>\n",
       "      <td>84</td>\n",
       "      <td>15</td>\n",
       "      <td>18</td>\n",
       "      <td>375.700</td>\n",
       "    </tr>\n",
       "  </tbody>\n",
       "</table>\n",
       "</div>"
      ],
      "text/plain": [
       "   Year  Country   Winner      Runners-Up    Third      Fourth  GoalsScored  \\\n",
       "0  1930  Uruguay  Uruguay       Argentina      USA  Yugoslavia           70   \n",
       "1  1934    Italy    Italy  Czechoslovakia  Germany     Austria           70   \n",
       "2  1938   France    Italy         Hungary   Brazil      Sweden           84   \n",
       "\n",
       "   QualifiedTeams  MatchesPlayed Attendance  \n",
       "0              13             18    590.549  \n",
       "1              16             17    363.000  \n",
       "2              15             18    375.700  "
      ]
     },
     "metadata": {},
     "output_type": "display_data"
    }
   ],
   "source": [
    "matches  = pd.read_csv(\"./WorldCupMatches.csv\")\n",
    "players  = pd.read_csv(\"./WorldCupPlayers.csv\")\n",
    "cups     = pd.read_csv(\"./WorldCups.csv\")\n",
    "display(\"MATCHES - DATA\")\n",
    "display(matches.head(3))\n",
    "display(\"PLAYERS - DATA\")\n",
    "display(players.head(3))\n",
    "display(\"WORLD CUPS - DATA\")\n",
    "display(cups.head(3))"
   ]
  },
  {
   "cell_type": "markdown",
   "metadata": {
    "_uuid": "e99431f79a4d181f9ba0371f109d0c31aa9626a3"
   },
   "source": [
    "# Total attendence of world cups by year\n",
    "* The championship has been awarded every four years since the inaugural tournament in 1930, except in 1942 and 1946 when it was not held because of the Second World War."
   ]
  },
  {
   "cell_type": "code",
   "execution_count": 9,
   "metadata": {
    "_kg_hide-input": true,
    "_uuid": "ee4710dd61074bb90137a9476a2ee2ec70dd7f3b"
   },
   "outputs": [
    {
     "data": {
      "image/png": "[encoded data removed]",
      "text/plain": [
       "<Figure size 864x504 with 1 Axes>"
      ]
     },
     "metadata": {},
     "output_type": "display_data"
    }
   ],
   "source": [
    "matches.isnull().sum()\n",
    "sns.set_style(\"darkgrid\")\n",
    "\n",
    "#removing duplicate rows for match id column \n",
    "matches = matches.drop_duplicates(subset=\"MatchID\",keep=\"first\")\n",
    "\n",
    "#remob=ving null values\n",
    "matches = matches[matches[\"Year\"].notnull()]\n",
    "\n",
    "att = matches.groupby(\"Year\")[\"Attendance\"].sum().reset_index()\n",
    "att[\"Year\"] = att[\"Year\"].astype(int)\n",
    "plt.figure(figsize=(12,7))\n",
    "sns.barplot(att[\"Year\"],att[\"Attendance\"],linewidth=1,edgecolor=\"k\"*len(att))\n",
    "plt.grid(True)\n",
    "plt.title(\"Attendence by year\",color='b')\n",
    "plt.show()"
   ]
  },
  {
   "cell_type": "markdown",
   "metadata": {
    "_uuid": "5b5b05d398efe499090815db6441628750ffda2a"
   },
   "source": [
    "# Average attendence by year\n",
    "* A total of 3.43 million people watched the 64 games of the 2014 FIFA World Cup in Brazil live in the stadium. This meant that the average attendance per game was 53,758 , the highest average since the 1994 World Cup in the United States where average attendance is 68,991 per game. "
   ]
  },
  {
   "cell_type": "code",
   "execution_count": 11,
   "metadata": {
    "_kg_hide-input": true,
    "_uuid": "b021b250ac13289cd25724bdaa0f2be1f8a230e9"
   },
   "outputs": [
    {
     "data": {
      "image/png": "[encoded data removed]",
      "text/plain": [
       "<Figure size 864x504 with 1 Axes>"
      ]
     },
     "metadata": {},
     "output_type": "display_data"
    }
   ],
   "source": [
    "att1 = matches.groupby(\"Year\")[\"Attendance\"].mean().reset_index()\n",
    "att1[\"Year\"] = att1[\"Year\"].astype(int)\n",
    "plt.figure(figsize=(12,7))\n",
    "ax = sns.pointplot(att1[\"Year\"],att1[\"Attendance\"],color=\"w\")\n",
    "ax.set_facecolor(\"k\")\n",
    "plt.grid(True,color=\"grey\",alpha=.3)\n",
    "plt.title(\"Average attendence by year\",color='b')\n",
    "plt.show()"
   ]
  },
  {
   "cell_type": "markdown",
   "metadata": {
    "_uuid": "fff095ff81408590c9488e28f27dea24e60f431d"
   },
   "source": [
    "# Total goals scored by year"
   ]
  },
  {
   "cell_type": "code",
   "execution_count": 12,
   "metadata": {
    "_kg_hide-input": true,
    "_uuid": "c03b36ca603740ef21831c5309d62302127d5398",
    "scrolled": true
   },
   "outputs": [
    {
     "data": {
      "image/png": "[encoded data removed]",
      "text/plain": [
       "<Figure size 936x504 with 1 Axes>"
      ]
     },
     "metadata": {},
     "output_type": "display_data"
    }
   ],
   "source": [
    "plt.figure(figsize=(13,7))\n",
    "cups[\"Year1\"] = cups[\"Year\"].astype(str)\n",
    "ax = plt.scatter(\"Year1\",\"GoalsScored\",data=cups,\n",
    "            c=cups[\"GoalsScored\"],cmap=\"inferno\",\n",
    "            s=900,alpha=.7,\n",
    "            linewidth=2,edgecolor=\"k\",)\n",
    "\n",
    "#plt.colorbar()\n",
    "plt.xticks(cups[\"Year1\"].unique())\n",
    "plt.yticks(np.arange(60,200,20))\n",
    "plt.title('Total goals scored by year',color='b')\n",
    "plt.xlabel(\"year\")\n",
    "plt.ylabel(\"total goals scored\")\n",
    "plt.show()\n"
   ]
  },
  {
   "cell_type": "markdown",
   "metadata": {
    "_uuid": "b45bd73b852f5223f83b220ecb17d90099cad5ae"
   },
   "source": [
    "# Total matches played and qualified teams  by year\n",
    "* In the tournaments between 1934 and 1978, 16 teams competed in each tournament, except in 1938, when Austria was absorbed into Germany after qualifying, leaving the tournament with 15 teams, and in 1950, when India, Scotland, and Turkey withdrew, leaving the tournament with 13 teams\n",
    "* The tournament was expanded to 24 teams in 1982, and then to 32 in 1998,also allowing more teams from Africa, Asia and North America to take part. "
   ]
  },
  {
   "cell_type": "code",
   "execution_count": 13,
   "metadata": {
    "_kg_hide-input": true,
    "_uuid": "f5293d9d82340e2ae4a3dc31f456b66543aa5364"
   },
   "outputs": [
    {
     "data": {
      "image/png": "[encoded data removed]",
      "text/plain": [
       "<Figure size 864x504 with 1 Axes>"
      ]
     },
     "metadata": {},
     "output_type": "display_data"
    }
   ],
   "source": [
    "plt.figure(figsize=(12,7))\n",
    "sns.barplot(cups[\"Year\"],cups[\"MatchesPlayed\"],linewidth=1,\n",
    "            edgecolor=\"k\"*len(cups),color=\"b\",label=\"Total matches played\")\n",
    "sns.barplot(cups[\"Year\"],cups[\"QualifiedTeams\"],linewidth=1,\n",
    "            edgecolor=\"k\"*len(cups),color=\"r\",label=\"Total qualified teams\")\n",
    "plt.legend(loc=\"best\",prop={\"size\":13})\n",
    "plt.title(\"Qualified teams by year\",color='b')\n",
    "plt.grid(True)\n",
    "plt.ylabel(\"total matches and qualified teams by year\")\n",
    "plt.show()"
   ]
  },
  {
   "cell_type": "markdown",
   "metadata": {
    "_uuid": "59e094a4ea47569dc0f527a98c3808c11db775da"
   },
   "source": [
    "# Matches with highest number of attendance"
   ]
  },
  {
   "cell_type": "code",
   "execution_count": 14,
   "metadata": {
    "_kg_hide-input": true,
    "_uuid": "6e299620bfa0ca5b9042000049545ba0fba6f648"
   },
   "outputs": [
    {
     "data": {
      "image/png": "[encoded data removed]",
      "text/plain": [
       "<Figure size 720x648 with 1 Axes>"
      ]
     },
     "metadata": {},
     "output_type": "display_data"
    }
   ],
   "source": [
    "h_att = matches.sort_values(by=\"Attendance\",ascending=False)[:10]\n",
    "h_att = h_att[['Year', 'Datetime','Stadium', 'City', 'Home Team Name',\n",
    "              'Home Team Goals', 'Away Team Goals', 'Away Team Name', 'Attendance', 'MatchID']]\n",
    "h_att[\"Stadium\"] = h_att[\"Stadium\"].replace('Maracan� - Est�dio Jornalista M�rio Filho',\"Maracanã Stadium\")\n",
    "h_att[\"Datetime\"] = h_att[\"Datetime\"].str.split(\"-\").str[0]\n",
    "h_att[\"mt\"] = h_att[\"Home Team Name\"] + \" .Vs.  \" + h_att[\"Away Team Name\"]\n",
    "\n",
    "plt.figure(figsize=(10,9))\n",
    "ax = sns.barplot(y =h_att[\"mt\"],x = h_att[\"Attendance\"],palette=\"gist_ncar\",\n",
    "                 linewidth = 1,edgecolor=\"k\"*len(h_att))\n",
    "plt.ylabel(\"match teams\")\n",
    "plt.xlabel(\"Attendance\")\n",
    "plt.title(\"Matches with highest number of attendace\",color='b')\n",
    "plt.grid(True)\n",
    "for i,j in enumerate(\" stadium : \"+h_att[\"Stadium\"]+\" , Date :\" + h_att[\"Datetime\"]):\n",
    "    ax.text(.7,i,j,fontsize = 12,color=\"white\",weight = \"bold\")\n",
    "plt.show()"
   ]
  },
  {
   "cell_type": "markdown",
   "metadata": {
    "_uuid": "287bacb892df5270d66af48138ac96441c350639"
   },
   "source": [
    "# Stadiums with highest average attendance"
   ]
  },
  {
   "cell_type": "code",
   "execution_count": null,
   "metadata": {
    "_kg_hide-input": true,
    "_uuid": "dae09005457d92d53614872f95c5ab51d5d5d7c9"
   },
   "outputs": [],
   "source": [
    "matches[\"Year\"] = matches[\"Year\"].astype(int)\n",
    "matches[\"Datetime\"] = matches[\"Datetime\"].str.split(\"-\").str[0]\n",
    "\n",
    "\n",
    "matches[\"Stadium\"] = matches[\"Stadium\"].str.replace('Estadio do Maracana',\"Maracanã Stadium\")\n",
    "matches[\"Stadium\"] = matches[\"Stadium\"].str.replace('Maracan� - Est�dio Jornalista M�rio Filho',\"Maracanã Stadium\")\n",
    "std  = matches.groupby([\"Stadium\",\"City\"])[\"Attendance\"].mean().reset_index().sort_values(by = \"Attendance\",ascending =False)\n",
    "\n",
    "\n",
    "plt.figure(figsize=(8,9))\n",
    "ax = sns.barplot(y = std[\"Stadium\"][:14],x = std[\"Attendance\"][:14],palette=\"cool\",\n",
    "                 linewidth=1,edgecolor = \"k\"*14)\n",
    "plt.grid(True)\n",
    "\n",
    "for i,j in enumerate(\"  City : \" + std[\"City\"][:14]):\n",
    "    ax.text(.7,i,j,fontsize=14)\n",
    "\n",
    "plt.title(\"Stadiums with highest average attendance\",color='b')\n",
    "plt.show()\n"
   ]
  },
  {
   "cell_type": "markdown",
   "metadata": {
    "_uuid": "910212cff1150a776d03f88b114bc985c6a98be4"
   },
   "source": [
    "# Cities that hosted highest world cup matches"
   ]
  },
  {
   "cell_type": "code",
   "execution_count": null,
   "metadata": {
    "_kg_hide-input": true,
    "_uuid": "5c771f86b8d18aa92c4f98bf02af8d085b0c47cb"
   },
   "outputs": [],
   "source": [
    "mat_c = matches[\"City\"].value_counts().reset_index()\n",
    "plt.figure(figsize=(10,8))\n",
    "ax = sns.barplot(y=mat_c[\"index\"][:15],x = mat_c[\"City\"][:15],palette=\"plasma\",\n",
    "                 linewidth=1,edgecolor=\"k\"*15)\n",
    "plt.xlabel(\"number of matches\")\n",
    "plt.ylabel(\"City\")\n",
    "plt.grid(True)\n",
    "plt.title(\"Cities with maximum world cup matches\",color='b')\n",
    "\n",
    "for i,j in enumerate(\"Matches  :\" + mat_c[\"City\"][:15].astype(str)):\n",
    "    ax.text(.7,i,j,fontsize = 13,color=\"w\")\n",
    "plt.show()"
   ]
  },
  {
   "cell_type": "markdown",
   "metadata": {
    "_uuid": "d731015b3c23f4946e7541b916a38186fb16cb23"
   },
   "source": [
    "# Average attendance by city"
   ]
  },
  {
   "cell_type": "code",
   "execution_count": null,
   "metadata": {
    "_kg_hide-input": true,
    "_uuid": "2498af27a830a289879701f3c8a16ba35eb2fe51"
   },
   "outputs": [],
   "source": [
    "ct_at = matches.groupby(\"City\")[\"Attendance\"].mean().reset_index()\n",
    "ct_at = ct_at.sort_values(by=\"Attendance\",ascending=False)\n",
    "ct_at\n",
    "\n",
    "plt.figure(figsize=(10,10))\n",
    "\n",
    "ax = sns.barplot(\"Attendance\",\"City\",\n",
    "            data=ct_at[:20],\n",
    "            linewidth = 1,\n",
    "            edgecolor = \"k\"*20,\n",
    "            palette  = \"Spectral_r\")\n",
    "\n",
    "for i,j in enumerate(\" Average attendance  : \"+np.around(ct_at[\"Attendance\"][:20],0).astype(str)):\n",
    "    ax.text(.7,i,j,fontsize=12)\n",
    "plt.grid(True)\n",
    "\n",
    "plt.title(\"Average attendance by city\",color='b')\n",
    "plt.show()\n"
   ]
  },
  {
   "cell_type": "markdown",
   "metadata": {
    "_uuid": "b43a712f173ad636fac18cbf2c0a823b45673924"
   },
   "source": [
    "# Teams with the most world cup final victories\n",
    "* The 20 World Cup tournaments have been won by eight national teams. Brazil have won five times, and they are the only team to have played in every tournament. The other World Cup winners are Germany and Italy, with four titles each; Argentina and inaugural winner Uruguay, with two titles each; and England, France, and Spain, with one title each."
   ]
  },
  {
   "cell_type": "code",
   "execution_count": null,
   "metadata": {
    "_kg_hide-input": true,
    "_uuid": "15c8f25aad4ec9bde2b6b875bf43603756334365"
   },
   "outputs": [],
   "source": [
    "cups[\"Winner\"]=cups[\"Winner\"].replace(\"Germany FR\",\"Germany\")\n",
    "cups[\"Runners-Up\"]=cups[\"Runners-Up\"].replace(\"Germany FR\",\"Germany\")\n",
    "c1  = cups.groupby(\"Winner\")[\"Year1\"].apply(\" , \".join).reset_index()\n",
    "c2  = cups.groupby(\"Winner\")['Year'].count().reset_index()\n",
    "c12 = c1.merge(c2,left_on=\"Winner\",right_on=\"Winner\",how=\"left\")\n",
    "c12 = c12.sort_values(by = \"Year\",ascending =False)\n",
    "\n",
    "plt.figure(figsize=(10,8))\n",
    "ax = sns.barplot(\"Year\",\"Winner\",data=c12,\n",
    "            palette=\"jet_r\",\n",
    "            alpha=.8,\n",
    "            linewidth=2,\n",
    "            edgecolor=\"k\"*len(c12))\n",
    "for i,j in enumerate(\"Years : \" + c12[\"Year1\"]):\n",
    "    ax.text(.1,i,j,weight = \"bold\")\n",
    "\n",
    "plt.title(\"Teams with the most world cup final victories\")\n",
    "plt.grid(True)\n",
    "plt.xlabel(\"count\")\n",
    "plt.show()"
   ]
  },
  {
   "cell_type": "markdown",
   "metadata": {
    "_uuid": "72261bbb8aa779b48499089e080c061af5c9f7ea"
   },
   "source": [
    "# World cup final results by nation"
   ]
  },
  {
   "cell_type": "code",
   "execution_count": null,
   "metadata": {
    "_kg_hide-input": true,
    "_uuid": "15eb7f958f908806ad47a347bc4f0096653a3eb6"
   },
   "outputs": [],
   "source": [
    "cou = cups[\"Winner\"].value_counts().reset_index()\n",
    "cou_w = cou.copy()\n",
    "cou_w.columns = [\"country\",\"count\"]\n",
    "cou_w[\"type\"] = \"WINNER\"\n",
    "\n",
    "cou_r = cups[\"Runners-Up\"].value_counts().reset_index()\n",
    "cou_r.columns = [\"country\",\"count\"]\n",
    "cou_r[\"type\"] = \"RUNNER - Up\"\n",
    "\n",
    "cou_t = pd.concat([cou_w,cou_r],axis=0)\n",
    "\n",
    "plt.figure(figsize=(8,10))\n",
    "sns.barplot(\"count\",\"country\",data=cou_t,\n",
    "            hue=\"type\",palette=[\"lime\",\"r\"],\n",
    "            linewidth=1,edgecolor=\"k\"*len(cou_t))\n",
    "plt.grid(True)\n",
    "plt.legend(loc=\"center right\",prop={\"size\":14})\n",
    "plt.title(\"Final results by nation\",color='b')\n",
    "plt.show()"
   ]
  },
  {
   "cell_type": "markdown",
   "metadata": {
    "_uuid": "baaf4fe8b37b749e6a82ef298082b3019c046c2a"
   },
   "source": [
    "# World cup final result for third and fourth place by nation"
   ]
  },
  {
   "cell_type": "code",
   "execution_count": null,
   "metadata": {
    "_kg_hide-input": true,
    "_uuid": "4d0efb5bfb169392a4cd3adc23418b6e14aff460"
   },
   "outputs": [],
   "source": [
    "thrd = cups[\"Third\"].value_counts().reset_index()\n",
    "thrd.columns = [\"team\",\"count\"]\n",
    "thrd[\"type\"] = \"THIRD PLACE\"\n",
    "\n",
    "frth = cups[\"Fourth\"].value_counts().reset_index()\n",
    "frth.columns = [\"team\",\"count\"]\n",
    "frth[\"type\"] = \"FOURTH PLACE\"\n",
    "\n",
    "plcs = pd.concat([thrd,frth],axis=0)\n",
    "\n",
    "plt.figure(figsize=(10,10))\n",
    "sns.barplot(\"count\",\"team\",data=plcs,hue=\"type\",\n",
    "           linewidth=1,edgecolor=\"k\"*len(plcs),\n",
    "           palette = [\"grey\",\"r\"])\n",
    "plt.grid(True)\n",
    "plt.xticks(np.arange(0,4,1))\n",
    "plt.title(\" World cup final result for third and fourth place by nation\",color='b')\n",
    "plt.legend(loc=\"center right\",prop={\"size\":12})\n",
    "plt.show()"
   ]
  },
  {
   "cell_type": "markdown",
   "metadata": {
    "_uuid": "94634dcced502a19fcb833b6d40b46a8bbf4f771"
   },
   "source": [
    "# Teams with the most world cup matches"
   ]
  },
  {
   "cell_type": "code",
   "execution_count": null,
   "metadata": {
    "_kg_hide-input": true,
    "_uuid": "bde3261ebec5ebff9db5a7b1199e0e316f421106"
   },
   "outputs": [],
   "source": [
    "matches[\"Home Team Name\"] = matches[\"Home Team Name\"].str.replace('rn\">United Arab Emirates',\"United Arab Emirates\")\n",
    "matches[\"Home Team Name\"] = matches[\"Home Team Name\"].str.replace(\"C�te d'Ivoire\",\"Côte d’Ivoire\")\n",
    "matches[\"Home Team Name\"] = matches[\"Home Team Name\"].str.replace('rn\">Republic of Ireland',\"Republic of Ireland\")\n",
    "matches[\"Home Team Name\"] = matches[\"Home Team Name\"].str.replace('rn\">Bosnia and Herzegovina',\"Bosnia and Herzegovina\")\n",
    "matches[\"Home Team Name\"] = matches[\"Home Team Name\"].str.replace('rn\">Serbia and Montenegro',\"Serbia and Montenegro\")\n",
    "matches[\"Home Team Name\"] = matches[\"Home Team Name\"].str.replace('rn\">Trinidad and Tobago',\"Trinidad and Tobago\")\n",
    "matches[\"Home Team Name\"] = matches[\"Home Team Name\"].str.replace(\"Soviet Union\",\"Russia\")\n",
    "matches[\"Home Team Name\"] = matches[\"Home Team Name\"].str.replace(\"Germany FR\",\"Germany\")\n",
    "\n",
    "matches[\"Away Team Name\"] = matches[\"Away Team Name\"].str.replace('rn\">United Arab Emirates',\"United Arab Emirates\")\n",
    "matches[\"Away Team Name\"] = matches[\"Away Team Name\"].str.replace(\"C�te d'Ivoire\",\"Côte d’Ivoire\")\n",
    "matches[\"Away Team Name\"] = matches[\"Away Team Name\"].str.replace('rn\">Republic of Ireland',\"Republic of Ireland\")\n",
    "matches[\"Away Team Name\"] = matches[\"Away Team Name\"].str.replace('rn\">Bosnia and Herzegovina',\"Bosnia and Herzegovina\")\n",
    "matches[\"Away Team Name\"] = matches[\"Away Team Name\"].str.replace('rn\">Serbia and Montenegro',\"Serbia and Montenegro\")\n",
    "matches[\"Away Team Name\"] = matches[\"Away Team Name\"].str.replace('rn\">Trinidad and Tobago',\"Trinidad and Tobago\")\n",
    "matches[\"Away Team Name\"] = matches[\"Away Team Name\"].str.replace(\"Germany FR\",\"Germany\")\n",
    "matches[\"Away Team Name\"] = matches[\"Away Team Name\"].str.replace(\"Soviet Union\",\"Russia\")\n",
    "\n",
    "ht = matches[\"Home Team Name\"].value_counts().reset_index()\n",
    "ht.columns = [\"team\",\"matches\"]\n",
    "at = matches[\"Away Team Name\"].value_counts().reset_index()\n",
    "at.columns = [\"team\",\"matches\"]\n",
    "mt = pd.concat([ht,at],axis=0)\n",
    "mt = mt.groupby(\"team\")[\"matches\"].sum().reset_index().sort_values(by=\"matches\",ascending=False)\n",
    "\n",
    "plt.figure(figsize=(10,13))\n",
    "ax = sns.barplot(\"matches\",\"team\",data=mt[:25],palette=\"gnuplot_r\",\n",
    "                 linewidth=1,edgecolor=\"k\"*25)\n",
    "plt.grid(True)\n",
    "plt.title(\"Teams with the most matches\",color='b')\n",
    "for i,j in enumerate(\"Matches played  : \" + mt[\"matches\"][:25].astype(str)):\n",
    "    ax.text(.7,i,j,fontsize=12,color=\"white\")"
   ]
  },
  {
   "cell_type": "markdown",
   "metadata": {
    "_uuid": "63e6c2dd868c2189fe719cb2b794bf379169b2dd"
   },
   "source": [
    "# Teams with the most tournament participations"
   ]
  },
  {
   "cell_type": "code",
   "execution_count": null,
   "metadata": {
    "_kg_hide-input": true,
    "_uuid": "b3885a406fdaf51eb246788a20efdc2f27b01ec9"
   },
   "outputs": [],
   "source": [
    "hy = matches[[\"Year\",\"Home Team Name\"]]\n",
    "hy.columns = [\"year\",\"team\"]\n",
    "hy[\"type\"] = \"HOME TEAM\"\n",
    "ay = matches[[\"Year\",\"Away Team Name\"]]\n",
    "ay.columns = [\"year\",\"team\"]\n",
    "ay[\"type\"] = \"AWAY TEAM\"\n",
    "\n",
    "home_away = pd.concat([hy,ay],axis=0)\n",
    "yt = home_away.groupby([\"year\",\"team\"]).count().reset_index()\n",
    "yt = yt[\"team\"].value_counts().reset_index()\n",
    "\n",
    "plt.figure(figsize=(10,8))\n",
    "ax = sns.barplot(\"team\",\"index\",data=yt[:15],\n",
    "                 linewidth=1,edgecolor=\"k\"*15)\n",
    "\n",
    "for i,j in enumerate(\"Particpated \" + yt[\"team\"][:15].astype(str) + \" times\"):\n",
    "    ax.text(.7,i,j,fontsize=14,color=\"k\")\n",
    "plt.grid(True)\n",
    "    \n",
    "plt.title(\"Teams with the most tournament participations\",color='b')\n",
    "plt.ylabel(\"team\")\n",
    "plt.xlabel(\"count\")\n",
    "plt.xticks(np.arange(0,22,2))\n",
    "plt.show()"
   ]
  },
  {
   "cell_type": "markdown",
   "metadata": {
    "_uuid": "4e4d6129105220a01dbc886244777d6bbb3e9572"
   },
   "source": [
    "# Distribution of home and away goals"
   ]
  },
  {
   "cell_type": "code",
   "execution_count": null,
   "metadata": {
    "_kg_hide-input": true,
    "_uuid": "fd0d7b78fd7d2459edd7823b45eab3fbb902bfe7"
   },
   "outputs": [],
   "source": [
    "plt.figure(figsize=(12,13))\n",
    "plt.subplot(211)\n",
    "sns.distplot(matches[\"Home Team Goals\"],color=\"b\",rug=True)\n",
    "plt.xticks(np.arange(0,12,1))\n",
    "plt.title(\"Distribution of Home Team Goals\",color='b')\n",
    "\n",
    "\n",
    "plt.subplot(212)\n",
    "sns.distplot(matches[\"Away Team Goals\"],color=\"r\",rug=True)\n",
    "plt.xticks(np.arange(0,9,1))\n",
    "plt.title(\"Distribution of Away Team Goals\",color='b')\n",
    "plt.show()"
   ]
  },
  {
   "cell_type": "markdown",
   "metadata": {
    "_uuid": "dbaa4e06422916db27e984b3796b4928af5b10bb"
   },
   "source": [
    "# Distribution of Half time Home and Away Team Goals"
   ]
  },
  {
   "cell_type": "code",
   "execution_count": null,
   "metadata": {
    "_kg_hide-input": true,
    "_uuid": "09b1ef79171f51d04b0386b9644cfe1a7aea0405"
   },
   "outputs": [],
   "source": [
    "plt.figure(figsize=(12,15))\n",
    "matches = matches.rename(columns={'Half-time Home Goals':\"first half home goals\",\n",
    "                                  'Half-time Away Goals':\"first half away goals\"})\n",
    "\n",
    "matches[\"second half home goals\"] = matches[\"Home Team Goals\"] - matches[\"first half home goals\"]\n",
    "matches[\"second half away goals\"] = matches[\"Away Team Goals\"] - matches[\"first half away goals\"]\n",
    "\n",
    "plt.subplot(211)\n",
    "sns.kdeplot(matches[\"first half home goals\"],color=\"b\",linewidth=2)\n",
    "sns.kdeplot(matches[\"second half home goals\"],color=\"r\",linewidth=2)\n",
    "plt.xticks(np.arange(0,9,1))\n",
    "plt.title(\"Distribution of first and second Half - Home Team Goals\",color='b')\n",
    "\n",
    "plt.subplot(212)\n",
    "sns.kdeplot(matches[\"first half away goals\"],color=\"b\",linewidth=2)\n",
    "sns.kdeplot(matches[\"second half away goals\"],color=\"r\",linewidth=2)\n",
    "plt.xticks(np.arange(0,9,1))\n",
    "plt.title(\"Distribution of first and second Half - Away Team Goals\",color='b')\n",
    "plt.show()"
   ]
  },
  {
   "cell_type": "markdown",
   "metadata": {
    "_uuid": "de7cd55d874ae2fa3b8e1ad92ce72e059147c30a"
   },
   "source": [
    "# Home and away goals by year"
   ]
  },
  {
   "cell_type": "code",
   "execution_count": null,
   "metadata": {
    "_kg_hide-input": true,
    "_uuid": "70148f784667c0b2a976f0de5c6198cddc2d6937"
   },
   "outputs": [],
   "source": [
    "gh = matches[[\"Year\",\"Home Team Goals\"]]\n",
    "gh.columns = [\"year\",\"goals\"]\n",
    "gh[\"type\"] = \"Home Team Goals\"\n",
    "\n",
    "ga = matches[[\"Year\",\"Away Team Goals\"]]\n",
    "ga.columns = [\"year\",\"goals\"]\n",
    "ga[\"type\"] = \"Away Team Goals\"\n",
    "\n",
    "gls = pd.concat([ga,gh],axis=0)\n",
    "\n",
    "plt.figure(figsize=(13,8))\n",
    "sns.violinplot(gls[\"year\"],gls[\"goals\"],\n",
    "               hue=gls[\"type\"],split=True,inner=\"quart\",palette=\"husl\")\n",
    "plt.grid(True)\n",
    "plt.title(\"Home and away goals by year\",color='b')\n",
    "plt.show()"
   ]
  },
  {
   "cell_type": "markdown",
   "metadata": {
    "_uuid": "2d23e8287f775bdb55610ac903878c1c7f8ecce0"
   },
   "source": [
    "# First half home and away goals by year"
   ]
  },
  {
   "cell_type": "code",
   "execution_count": null,
   "metadata": {
    "_kg_hide-input": true,
    "_uuid": "3328dde8541ce91e45fd97f725e7d7505d85e570"
   },
   "outputs": [],
   "source": [
    "hhg = matches[[\"Year\",'first half home goals']]\n",
    "hhg.columns = [\"year\",\"goals\"]\n",
    "hhg[\"type\"] = 'first half home goals'\n",
    "\n",
    "hag = matches[[\"Year\",'first half away goals']]\n",
    "hag.columns = [\"year\",\"goals\"]\n",
    "hag[\"type\"] = 'first half away goals'\n",
    "\n",
    "h_time = pd.concat([hhg,hag],axis=0)\n",
    "\n",
    "plt.figure(figsize=(13,8))\n",
    "sns.violinplot(h_time[\"year\"],h_time[\"goals\"],\n",
    "               hue=h_time[\"type\"],\n",
    "               split=True,inner=\"quart\",\n",
    "               palette=\"gist_ncar\")\n",
    "plt.grid(True)\n",
    "plt.title(\" first half  home and away goals by year\",color='b')\n",
    "plt.show()"
   ]
  },
  {
   "cell_type": "markdown",
   "metadata": {
    "_uuid": "18db19e01ee1e8f817c88da1439a3d31be643c54"
   },
   "source": [
    "# second half home and away goals by year"
   ]
  },
  {
   "cell_type": "code",
   "execution_count": null,
   "metadata": {
    "_kg_hide-input": true,
    "_uuid": "00d7a902b9d54d9d425cfe16f674eab614055f4b"
   },
   "outputs": [],
   "source": [
    "shg = matches[[\"Year\",'second half home goals']]\n",
    "shg.columns = [\"year\",\"goals\"]\n",
    "shg[\"type\"] = 'second half home goals'\n",
    "\n",
    "sag = matches[[\"Year\",'second half away goals']]\n",
    "sag.columns = [\"year\",\"goals\"]\n",
    "sag[\"type\"] = 'second half away goals'\n",
    "\n",
    "s_time = pd.concat([shg,sag],axis=0)\n",
    "\n",
    "plt.figure(figsize=(13,8))\n",
    "sns.violinplot(s_time[\"year\"],s_time[\"goals\"],\n",
    "               hue=s_time[\"type\"],\n",
    "               split=True,inner=\"quart\",\n",
    "               palette=\"gist_ncar\")\n",
    "plt.title(\"second half home and away goals by year\",color='b')\n",
    "plt.grid(True)\n",
    "plt.show()"
   ]
  },
  {
   "cell_type": "markdown",
   "metadata": {
    "_uuid": "55dabd3385becfe218951f61e5baae1cea648b28"
   },
   "source": [
    "# Match outcomes by home and away teams"
   ]
  },
  {
   "cell_type": "code",
   "execution_count": null,
   "metadata": {
    "_kg_hide-input": true,
    "_uuid": "225fac6effa83154579e2ea98eaffafb37897592"
   },
   "outputs": [],
   "source": [
    "def label(matches):\n",
    "    if matches[\"Home Team Goals\"] > matches[\"Away Team Goals\"]:\n",
    "        return \"Home team win\"\n",
    "    if matches[\"Away Team Goals\"] > matches[\"Home Team Goals\"]:\n",
    "        return \"Away team win\"\n",
    "    if matches[\"Home Team Goals\"] == matches[\"Away Team Goals\"]:\n",
    "        return \"DRAW\"\n",
    "\n",
    "matches[\"outcome\"] = matches.apply(lambda matches:label(matches),axis=1)\n",
    "plt.figure(figsize=(9,9))\n",
    "matches[\"outcome\"].value_counts().plot.pie(autopct=\"%1.0f%%\",fontsize =14,\n",
    "                                           colors = sns.color_palette(\"husl\"),\n",
    "                                           wedgeprops={\"linewidth\":2,\"edgecolor\":\"white\"},\n",
    "                                           shadow=True)\n",
    "circ = plt.Circle((0,0),.7,color=\"white\")\n",
    "plt.gca().add_artist(circ)\n",
    "plt.title(\"# Match outcomes by home and away teams\",color='b')\n",
    "plt.show()"
   ]
  },
  {
   "cell_type": "code",
   "execution_count": null,
   "metadata": {
    "_kg_hide-input": true,
    "_uuid": "85ff1f0373fefcc12f41966f9d6542b8e62bda91",
    "collapsed": true
   },
   "outputs": [],
   "source": [
    "matches[['Home Team Name','Home Team Goals', 'Away Team Goals', 'Away Team Name',\"outcome\"]]\n",
    "\n",
    "\n",
    "def win_label(matches):\n",
    "    if matches[\"Home Team Goals\"] > matches[\"Away Team Goals\"]:\n",
    "        return matches[\"Home Team Name\"]\n",
    "    if matches[\"Home Team Goals\"] < matches[\"Away Team Goals\"]:\n",
    "        return matches[\"Away Team Name\"]\n",
    "    if matches[\"Home Team Goals\"] == matches[\"Away Team Goals\"]:\n",
    "        return \"DRAW\"\n",
    "    \n",
    "def lst_label(matches):\n",
    "    if matches[\"Home Team Goals\"] < matches[\"Away Team Goals\"]:\n",
    "        return matches[\"Home Team Name\"]\n",
    "    if matches[\"Home Team Goals\"] > matches[\"Away Team Goals\"]:\n",
    "        return matches[\"Away Team Name\"]\n",
    "    if matches[\"Home Team Goals\"] == matches[\"Away Team Goals\"]:\n",
    "        return \"DRAW\"\n",
    "    \n",
    "matches[\"win_team\"]  = matches.apply(lambda matches:win_label(matches),axis=1)\n",
    "matches[\"lost_team\"] = matches.apply(lambda matches:lst_label(matches),axis=1)\n",
    "lst = matches[\"lost_team\"].value_counts().reset_index()\n",
    "win = matches[\"win_team\"].value_counts().reset_index()\n",
    "wl  = win.merge(lst,left_on=\"index\",right_on=\"index\",how=\"left\")\n",
    "wl = wl[wl[\"index\"] != \"DRAW\"]\n",
    "wl.columns  = [\"team\",\"wins\",\"loses\"]\n"
   ]
  },
  {
   "cell_type": "markdown",
   "metadata": {
    "_uuid": "b9e32b7d02e956e8e9438d86c2939e0638a559c4"
   },
   "source": [
    "# Match outcomes by countries"
   ]
  },
  {
   "cell_type": "code",
   "execution_count": null,
   "metadata": {
    "_kg_hide-input": true,
    "_uuid": "e2929309e68352c6fee32a2dde34d5555dffdd6e"
   },
   "outputs": [],
   "source": [
    "wl1 = wl.copy()\n",
    "wl1 = wl1.merge(mt,left_on=\"team\",right_on=\"team\",how=\"left\")\n",
    "wl1[\"draws\"] = wl1[\"matches\"]-(wl1[\"wins\"]+wl1[\"loses\"])\n",
    "wl1.index = wl1.team\n",
    "wl1 = wl1.sort_values(by=\"wins\",ascending=True)\n",
    "wl1[[\"wins\",\"draws\",\"loses\"]].plot(kind=\"barh\",stacked=True,figsize=(10,17),\n",
    "                                 colors=[\"lawngreen\",\"royalblue\",\"r\"],\n",
    "                                  linewidth=1,edgecolor=\"k\"*len(wl1))\n",
    "plt.legend(loc=\"center right\",prop={\"size\":20})\n",
    "plt.xticks(np.arange(0,120,5))\n",
    "plt.title(\"Match outcomes by countries\",color='b')\n",
    "plt.xlabel(\"matches played\")\n",
    "plt.show()"
   ]
  },
  {
   "cell_type": "markdown",
   "metadata": {
    "_uuid": "440947ccc038b2de58b107ad3c1c34f5c4f0f6f1"
   },
   "source": [
    "## Countries with maximum wins , loses and draw matches in world cup"
   ]
  },
  {
   "cell_type": "code",
   "execution_count": null,
   "metadata": {
    "_kg_hide-input": true,
    "_uuid": "af07a5be8d57df02a0d49323cfd9c1333a144a3d"
   },
   "outputs": [],
   "source": [
    "cols = [ 'wins', 'loses', 'draws']\n",
    "length = len(cols)\n",
    "\n",
    "plt.figure(figsize=(8,18))\n",
    "for i,j in itertools.zip_longest(cols,range(length)):\n",
    "    plt.subplot(3,1,j+1)\n",
    "    ax = sns.barplot(i,\"team\",data=wl1.sort_values(by=i,ascending=False)[:10],\n",
    "                     linewidth=1,edgecolor=\"k\"*10,palette=\"husl\")\n",
    "    for k,l in enumerate(wl1.sort_values(by=i,ascending=False)[:10][i]):\n",
    "        ax.text(.7,k,l,fontsize=13)\n",
    "    \n",
    "    plt.grid(True)\n",
    "    plt.title(\"Countries with maximum \"+i,color='b')"
   ]
  },
  {
   "cell_type": "markdown",
   "metadata": {
    "_uuid": "a610f3218b7bac5a23d1d826cdc0a3c8c0e411b6"
   },
   "source": [
    "# Teams with highest fifa world cup goals"
   ]
  },
  {
   "cell_type": "code",
   "execution_count": null,
   "metadata": {
    "_kg_hide-input": true,
    "_uuid": "08596d3fa36d920b4dad384cb2817228c1b8e65e"
   },
   "outputs": [],
   "source": [
    "tt_gl_h = matches.groupby(\"Home Team Name\")[\"Home Team Goals\"].sum().reset_index()\n",
    "tt_gl_h.columns = [\"team\",\"goals\"]\n",
    "\n",
    "tt_gl_a = matches.groupby(\"Away Team Name\")[\"Away Team Goals\"].sum().reset_index()\n",
    "tt_gl_a.columns = [\"team\",\"goals\"]\n",
    "\n",
    "total_goals = pd.concat([tt_gl_h,tt_gl_a],axis=0)\n",
    "total_goals = total_goals.groupby(\"team\")[\"goals\"].sum().reset_index()\n",
    "total_goals = total_goals.sort_values(by=\"goals\",ascending =False)\n",
    "total_goals[\"goals\"] = total_goals[\"goals\"].astype(int)\n",
    "\n",
    "plt.figure(figsize=(10,12))\n",
    "ax= sns.barplot(\"goals\",\"team\",data=total_goals[:20],palette=\"cool\",\n",
    "                linewidth=1,edgecolor=\"k\"*20)\n",
    "\n",
    "for i,j in enumerate(\"SCORED  \" +total_goals[\"goals\"][:20].astype(str) + \"  GOALS\"):\n",
    "    ax.text(.7,i,j,fontsize = 10,color=\"k\")\n",
    "\n",
    "plt.title(\"Teams with highest fifa world cup goals\",color='b')\n",
    "plt.grid(True)\n",
    "plt.show()"
   ]
  },
  {
   "cell_type": "markdown",
   "metadata": {
    "_uuid": "e090ce6263dfe0bcb36d6481fa3363e7dae11304"
   },
   "source": [
    "# Highest total goals scored during a match "
   ]
  },
  {
   "cell_type": "code",
   "execution_count": null,
   "metadata": {
    "_kg_hide-input": true,
    "_uuid": "e8cd50848d0b7c484e6477e158de64cd0701914b"
   },
   "outputs": [],
   "source": [
    "matches[\"total_goals\"] = matches[\"Home Team Goals\"] + matches[\"Away Team Goals\"]\n",
    "hig_gl = matches.sort_values(by=\"total_goals\",ascending =False)[:15][['Year', 'Datetime', 'Stage', 'Stadium', 'City', 'Home Team Name',\n",
    "                                                                  'Home Team Goals', 'Away Team Goals', 'Away Team Name',\"total_goals\"]]\n",
    "hig_gl[\"match\"] = hig_gl[\"Home Team Name\"] + \" .Vs. \" + hig_gl['Away Team Name']\n",
    "hig_gl.index = hig_gl[\"match\"]\n",
    "hig_gl = hig_gl.sort_values(by=\"total_goals\",ascending =True)\n",
    "ax= hig_gl[[\"Home Team Goals\",\"Away Team Goals\"]].plot(kind=\"barh\",stacked=True,\n",
    "                                                       figsize=(10,12),linewidth=2,\n",
    "                                                       edgecolor=\"w\"*15)\n",
    "\n",
    "plt.ylabel(\"home team vs away team\",color=\"b\")\n",
    "plt.xlabel(\"goals\",color=\"b\")\n",
    "plt.title(\"Highest total goals scored during a match \",color='b')\n",
    "\n",
    "for i,j in enumerate(\"Date  : \" + hig_gl[\"Datetime\"]):\n",
    "    ax.text(.7,i,j,color=\"w\",fontsize=11)\n",
    "    \n",
    "plt.show()"
   ]
  },
  {
   "cell_type": "markdown",
   "metadata": {
    "_uuid": "d0694bffe310c2094f83c1f59131a3128a00b869"
   },
   "source": [
    "# Total goals scored during games by year"
   ]
  },
  {
   "cell_type": "code",
   "execution_count": null,
   "metadata": {
    "_kg_hide-input": true,
    "_uuid": "7716641e7d277ec9abf807a665c6f19d531d90f5"
   },
   "outputs": [],
   "source": [
    "plt.figure(figsize=(13,8))\n",
    "sns.boxplot(y=matches[\"total_goals\"],\n",
    "            x=matches[\"Year\"])\n",
    "plt.grid(True)\n",
    "plt.title(\"Total goals scored during game by year\",color='b')\n",
    "plt.show()\n"
   ]
  },
  {
   "cell_type": "markdown",
   "metadata": {
    "_uuid": "3d9ac4a0e6d823da254b8e119e83a64fe601aa90"
   },
   "source": [
    "# Team comparator"
   ]
  },
  {
   "cell_type": "code",
   "execution_count": null,
   "metadata": {
    "_kg_hide-input": true,
    "_uuid": "02e76fe3cd5142b4dc0c14e6f96febb7f2df456a",
    "collapsed": true
   },
   "outputs": [],
   "source": [
    "#TEAM COMPARATOR\n",
    "matches_played = mt.copy()\n",
    "mat_new = matches_played.merge(lst,left_on=\"team\",right_on=\"index\",how=\"left\")\n",
    "mat_new = mat_new.merge(win,left_on=\"team\",right_on=\"index\",how=\"left\")\n",
    "mat_new = mat_new[[\"team\",\"matches\",\"lost_team\",\"win_team\"]]\n",
    "mat_new = mat_new.fillna(0)\n",
    "mat_new[\"win_team\"] = mat_new[\"win_team\"].astype(int)\n",
    "mat_new[\"draws\"]    = (mat_new[\"matches\"]) - (mat_new[\"lost_team\"] + mat_new[\"win_team\"])\n",
    "mat_new = mat_new.merge(total_goals,left_on=\"team\",right_on=\"team\",how=\"left\")\n",
    "mat_new = mat_new.rename(columns={\"win_team\":\"wins\",\"lost_team\":\"loses\"})\n",
    "\n",
    "def team_compare(team1,team2):\n",
    "    \n",
    "    lst = [team1,team2]\n",
    "    dat = mat_new[mat_new[\"team\"].isin(lst)]\n",
    "    \n",
    "    plt.figure(figsize=(12,10))\n",
    "    cols   = [\"matches\",\"goals\",\"wins\",\"loses\",\"draws\"]\n",
    "    length = len(cols)\n",
    "    \n",
    "    for i,j in itertools.zip_longest(cols,range(length)):\n",
    "        \n",
    "        fig = plt.subplot(3,2,j+1)\n",
    "        ax  = sns.barplot(dat[i],dat[\"team\"],palette=[\"royalblue\",\"r\"],\n",
    "                         linewidth=2,edgecolor=\"k\"*len(lst))\n",
    "        plt.ylabel(\"\")\n",
    "        plt.yticks(fontsize=13)\n",
    "        plt.grid(True,color=\"grey\",alpha=.3)\n",
    "        plt.title(i,color=\"b\",fontsize=15)\n",
    "        plt.subplots_adjust(wspace = .3,hspace =.5)\n",
    "        fig.set_facecolor(\"w\")\n",
    "        \n",
    "        for k,l in enumerate(dat[i].values):\n",
    "            ax.text(.7,k,l,weight = \"bold\",fontsize = 20)\n",
    "            "
   ]
  },
  {
   "cell_type": "markdown",
   "metadata": {
    "_uuid": "ad1da7be18e0cee98265eb6dd6d58e82560d23d4"
   },
   "source": [
    "# Portugal & Argentina"
   ]
  },
  {
   "cell_type": "code",
   "execution_count": null,
   "metadata": {
    "_kg_hide-input": true,
    "_uuid": "c2c779cc88eb9acbb1d3c60cd46bf24d42ea5e31"
   },
   "outputs": [],
   "source": [
    "team_compare(\"Portugal\",\"Argentina\")"
   ]
  },
  {
   "cell_type": "markdown",
   "metadata": {
    "_uuid": "13f3a379fee76663a85dd9df5b3cf5efbb5eb454"
   },
   "source": [
    "# France & Croatia"
   ]
  },
  {
   "cell_type": "code",
   "execution_count": null,
   "metadata": {
    "_kg_hide-input": true,
    "_uuid": "de24d2edbc70456a012e7753a22a36f74d3260cc"
   },
   "outputs": [],
   "source": [
    "team_compare(\"France\",\"Croatia\")"
   ]
  },
  {
   "cell_type": "markdown",
   "metadata": {
    "_uuid": "b0a5f89cda7f87b3920877cc86f06de71934e439"
   },
   "source": [
    "# Spain & Italy"
   ]
  },
  {
   "cell_type": "code",
   "execution_count": null,
   "metadata": {
    "_kg_hide-input": true,
    "_uuid": "4c4945cc92cf6302f7ca2b88b6867e17c3eb9045"
   },
   "outputs": [],
   "source": [
    "team_compare(\"Italy\",\"Spain\")"
   ]
  },
  {
   "cell_type": "markdown",
   "metadata": {
    "_uuid": "06c303014d3d7336369e617eb9cec904790428e0"
   },
   "source": [
    "# Brazil & Germany"
   ]
  },
  {
   "cell_type": "code",
   "execution_count": null,
   "metadata": {
    "_kg_hide-input": true,
    "_uuid": "04b343953505c9363d307ffe476fd63d5c33dbca"
   },
   "outputs": [],
   "source": [
    "team_compare(\"Brazil\",\"Germany\")"
   ]
  },
  {
   "cell_type": "markdown",
   "metadata": {
    "_uuid": "afca62caa6d2205b423c85ceca629912d65d084e"
   },
   "source": [
    "# Referee's with most matches"
   ]
  },
  {
   "cell_type": "code",
   "execution_count": null,
   "metadata": {
    "_kg_hide-input": true,
    "_uuid": "01b6c3e705e53663c465ee7fdadd73b65e3cbadd"
   },
   "outputs": [],
   "source": [
    "ref = matches[\"Referee\"].value_counts().reset_index()\n",
    "ref = ref.sort_values(by=\"Referee\",ascending=False)\n",
    "\n",
    "plt.figure(figsize=(10,10))\n",
    "sns.barplot(\"Referee\",\"index\",data=ref[:20],linewidth=1,edgecolor=\"k\"*20)\n",
    "plt.xlabel(\"count\")\n",
    "plt.ylabel(\"Refree name\")\n",
    "plt.grid(True)\n",
    "plt.title(\"Referee's with most matches\",color='b')\n",
    "plt.show()"
   ]
  },
  {
   "cell_type": "markdown",
   "metadata": {
    "_uuid": "b67f711414e655df032410087f53e8462da56775"
   },
   "source": [
    "# Goals per game by top countries "
   ]
  },
  {
   "cell_type": "code",
   "execution_count": null,
   "metadata": {
    "_kg_hide-input": true,
    "_uuid": "7081882c5b6e9f63f2c06d792c0385fa8f66de6c"
   },
   "outputs": [],
   "source": [
    "mat_new[\"goals_per_match\"] = mat_new[\"goals\"] / mat_new[\"matches\"]\n",
    "cou_lst = mat_new.sort_values(by=\"wins\",ascending=False)[:15][\"team\"].tolist()\n",
    "cou_gpm = mat_new[mat_new[\"team\"].isin(cou_lst)]\n",
    "cou_gpm = cou_gpm.sort_values(by=\"goals_per_match\",ascending=False)\n",
    "\n",
    "plt.figure(figsize=(10,8))\n",
    "ax = sns.barplot(\"goals_per_match\",\"team\",\n",
    "                 linewidth=1,\n",
    "                 edgecolor=[\"k\"]*len(cou_gpm),\n",
    "                 data=cou_gpm,\n",
    "                 palette=\"Spectral\")\n",
    "\n",
    "for i,j in enumerate(np.round(cou_gpm[\"goals_per_match\"],2).astype(str) + \"  Goals per game\"):\n",
    "    ax.text(.1,i,j,color=\"k\",weight = \"bold\")\n",
    "    \n",
    "plt.grid(True)\n",
    "plt.title(\"Goals per match for countries with highest wins\",color='b')\n",
    "plt.show()"
   ]
  },
  {
   "cell_type": "markdown",
   "metadata": {
    "_uuid": "ad896adebfc169ee983ebb7a12c99ecd64d3a0a1"
   },
   "source": [
    "# Interactions between teams"
   ]
  },
  {
   "cell_type": "code",
   "execution_count": null,
   "metadata": {
    "_kg_hide-input": true,
    "_uuid": "c08a30a2fbce0f46f25d6670076d514a08b36182",
    "collapsed": true
   },
   "outputs": [],
   "source": [
    "import networkx as nx \n",
    "\n",
    "def interactions(year,color):\n",
    "    \n",
    "    df  =  matches[matches[\"Year\"] == year][[\"Home Team Name\",\"Away Team Name\"]]\n",
    "    G   = nx.from_pandas_dataframe(df,\"Home Team Name\",\"Away Team Name\")\n",
    "    \n",
    "    plt.figure(figsize=(10,9))\n",
    "    \n",
    "    nx.draw_kamada_kawai(G,with_labels = True,\n",
    "                         node_size  = 2500,\n",
    "                         node_color = color,\n",
    "                         node_shape = \"h\",\n",
    "                         edgecolor  = \"k\",\n",
    "                         linewidths  = 5 ,\n",
    "                         font_size  = 13 ,\n",
    "                         alpha=.8)\n",
    "    \n",
    "    plt.title(\"Interaction between teams :\" + str(year) , fontsize =13 , color = \"b\")\n",
    "    "
   ]
  },
  {
   "cell_type": "markdown",
   "metadata": {
    "_uuid": "bca99e9a44e81db5221bf1bcc50c9375b200850f"
   },
   "source": [
    "# Interactions between teams for year 2014"
   ]
  },
  {
   "cell_type": "code",
   "execution_count": null,
   "metadata": {
    "_kg_hide-input": true,
    "_uuid": "4037bb65d7c581da97a0349954003413eb8d58bb"
   },
   "outputs": [],
   "source": [
    "interactions(2014,\"r\")"
   ]
  },
  {
   "cell_type": "markdown",
   "metadata": {
    "_uuid": "d7a028ee84dbee144d99f68640e9544903a3930b"
   },
   "source": [
    "# 1994"
   ]
  },
  {
   "cell_type": "code",
   "execution_count": null,
   "metadata": {
    "_kg_hide-input": true,
    "_uuid": "97d8156221bd4a1657aa1fa470b5deb37d469ec5"
   },
   "outputs": [],
   "source": [
    "interactions(1994,\"royalblue\")"
   ]
  },
  {
   "cell_type": "markdown",
   "metadata": {
    "_uuid": "3b643740a130d0d38b717507f652332e2f43ab0c"
   },
   "source": [
    "# Interactions between teams for year 1950"
   ]
  },
  {
   "cell_type": "code",
   "execution_count": null,
   "metadata": {
    "_kg_hide-input": true,
    "_uuid": "eb5e9008aace2a77f757d503e1d913f88ad7bb0f"
   },
   "outputs": [],
   "source": [
    "interactions(1950,\"lawngreen\")"
   ]
  },
  {
   "cell_type": "markdown",
   "metadata": {
    "_uuid": "4b4919f28a58a531b2a451c7bdb62f9900db5056"
   },
   "source": [
    "# Interactions between teams for year 1930"
   ]
  },
  {
   "cell_type": "code",
   "execution_count": null,
   "metadata": {
    "_kg_hide-input": true,
    "_uuid": "fd8a706cde20fdea9fbd13ae868b428210b311c7"
   },
   "outputs": [],
   "source": [
    "interactions(1930,\"Orange\")"
   ]
  },
  {
   "cell_type": "markdown",
   "metadata": {
    "_uuid": "e3367e5df878bcfa49e081ce7bec7c71c5d28ad2"
   },
   "source": [
    "# Total world cup matches played in each country"
   ]
  },
  {
   "cell_type": "code",
   "execution_count": null,
   "metadata": {
    "_kg_hide-input": true,
    "_uuid": "5989d70a61ba54f044a7937de958bf47ee9ef0de"
   },
   "outputs": [],
   "source": [
    "ysc = matches[[\"Year\",\"Stadium\",\"City\",\"MatchID\"]]\n",
    "cy  = cups[[\"Year\",\"Country\"]]\n",
    "ysc = ysc.merge(cy,left_on=\"Year\",right_on=\"Year\",how=\"left\")\n",
    "#ysc[\"Stadium\"] = ysc[\"Stadium\"].str.split(\",\").str[0]\n",
    "ysc[\"std_cty\"] = ysc[\"Stadium\"] +\" , \"+ ysc[\"City\"]\n",
    "\n",
    "cnt_mat  =  ysc.groupby(\"Country\")[\"MatchID\"].nunique().reset_index()\n",
    "cnt_mat  =  cnt_mat.sort_values(by= \"MatchID\",ascending=False)\n",
    "cnt_mat\n",
    "\n",
    "\n",
    "plt.figure(figsize=(10,8))\n",
    "\n",
    "ax = sns.barplot(\"MatchID\",\"Country\",\n",
    "                data=cnt_mat,\n",
    "                linewidth=1,\n",
    "                edgecolor=\"k\"*cnt_mat[\"Country\"].nunique())\n",
    "\n",
    "for i,j in enumerate(\"Matches : \" + cnt_mat[\"MatchID\"].astype(str)):\n",
    "    ax.text(.7 ,i,j)\n",
    "\n",
    "plt.title(\"Total world cup matches played in each country\",color='b')\n",
    "plt.grid(True)\n",
    "plt.xlabel(\"matches\")\n",
    "plt.show()"
   ]
  },
  {
   "cell_type": "markdown",
   "metadata": {
    "_uuid": "4db2a17a8978a069dff23ab45dacc80f45d484b5"
   },
   "source": [
    "# Stadiums by countries"
   ]
  },
  {
   "cell_type": "code",
   "execution_count": null,
   "metadata": {
    "_kg_hide-input": true,
    "_uuid": "977aaebb5839b0e52dd1159b88f612a35507dc2a",
    "collapsed": true
   },
   "outputs": [],
   "source": [
    "ysc[\"Country_yr\"] = ysc[\"Country\"] + \" - \" + ysc[\"Year\"].astype(str)\n",
    "\n",
    "\n",
    "def stadium_country(country,color):\n",
    "    \n",
    "    dat2 = ysc[ysc[\"Country\"] == country]\n",
    "    \n",
    "    plt.figure(figsize=(10,8))\n",
    "\n",
    "    H = nx.from_pandas_dataframe(dat2,\"Country\",\"Stadium\")\n",
    "\n",
    "    nx.draw_kamada_kawai(H,\n",
    "                         with_labels=True,\n",
    "                         node_size  = 2500,\n",
    "                         node_color = color,\n",
    "                         node_shape = \"s\",\n",
    "                         edgecolor  = \"k\",\n",
    "                         linewidths  = 7 ,\n",
    "                         font_size  = 13 ,\n",
    "                         alpha=.8,\n",
    "                         weight = \"bold\")"
   ]
  },
  {
   "cell_type": "markdown",
   "metadata": {
    "_uuid": "9cf7fae2e5d5f73cecfbcf3a54585f9146f64d00"
   },
   "source": [
    "# Stadiums - Germany"
   ]
  },
  {
   "cell_type": "code",
   "execution_count": null,
   "metadata": {
    "_kg_hide-input": true,
    "_uuid": "9f3342d9917796dc24776d23e384b51bd51a1bd1"
   },
   "outputs": [],
   "source": [
    "stadium_country(\"Germany\",\"c\")"
   ]
  },
  {
   "cell_type": "markdown",
   "metadata": {
    "_uuid": "8f7ccca8fd1ee630f1d7db63ddf665b535248eb9"
   },
   "source": [
    "# Stadiums - Brazil"
   ]
  },
  {
   "cell_type": "code",
   "execution_count": null,
   "metadata": {
    "_kg_hide-input": true,
    "_uuid": "3f7c8fabea1021dcba2ac9267d407012989e183b"
   },
   "outputs": [],
   "source": [
    "stadium_country(\"Brazil\",\"b\")"
   ]
  },
  {
   "cell_type": "markdown",
   "metadata": {
    "_uuid": "4e69e349b93ac8a487216cb2fd4df704e4ed2375"
   },
   "source": [
    "# Stadiums - Mexico"
   ]
  },
  {
   "cell_type": "code",
   "execution_count": null,
   "metadata": {
    "_kg_hide-input": true,
    "_uuid": "b346210dd74c3ca3b08f605ae5f2f3d0f9185402"
   },
   "outputs": [],
   "source": [
    "stadium_country(\"Mexico\",\"r\")"
   ]
  },
  {
   "cell_type": "markdown",
   "metadata": {
    "_uuid": "3690585677fdfbc59366065e1df971a59a8d3131"
   },
   "source": [
    "# Stadiums - USA"
   ]
  },
  {
   "cell_type": "code",
   "execution_count": null,
   "metadata": {
    "_kg_hide-input": true,
    "_uuid": "a8ebf2453a869c2299aa191dac440c9d15f5a6eb"
   },
   "outputs": [],
   "source": [
    "stadium_country(\"USA\",\"grey\")"
   ]
  },
  {
   "cell_type": "markdown",
   "metadata": {
    "_uuid": "ba4e2c59063ce822a5c700478bd957233a535af5"
   },
   "source": [
    "# Player names"
   ]
  },
  {
   "cell_type": "code",
   "execution_count": null,
   "metadata": {
    "_kg_hide-input": true,
    "_uuid": "5345435e3539d812725b99bb5e2dad5c814c6891"
   },
   "outputs": [],
   "source": [
    "wrds = players[\"Player Name\"].value_counts().keys()\n",
    "\n",
    "wc = WordCloud(scale=5,max_words=1000,colormap=\"rainbow\").generate(\" \".join(wrds))\n",
    "plt.figure(figsize=(13,14))\n",
    "plt.imshow(wc,interpolation=\"bilinear\")\n",
    "plt.axis(\"off\")\n",
    "plt.title(\"Player names - word cloud\",color='b')\n",
    "plt.show()"
   ]
  },
  {
   "cell_type": "markdown",
   "metadata": {
    "_uuid": "1566a9d9cc134bbf4dea918ddbed7aca225ebb18"
   },
   "source": [
    "# Coach names"
   ]
  },
  {
   "cell_type": "code",
   "execution_count": null,
   "metadata": {
    "_kg_hide-input": true,
    "_uuid": "f2f755c130c015290fcbef998a42f0db86851548"
   },
   "outputs": [],
   "source": [
    "wrds1 = players[\"Coach Name\"].str.split(\"(\").str[0].value_counts().keys()\n",
    "\n",
    "wc1 = WordCloud(scale=5,max_words=1000,colormap=\"rainbow\",background_color=\"black\").generate(\" \".join(wrds1))\n",
    "plt.figure(figsize=(13,14))\n",
    "plt.imshow(wc1,interpolation=\"bilinear\")\n",
    "plt.axis(\"off\")\n",
    "plt.title(\"Coach names- word cloud\",color='b')\n",
    "plt.show()"
   ]
  },
  {
   "cell_type": "markdown",
   "metadata": {
    "_uuid": "243628a012955b3efe97e9cb3aad49467618b71a"
   },
   "source": [
    "# The Golden Goal  : \n",
    "* Golden goal or golden point is a rule used in association football, bandy, lacrosse, field hockey, ice hockey, floorball and korfball to decide the winner of a match (typically a knock-out match) in which scores are equal at the end of normal time. It is a type of sudden death.\n",
    "\n",
    "* From the Round of 16 on, matches which are drawn after 90 minutes will go into extra time (2 x 15 minutes). The first team to score a goal in extra time will immediately be declared the winner. If there is no goal scored in 30 minutes of extra time, the match will be settled in the customary manner by a penalty shoot-out."
   ]
  },
  {
   "cell_type": "code",
   "execution_count": null,
   "metadata": {
    "_kg_hide-input": true,
    "_uuid": "0a210975fe5fa472ab239212a9ed881364006a20"
   },
   "outputs": [],
   "source": [
    "win_conditions = matches[matches[\"Win conditions\"] != \" \"]\n",
    "extra_time    = win_conditions[win_conditions[\"Win conditions\"].str.contains(\"extra time\")]\n",
    "penalties     = win_conditions[win_conditions[\"Win conditions\"].str.contains(\"penalties\")]\n",
    "\n",
    "gold_goal     = win_conditions[win_conditions[\"Win conditions\"].str.contains(\"Golden Goal\")]\n",
    "gold_goal.index  = gold_goal[\"MatchID\"].astype(int)\n",
    "\n",
    "gg= gold_goal[[\"Datetime\",\"Stage\",\"Home Team Name\",\n",
    "              \"Away Team Name\",\"Home Team Goals\",\n",
    "              \"Away Team Goals\",\"first half home goals\",\n",
    "              \"second half home goals\",\"win_team\",\"Win conditions\"]].transpose()\n",
    "gg.style.set_properties(**{\"background-color\":\"black\",\n",
    "                           \"color\" : \"white\",\n",
    "                           \"border-color\" : \"lawngreen\"}).set_caption(\"Matches with Golden Goals\")"
   ]
  },
  {
   "cell_type": "markdown",
   "metadata": {
    "_uuid": "3837a110e1e046cc1291f9b21e2331c1b6faddd7"
   },
   "source": [
    "# Matches with penalty shoot-outs"
   ]
  },
  {
   "cell_type": "code",
   "execution_count": null,
   "metadata": {
    "_kg_hide-input": true,
    "_uuid": "535275d6dd02f3ecd3e0f8435158d5bf9bf8f56e"
   },
   "outputs": [],
   "source": [
    "penalties_df = pd.read_csv(r\"../input/penalties/penalties.csv\", encoding='iso-8859-1')\n",
    "\n",
    "\n",
    "def clean(data):\n",
    "    data[\"F\"] = data[\"F\"].str.replace(\"\",\"-\")\n",
    "    data[\"S\"] = data[\"S\"].str.replace(\"\",\"-\")\n",
    "    data[\"Winner\"] = data[\"Winner\"].str.replace(\"West Germany\",\"Germany\")\n",
    "    data[\"winner_penalties\"] = data[\"S\"].str.split(\"-\").str[0]\n",
    "    data[\"loser_penalties\"]  = data[\"S\"].str.split(\"-\").str[1]\n",
    "    data[\"Date\"]   = pd.to_datetime(data[\"Date\"],format=\"%d-%b-%y\") \n",
    "    data[\"year\"]   = pd.DatetimeIndex(data[\"Date\"]).year\n",
    "    data = data.rename(columns = {\"S\":\"penalties_scored\",\"F\":\"final_score\"})\n",
    "    return data\n",
    "\n",
    "\n",
    "penalties_df = clean(penalties_df)\n",
    "\n",
    "win = penalties_df[\"Winner\"].value_counts().reset_index()\n",
    "win.columns = [\"team\",\"count\"]\n",
    "\n",
    "los = penalties_df[\"Loser\"].value_counts().reset_index()\n",
    "los.columns = [\"team\",\"count\"]\n",
    "\n",
    "print (\"Total matches with penalties :  \" ,penalties_df.shape[0])"
   ]
  },
  {
   "cell_type": "markdown",
   "metadata": {
    "_uuid": "ab8108122213d1160479027ec494f1ca5dc19bb0"
   },
   "source": [
    "# penalty matches by year\n",
    "*  Penalty shoot-outs were introduced as tie-breakers in the 1978 World Cup but did not occur before 1982."
   ]
  },
  {
   "cell_type": "code",
   "execution_count": null,
   "metadata": {
    "_kg_hide-input": true,
    "_uuid": "6cf478f04da6135c198f4ed67f515a76a053464c"
   },
   "outputs": [],
   "source": [
    "yr_pl = penalties_df[\"year\"].value_counts().reset_index()\n",
    "yr_pl.columns = [\"year\",\"count\"]\n",
    "yr_pl = yr_pl.sort_values(by=\"year\",ascending=True)\n",
    "yr_pl\n",
    "\n",
    "plt.figure(figsize=(10,6))\n",
    "fig = sns.pointplot(\"year\",\"count\",color=\"w\",\n",
    "                      data=yr_pl)\n",
    "plt.yticks(np.arange(0,6,1))\n",
    "plt.title(\"penalty matches by year\",color='b')\n",
    "fig.set_facecolor(\"k\")\n",
    "plt.grid(True,alpha=.4)\n",
    "plt.show()"
   ]
  },
  {
   "cell_type": "markdown",
   "metadata": {
    "_uuid": "fb1b9464d7a001f96a124e9f1656de71783ac18c"
   },
   "source": [
    "# Penalty matches by round"
   ]
  },
  {
   "cell_type": "code",
   "execution_count": null,
   "metadata": {
    "_kg_hide-input": true,
    "_uuid": "f9fe2017b01e5a4c850b5f0d76a5e30aac10aade"
   },
   "outputs": [],
   "source": [
    "plt.figure(figsize=(6,6))\n",
    "\n",
    "penalties_df[\"Round\"].value_counts().plot(kind=\"bar\",\n",
    "                                          linewidth =1,\n",
    "                                          figsize=(10,7),\n",
    "                                          edgecolor=\"k\"*penalties_df[\"Round\"].nunique())\n",
    "plt.xticks(rotation = 0)\n",
    "plt.title(\"Penalty matches by round\",color='b')\n",
    "plt.yticks(np.arange(0,12,1))\n",
    "plt.show()"
   ]
  },
  {
   "cell_type": "markdown",
   "metadata": {
    "_uuid": "50b769aaa97b36dd712c5ac8328506763067b8dc"
   },
   "source": [
    "# Penalty shoot outs in final"
   ]
  },
  {
   "cell_type": "code",
   "execution_count": null,
   "metadata": {
    "_kg_hide-input": true,
    "_uuid": "a142545856418554afec533295afacfab531d4a3"
   },
   "outputs": [],
   "source": [
    "penalties_df[penalties_df[\"Round\"] == \"Final\"].style.set_properties(**{\"background-color\":\"black\",\n",
    "                                                                       \"color\":\"yellow\",\n",
    "                                                                        \"border-color\":\"white\"}).set_caption(\"Penalty shoot outs in final\")"
   ]
  },
  {
   "cell_type": "markdown",
   "metadata": {
    "_uuid": "c7e78db7e3b216a5cea55b2410a4c2a0530a9f02"
   },
   "source": [
    "# Most(penalties) Played countries:"
   ]
  },
  {
   "cell_type": "code",
   "execution_count": null,
   "metadata": {
    "_kg_hide-input": true,
    "_uuid": "a0022a4c033d10dd65494759e906ab3bbb762fa7"
   },
   "outputs": [],
   "source": [
    "mst_plyd  = pd.concat([win,los],axis=0)\n",
    "mst_plyd  = mst_plyd.groupby(\"team\")[\"count\"].sum().reset_index().sort_values(by = \"count\",ascending =False)\n",
    "mst_plyd\n",
    "\n",
    "plt.figure(figsize=(9,11))\n",
    "ax = sns.barplot(\"count\",\"team\",\n",
    "                 data=mst_plyd,\n",
    "                 palette = \"BuPu\",\n",
    "                 linewidth=1,\n",
    "                 edgecolor=\"k\"*len(mst_plyd))\n",
    "\n",
    "for i,j in enumerate(\"Matches : \" + mst_plyd[\"count\"].astype(str)):\n",
    "    ax.text(.1,i,j,weight = \"bold\")\n",
    "\n",
    "plt.title(\"countries with most penalties played\",color='b')\n",
    "\n",
    "plt.grid(True)\n",
    "plt.show()"
   ]
  },
  {
   "cell_type": "markdown",
   "metadata": {
    "_uuid": "4612730fe3aaad943c1fbe1be6ab439a731d7621"
   },
   "source": [
    "# countries with most wins by penalties"
   ]
  },
  {
   "cell_type": "code",
   "execution_count": null,
   "metadata": {
    "_kg_hide-input": true,
    "_uuid": "f25ca2487e3820073309d1367b4559d0d738274b"
   },
   "outputs": [],
   "source": [
    "win\n",
    "plt.figure(figsize=(8,8))\n",
    "\n",
    "ax = sns.barplot(\"count\",\"team\",\n",
    "            data=win,\n",
    "            color= \"lime\",\n",
    "            linewidth = 1,\n",
    "            edgecolor = \"k\"*len(win))\n",
    "plt.grid(True)\n",
    "plt.title(\"countries with most wins by penalties\",color='b')\n",
    "for i,j in enumerate(\"wins  : \" + win[\"count\"].astype(str)):\n",
    "    ax.text(.1,i,j)\n",
    "plt.show()"
   ]
  },
  {
   "cell_type": "markdown",
   "metadata": {
    "_uuid": "a44b09edbb6d89c3a5340fe619c20d24d5c0d49b"
   },
   "source": [
    "# countries with most loses by penalties"
   ]
  },
  {
   "cell_type": "code",
   "execution_count": null,
   "metadata": {
    "_kg_hide-input": true,
    "_uuid": "3b9085d7e8aa453574edc84ad9b553b436c5cf47"
   },
   "outputs": [],
   "source": [
    "plt.figure(figsize=(8,8))\n",
    "\n",
    "ax = sns.barplot(\"count\",\"team\",\n",
    "            data=los,\n",
    "            color= \"tomato\",\n",
    "            linewidth = 1,\n",
    "            edgecolor = \"k\"*len(los))\n",
    "plt.grid(True)\n",
    "plt.title(\"countries with most loses by penalties\",color='b')\n",
    "for i,j in enumerate(\"loses  : \" + los[\"count\"].astype(str)):\n",
    "    ax.text(.1,i,j,color=\"white\")\n",
    "plt.show()"
   ]
  },
  {
   "cell_type": "markdown",
   "metadata": {
    "_uuid": "c05d6446ed2346bcc8b1a8c9ef61981875d9f677"
   },
   "source": [
    "# penalties shoot out result by countries"
   ]
  },
  {
   "cell_type": "code",
   "execution_count": null,
   "metadata": {
    "_kg_hide-input": true,
    "_uuid": "d36328468854f53201d65ea566bf07aa944c1639"
   },
   "outputs": [],
   "source": [
    " shoot = mst_plyd.merge(win,left_on=\"team\",right_on=\"team\",how=\"left\")\n",
    "shoot = shoot.merge(los,left_on=\"team\",right_on=\"team\",how=\"left\")\n",
    "shoot = shoot.rename(columns={\"count_x\":\"matches\",\n",
    "                              \"count_y\":\"wins\",\n",
    "                              \"count\" :\"loses\"})\n",
    "shoot = shoot.fillna(0)\n",
    "shoot[\"wins\"]  = shoot[\"wins\"].astype(int)\n",
    "shoot[\"loses\"] = shoot[\"loses\"].astype(int)\n",
    "shoot.index = shoot[\"team\"]\n",
    "shoot = shoot.sort_values(by = \"matches\" ,ascending=True)\n",
    "\n",
    "\n",
    "shoot[[\"wins\",\"loses\"]].plot(kind=\"barh\",\n",
    "                             linewidth=1,\n",
    "                             colors = [\"b\",\"r\"],\n",
    "                             edgecolor = \"w\"*len(shoot),\n",
    "                             stacked = True,\n",
    "                             width=.7,\n",
    "                             figsize=(8,12))\n",
    "\n",
    "plt.legend(loc=\"center right\", prop = {\"size\" : 15})\n",
    "plt.title(\"penalties shoot out result by countries\",color='b')\n",
    "plt.yticks(color= \"k\",fontsize =12)\n",
    "plt.xlabel(\"count\")\n",
    "plt.show()"
   ]
  },
  {
   "cell_type": "markdown",
   "metadata": {
    "_uuid": "4dd62fde3630ffd2175067cbbdb5b8d22eb39cb0"
   },
   "source": [
    "# \"Goals per game for countries playing in 2018 quarter finals"
   ]
  },
  {
   "cell_type": "code",
   "execution_count": null,
   "metadata": {
    "_kg_hide-input": true,
    "_uuid": "7f3c4d4716236eefea3a4f707a9c9305d3d70ebd"
   },
   "outputs": [],
   "source": [
    "cou = [\"Uruguay\",\"France\",\n",
    "       \"Brazil\" , \"Belgium\",\n",
    "       \"Sweden\" , \"England\",\n",
    "       \"Russia\" , \"Croatia\" ]\n",
    "\n",
    "qtr = mat_new[mat_new[\"team\"].isin(cou)]\n",
    "\n",
    "plt.figure(figsize=(8,8))\n",
    "ax = sns.barplot(y=\"team\",x=\"goals_per_match\",\n",
    "                data=qtr,\n",
    "                linewidth=1,\n",
    "                palette = \"husl\",\n",
    "                alpha=.7,\n",
    "                edgecolor = \"k\"*len(qtr))\n",
    "\n",
    "for i,j in enumerate(\"Goals per game : \" + np.around(qtr[\"goals_per_match\"],2).astype(str)):\n",
    "    ax.text(.1,i,j,weight = \"bold\" ,fontsize =12)\n",
    "plt.grid(True)\n",
    "plt.title(\"Goals per game for countries playing in 2018 quarter finals\")\n",
    "plt.show()"
   ]
  },
  {
   "cell_type": "markdown",
   "metadata": {
    "_uuid": "16901a1b237b31c13cb4322e45f29754acdb008f"
   },
   "source": [
    "# Match outcomes for countries playing 2018 quarter finals"
   ]
  },
  {
   "cell_type": "code",
   "execution_count": null,
   "metadata": {
    "_kg_hide-input": true,
    "_uuid": "ab1564a8c0a1c27404d8fd6181c38c32482a78ca"
   },
   "outputs": [],
   "source": [
    "mat_new\n",
    "\n",
    "cou = [\"Uruguay\",\"France\",\n",
    "       \"Brazil\" , \"Belgium\",\n",
    "       \"Sweden\" , \"England\",\n",
    "       \"Russia\" , \"Croatia\" ]\n",
    "\n",
    "length = len(cou)\n",
    "\n",
    "qtr = mat_new[mat_new[\"team\"].isin(cou)]\n",
    "\n",
    "plt.figure(figsize=(12,25))\n",
    "\n",
    "for i,j in itertools.zip_longest(cou,range(length)) : \n",
    "    plt.subplot(4,2,j+1)\n",
    "    \n",
    "    lab = [\"wins\",\"draws\",\"loses\"]\n",
    "    \n",
    "    plt.pie(qtr[qtr[\"team\"] == i][lab].values.ravel(),\n",
    "            labels  = lab , \n",
    "            autopct = \"%1.0f%%\",\n",
    "            shadow  = True,\n",
    "            wedgeprops = {\"linewidth\":3.5,\"edgecolor\":\"white\"},\n",
    "            colors  = [\"lawngreen\",\"royalblue\",\"tomato\"],)\n",
    "    \n",
    "    circ = plt.Circle((0,0),.7,color=\"white\")\n",
    "    plt.gca().add_artist(circ)\n",
    "    \n",
    "    plt.title(i,color=\"navy\",fontsize=14)\n",
    "    "
   ]
  },
  {
   "cell_type": "markdown",
   "metadata": {
    "_uuid": "bbcb055cb1ac204ad0686a655a2cc797dd34039e"
   },
   "source": [
    "# Team interactions comparator"
   ]
  },
  {
   "cell_type": "code",
   "execution_count": null,
   "metadata": {
    "_kg_hide-input": true,
    "_uuid": "e1bf0c4b51d0272457961c98cafa90bc4183d3a5",
    "collapsed": true
   },
   "outputs": [],
   "source": [
    "#Team interactions comparator\n",
    "\n",
    "def teams_performance(team1,team2):\n",
    "    \n",
    "    list_teams = [team1,team2]\n",
    "    \n",
    "    df_new = matches[(matches[\"Home Team Name\"].isin(list_teams))]\n",
    "    df_new = df_new[df_new[\"Away Team Name\"].isin(list_teams)]\n",
    "    \n",
    "    print (\"Total Matches       : \", df_new.shape[0])\n",
    "    print (\"Match Years         : \", df_new[\"Year\"].unique().tolist())\n",
    "    print (\"Stadiums played     : \", df_new[\"Stadium\"].unique().tolist(),\"\\n\")\n",
    "    print (\"Match Cities        : \", df_new[\"City\"].unique().tolist())\n",
    "    print (\"Average Attendance  : \", np.around(df_new[\"Attendance\"].mean(),0) , \"per game.\")\n",
    "    print (\"Average total goals : \", np.around(df_new[\"total_goals\"].mean(),2), \"goals per game.\")\n",
    "    print (\"-----\")\n",
    "    print (\"WINS :\") \n",
    "    print (\"-----\")\n",
    "    print (df_new[\"win_team\"].value_counts().to_string(header = False))"
   ]
  },
  {
   "cell_type": "markdown",
   "metadata": {
    "_uuid": "3bca66d75c95d9270e472e1e02520201c7ba1ea7"
   },
   "source": [
    "# Brazil - Germany"
   ]
  },
  {
   "cell_type": "code",
   "execution_count": null,
   "metadata": {
    "_kg_hide-input": true,
    "_uuid": "6a01e9097481c15a5faabd750f11b12fe5ad8234"
   },
   "outputs": [],
   "source": [
    "teams_performance(\"Germany\",\"Brazil\")"
   ]
  },
  {
   "cell_type": "markdown",
   "metadata": {
    "_uuid": "645a71cdb39087ff44111e7419cd683078a6efce",
    "collapsed": true
   },
   "source": [
    "# Belgium - England"
   ]
  },
  {
   "cell_type": "code",
   "execution_count": null,
   "metadata": {
    "_kg_hide-input": true,
    "_uuid": "1ab36bee5d047841530b2f947795428f7d57d036"
   },
   "outputs": [],
   "source": [
    "teams_performance(\"Belgium\",\"England\")"
   ]
  },
  {
   "cell_type": "markdown",
   "metadata": {
    "_uuid": "c4c49fcb738a388fc66c44e900e0e769e8f60784"
   },
   "source": [
    "# Croatia - France"
   ]
  },
  {
   "cell_type": "code",
   "execution_count": null,
   "metadata": {
    "_kg_hide-input": true,
    "_uuid": "760c78b52978708ae5caddc14b61d302ccc31145"
   },
   "outputs": [],
   "source": [
    "teams_performance(\"Croatia\",\"France\")"
   ]
  },
  {
   "cell_type": "code",
   "execution_count": null,
   "metadata": {
    "_uuid": "b8c7ffe6dc5cae3f75a417e365d1275b5b1aefb8",
    "collapsed": true
   },
   "outputs": [],
   "source": []
  }
 ],
 "metadata": {
  "kernelspec": {
   "display_name": "Python 3",
   "language": "python",
   "name": "python3"
  },
  "language_info": {
   "codemirror_mode": {
    "name": "ipython",
    "version": 3
   },
   "file_extension": ".py",
   "mimetype": "text/x-python",
   "name": "python",
   "nbconvert_exporter": "python",
   "pygments_lexer": "ipython3",
   "version": "3.6.9"
  }
 },
 "nbformat": 4,
 "nbformat_minor": 1
}
